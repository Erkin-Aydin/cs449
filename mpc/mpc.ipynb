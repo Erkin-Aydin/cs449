{
 "cells": [
  {
   "cell_type": "code",
   "execution_count": 2,
   "metadata": {},
   "outputs": [],
   "source": [
    "from robotic import ry\n",
    "import numpy as np\n",
    "import time\n",
    "from spatial_bicycle_models import BicycleModel"
   ]
  },
  {
   "cell_type": "markdown",
   "metadata": {},
   "source": [
    "###########################################PART-1 STARTS HERE##########################################"
   ]
  },
  {
   "cell_type": "code",
   "execution_count": 3,
   "metadata": {},
   "outputs": [],
   "source": [
    "C = ry.Config()\n",
    "C.addFile('cargobot_base.g')\n",
    "C.addFile('maze.g')\n",
    "\n",
    "qHome = C.getJointState()\n",
    "C.setJointState(qHome)"
   ]
  },
  {
   "cell_type": "markdown",
   "metadata": {},
   "source": [
    "Get Final Pose with KOMO"
   ]
  },
  {
   "cell_type": "code",
   "execution_count": 5,
   "metadata": {},
   "outputs": [
    {
     "name": "stdout",
     "output_type": "stream",
     "text": [
      "{ time: 0.010529, evals: 54, done: 1, feasible: 0, sos: 29.5425, f: 0, ineq: 0, eq: 5.5 }\n",
      "size of path: (1, 3)\n"
     ]
    },
    {
     "data": {
      "text/plain": [
       "0"
      ]
     },
     "execution_count": 5,
     "metadata": {},
     "output_type": "execute_result"
    }
   ],
   "source": [
    "komo = ry.KOMO(C, 1, 1, 2, True)\n",
    "komo.addControlObjective([], 0, 1e-1)\n",
    "komo.addControlObjective([], 2, 1e0)\n",
    "komo.addObjective([], ry.FS.accumulatedCollisions, [], ry.OT.eq, [1e2])\n",
    "komo.addObjective([1], ry.FS.positionDiff, ['base', 'goal_area'], ry.OT.eq, [1e2])\n",
    "\n",
    "ret = ry.NLP_Solver(komo.nlp(), verbose=0).solve()\n",
    "print(ret)\n",
    "q = komo.getPath()\n",
    "print('size of path:', q.shape)\n",
    "\n",
    "qT = komo.getPath()[0]\n",
    "C.setJointState(qT)\n",
    "C.view(False, \"IK solution\")\n"
   ]
  },
  {
   "cell_type": "markdown",
   "metadata": {},
   "source": [
    "MPC"
   ]
  },
  {
   "cell_type": "code",
   "execution_count": 9,
   "metadata": {},
   "outputs": [
    {
     "ename": "AttributeError",
     "evalue": "'numpy.ndarray' object has no attribute 'waypoints'",
     "output_type": "error",
     "traceback": [
      "\u001b[0;31m---------------------------------------------------------------------------\u001b[0m",
      "\u001b[0;31mAttributeError\u001b[0m                            Traceback (most recent call last)",
      "Cell \u001b[0;32mIn[9], line 2\u001b[0m\n\u001b[1;32m      1\u001b[0m \u001b[38;5;66;03m# Instantiate motion model\u001b[39;00m\n\u001b[0;32m----> 2\u001b[0m car \u001b[38;5;241m=\u001b[39m \u001b[43mBicycleModel\u001b[49m\u001b[43m(\u001b[49m\u001b[43mlength\u001b[49m\u001b[38;5;241;43m=\u001b[39;49m\u001b[38;5;241;43m0.30\u001b[39;49m\u001b[43m,\u001b[49m\u001b[43m \u001b[49m\u001b[43mwidth\u001b[49m\u001b[38;5;241;43m=\u001b[39;49m\u001b[38;5;241;43m0.20\u001b[39;49m\u001b[43m,\u001b[49m\u001b[43m \u001b[49m\u001b[43mreference_path\u001b[49m\u001b[38;5;241;43m=\u001b[39;49m\u001b[43mkomo\u001b[49m\u001b[38;5;241;43m.\u001b[39;49m\u001b[43mgetPath\u001b[49m\u001b[43m(\u001b[49m\u001b[43m)\u001b[49m\u001b[43m,\u001b[49m\u001b[43m \u001b[49m\u001b[43mTs\u001b[49m\u001b[38;5;241;43m=\u001b[39;49m\u001b[38;5;241;43m0.05\u001b[39;49m\u001b[43m)\u001b[49m\n\u001b[1;32m      5\u001b[0m \u001b[38;5;66;03m# Define cost matrices and constraints\u001b[39;00m\n\u001b[1;32m      6\u001b[0m  \u001b[38;5;66;03m##############\u001b[39;00m\n\u001b[1;32m      7\u001b[0m \u001b[38;5;66;03m# Controller #\u001b[39;00m\n\u001b[1;32m      8\u001b[0m \u001b[38;5;66;03m##############\u001b[39;00m\n\u001b[1;32m     10\u001b[0m N \u001b[38;5;241m=\u001b[39m \u001b[38;5;241m30\u001b[39m\n",
      "File \u001b[0;32m~/robotics/cs449/mpc/spatial_bicycle_models.py:333\u001b[0m, in \u001b[0;36mBicycleModel.__init__\u001b[0;34m(self, reference_path, length, width, Ts)\u001b[0m\n\u001b[1;32m    323\u001b[0m \u001b[38;5;250m\u001b[39m\u001b[38;5;124;03m\"\"\"\u001b[39;00m\n\u001b[1;32m    324\u001b[0m \u001b[38;5;124;03mSimplified Spatial Bicycle Model. Spatial Reformulation of Kinematic\u001b[39;00m\n\u001b[1;32m    325\u001b[0m \u001b[38;5;124;03mBicycle Model. Uses Simplified Spatial State.\u001b[39;00m\n\u001b[0;32m   (...)\u001b[0m\n\u001b[1;32m    329\u001b[0m \u001b[38;5;124;03m:param Ts: sampling time of model in s\u001b[39;00m\n\u001b[1;32m    330\u001b[0m \u001b[38;5;124;03m\"\"\"\u001b[39;00m\n\u001b[1;32m    332\u001b[0m \u001b[38;5;66;03m# Initialize base class\u001b[39;00m\n\u001b[0;32m--> 333\u001b[0m \u001b[38;5;28;43msuper\u001b[39;49m\u001b[43m(\u001b[49m\u001b[43mBicycleModel\u001b[49m\u001b[43m,\u001b[49m\u001b[43m \u001b[49m\u001b[38;5;28;43mself\u001b[39;49m\u001b[43m)\u001b[49m\u001b[38;5;241;43m.\u001b[39;49m\u001b[38;5;21;43m__init__\u001b[39;49m\u001b[43m(\u001b[49m\u001b[43mreference_path\u001b[49m\u001b[43m,\u001b[49m\u001b[43m \u001b[49m\u001b[43mlength\u001b[49m\u001b[38;5;241;43m=\u001b[39;49m\u001b[43mlength\u001b[49m\u001b[43m,\u001b[49m\n\u001b[1;32m    334\u001b[0m \u001b[43m                                   \u001b[49m\u001b[43mwidth\u001b[49m\u001b[38;5;241;43m=\u001b[39;49m\u001b[43mwidth\u001b[49m\u001b[43m,\u001b[49m\u001b[43m \u001b[49m\u001b[43mTs\u001b[49m\u001b[38;5;241;43m=\u001b[39;49m\u001b[43mTs\u001b[49m\u001b[43m)\u001b[49m\n\u001b[1;32m    336\u001b[0m \u001b[38;5;66;03m# Initialize spatial state\u001b[39;00m\n\u001b[1;32m    337\u001b[0m \u001b[38;5;28mself\u001b[39m\u001b[38;5;241m.\u001b[39mspatial_state \u001b[38;5;241m=\u001b[39m SimpleSpatialState()\n",
      "File \u001b[0;32m~/robotics/cs449/mpc/spatial_bicycle_models.py:146\u001b[0m, in \u001b[0;36mSpatialBicycleModel.__init__\u001b[0;34m(self, reference_path, length, width, Ts)\u001b[0m\n\u001b[1;32m    143\u001b[0m \u001b[38;5;28mself\u001b[39m\u001b[38;5;241m.\u001b[39mwp_id \u001b[38;5;241m=\u001b[39m \u001b[38;5;241m0\u001b[39m\n\u001b[1;32m    145\u001b[0m \u001b[38;5;66;03m# Set initial waypoint\u001b[39;00m\n\u001b[0;32m--> 146\u001b[0m \u001b[38;5;28mself\u001b[39m\u001b[38;5;241m.\u001b[39mcurrent_waypoint \u001b[38;5;241m=\u001b[39m \u001b[38;5;28;43mself\u001b[39;49m\u001b[38;5;241;43m.\u001b[39;49m\u001b[43mreference_path\u001b[49m\u001b[38;5;241;43m.\u001b[39;49m\u001b[43mwaypoints\u001b[49m[\u001b[38;5;28mself\u001b[39m\u001b[38;5;241m.\u001b[39mwp_id]\n\u001b[1;32m    148\u001b[0m \u001b[38;5;66;03m# Declare spatial state variable | Initialization in sub-class\u001b[39;00m\n\u001b[1;32m    149\u001b[0m \u001b[38;5;28mself\u001b[39m\u001b[38;5;241m.\u001b[39mspatial_state \u001b[38;5;241m=\u001b[39m \u001b[38;5;28;01mNone\u001b[39;00m\n",
      "\u001b[0;31mAttributeError\u001b[0m: 'numpy.ndarray' object has no attribute 'waypoints'"
     ]
    }
   ],
   "source": [
    "# Instantiate motion model\n",
    "car = BicycleModel(length=0.30, width=0.20, reference_path=komo.getPath(), Ts=0.05)\n",
    "\n",
    "\n",
    "# Define cost matrices and constraints\n",
    " ##############\n",
    "# Controller #\n",
    "##############\n",
    "\n",
    "N = 30\n",
    "Q = sparse.diags([1.0, 0.0, 0.0])\n",
    "R = sparse.diags([0.5, 0.0])\n",
    "QN = sparse.diags([1.0, 0.0, 0.0])\n",
    "\n",
    "v_max = 1.0  # m/s\n",
    "delta_max = 0.66  # rad\n",
    "ay_max = 4.0  # m/s^2\n",
    "\n",
    "# Instantiate MPC controller\n",
    "mpc_controller = MPC(model=car, N=N, Q=Q,\n",
    "                    R=R, QN=QN,\n",
    "                    StateConstraints=v_max,\n",
    "                    InputConstraints=delta_max,\n",
    "                    ay_max=ay_max)\n",
    "\n",
    "# Loop over time steps\n",
    "for _ in range(100):\n",
    "    # Get control signals from MPC controller\n",
    "    control_signals = mpc_controller.get_control()\n",
    "\n",
    "    # Apply control_signals to your system\n",
    "\n",
    "    # Optionally, visualize the predicted trajectory\n",
    "    mpc_controller.show_prediction()\n"
   ]
  },
  {
   "cell_type": "markdown",
   "metadata": {},
   "source": [
    "Trajectory Optimization via KOMO"
   ]
  },
  {
   "cell_type": "code",
   "execution_count": 6,
   "metadata": {},
   "outputs": [
    {
     "name": "stdout",
     "output_type": "stream",
     "text": [
      "last path: [[ 3.56821785e-05 -7.26208863e-04 -4.48713801e-06]\n",
      " [ 1.09649042e-04 -2.16855756e-03 -1.34446508e-05]\n",
      " [ 2.24503096e-04 -4.31697705e-03 -2.68557751e-05]\n",
      " ...\n",
      " [-4.12301230e+00 -3.20683646e+00  6.60080594e-01]\n",
      " [-4.15873110e+00 -3.22874231e+00  6.63031947e-01]\n",
      " [-4.19446114e+00 -3.25063894e+00  6.65983299e-01]]\n"
     ]
    }
   ],
   "source": [
    "C.setJointState(qHome)\n",
    "komo2 = ry.KOMO(C, 1, path.shape[0], 2, True)\n",
    "komo2.addControlObjective([], 0, 1e-1)\n",
    "komo2.addControlObjective([], 2, 1e0)\n",
    "komo2.addObjective([], ry.FS.accumulatedCollisions, [], ry.OT.eq, [1e2])\n",
    "komo2.addObjective([1], ry.FS.positionDiff, ['base', 'goal_area'], ry.OT.eq, [1e2])\n",
    "komo2.initWithPath_qOrg(path)\n",
    "\n",
    "ret = ry.NLP_Solver(komo2.nlp(), verbose=0).solve()\n",
    "q = komo2.getPath()\n",
    "print('last path:', q)\n",
    "\n",
    "# display the path for part 1\n",
    "for i in range(0, q.shape[0]):\n",
    "    C.setJointState(q[i])\n",
    "    C.view(False, f'waypoints{i}')\n",
    "    time.sleep(0.02)\n"
   ]
  },
  {
   "cell_type": "markdown",
   "metadata": {},
   "source": [
    "###########################################PART-1 ENDS HERE##########################################"
   ]
  }
 ],
 "metadata": {
  "kernelspec": {
   "display_name": "cs449",
   "language": "python",
   "name": "python3"
  },
  "language_info": {
   "codemirror_mode": {
    "name": "ipython",
    "version": 3
   },
   "file_extension": ".py",
   "mimetype": "text/x-python",
   "name": "python",
   "nbconvert_exporter": "python",
   "pygments_lexer": "ipython3",
   "version": "3.8.10"
  }
 },
 "nbformat": 4,
 "nbformat_minor": 2
}
