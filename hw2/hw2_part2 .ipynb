{
 "cells": [
  {
   "cell_type": "code",
   "execution_count": 1,
   "metadata": {},
   "outputs": [],
   "source": [
    "from robotic import ry\n",
    "import numpy as np\n",
    "import time"
   ]
  },
  {
   "cell_type": "markdown",
   "metadata": {},
   "source": [
    "###########################################PART-2 STARTS HERE##########################################"
   ]
  },
  {
   "cell_type": "code",
   "execution_count": 2,
   "metadata": {},
   "outputs": [],
   "source": [
    "C = ry.Config()\n",
    "C.addFile('cargobot.g')\n",
    "C.addFile('maze.g')\n",
    "C.addFile('cargo.g')\n",
    "\n",
    "\n",
    "qHome = C.getJointState()\n",
    "C.setJointState(qHome)"
   ]
  },
  {
   "cell_type": "markdown",
   "metadata": {},
   "source": [
    "Get Final Pose with KOMO"
   ]
  },
  {
   "cell_type": "code",
   "execution_count": 3,
   "metadata": {},
   "outputs": [
    {
     "name": "stdout",
     "output_type": "stream",
     "text": [
      "{ time: 0.000796, evals: 9, done: 1, feasible: 0, sos: 0.252601, f: 0, ineq: 0, eq: 142 }\n",
      "size of path: (1, 11)\n"
     ]
    },
    {
     "data": {
      "text/plain": [
       "0"
      ]
     },
     "execution_count": 3,
     "metadata": {},
     "output_type": "execute_result"
    }
   ],
   "source": [
    "komo = ry.KOMO(C, 1, 1, 2, True)\n",
    "komo.addControlObjective([], 0, 1e-1)\n",
    "komo.addControlObjective([], 2, 1e0)\n",
    "komo.addObjective([], ry.FS.accumulatedCollisions, [], ry.OT.eq, [1e2])\n",
    "komo.addObjective([1], ry.FS.positionDiff, ['base', 'cargo_handle'], ry.OT.eq, [1e2])\n",
    "komo.addObjective([1], ry.FS.jointState, [], ry.OT.eq, [1e2], [], order=1)\n",
    "\n",
    "ret = ry.NLP_Solver(komo.nlp(), verbose=0).solve()\n",
    "print(ret)\n",
    "q = komo.getPath()\n",
    "print('size of path:', q.shape)\n",
    "\n",
    "qT = komo.getPath()[0]\n",
    "C.setJointState(qT)\n",
    "C.view(False, \"IK solution\")\n"
   ]
  },
  {
   "cell_type": "markdown",
   "metadata": {},
   "source": [
    "RRT"
   ]
  },
  {
   "cell_type": "code",
   "execution_count": 4,
   "metadata": {},
   "outputs": [
    {
     "name": "stdout",
     "output_type": "stream",
     "text": [
      "rettttt:  { time: 0.000786, evals: 8, done: 1, feasible: 1, sos: -1, f: -1, ineq: -1, eq: -1 }\n",
      "path size: 14\n",
      "rettttt:  { time: 0.000972, evals: 9, done: 1, feasible: 1, sos: -1, f: -1, ineq: -1, eq: -1 }\n",
      "path size: 15\n"
     ]
    }
   ],
   "source": [
    "#define a path finding problem\n",
    "rrt = ry.PathFinder()\n",
    "rrt.setProblem(C, [qHome], [qT])\n",
    "\n",
    "for i in range(0, 2):\n",
    "    ret = rrt.solve()\n",
    "    print(\"rettttt: \", ret)\n",
    "    path = ret.x\n",
    "    print(\"path size:\", path.shape[0])\n",
    "    # display the path\n",
    "    for t in range(0, path.shape[0] - 1):\n",
    "        C.setJointState(path[t])\n",
    "        C.view()\n",
    "        time.sleep(0.002)"
   ]
  },
  {
   "cell_type": "markdown",
   "metadata": {},
   "source": [
    "Trajectory Optimization via KOMO"
   ]
  },
  {
   "cell_type": "code",
   "execution_count": 5,
   "metadata": {},
   "outputs": [
    {
     "name": "stdout",
     "output_type": "stream",
     "text": [
      "last path: [[-3.58299417e-02 -1.40722008e-02  2.34135930e-03 -1.34987795e-02\n",
      "  -5.11737376e-01  8.07180511e-03 -2.01147289e+00 -9.42658000e-03\n",
      "   1.99760336e+00 -5.06368853e-01  4.00000000e-02]\n",
      " [-3.88726353e-02 -6.55662504e-02  6.98031590e-03  6.78723530e-03\n",
      "  -5.08666626e-01 -1.83776854e-02 -2.00218714e+00 -1.02606891e-02\n",
      "   1.99633925e+00 -4.86104093e-01  3.94234079e-02]\n",
      " [-7.03034843e-02 -1.34661174e-01  1.61162089e-02 -9.49519545e-04\n",
      "  -5.04272405e-01 -6.36943859e-02 -1.99945887e+00 -1.39668076e-02\n",
      "   1.97952645e+00 -5.02170880e-01  3.96536730e-02]\n",
      " [-1.29873541e-01 -2.14886441e-01  2.99165502e-02  2.34093106e-02\n",
      "  -5.39640482e-01 -7.20612295e-02 -1.98653303e+00 -4.97988123e-03\n",
      "   2.00110753e+00 -5.09027014e-01  3.99333587e-02]\n",
      " [-1.96406771e-01 -3.01317506e-01  5.26492656e-02 -3.17686796e-03\n",
      "  -5.46852690e-01 -1.16530774e-01 -1.99244205e+00 -1.45857837e-02\n",
      "   1.98983092e+00 -4.93200507e-01  4.00000000e-02]\n",
      " [-2.92817151e-01 -3.81959423e-01  6.71806781e-02  1.57977971e-02\n",
      "  -5.35852375e-01 -1.41654771e-01 -1.98984997e+00 -1.56677751e-02\n",
      "   1.98593763e+00 -4.96296197e-01  4.00000000e-02]\n",
      " [-4.12332127e-01 -4.68534282e-01  1.13953089e-01  1.01257052e-02\n",
      "  -5.61384256e-01 -1.88152285e-01 -1.98681517e+00 -2.28437810e-02\n",
      "   1.98350344e+00 -5.01921156e-01  4.00000000e-02]\n",
      " [-4.83137303e-01 -5.64869394e-01  1.14317067e-01  4.83382672e-03\n",
      "  -5.70526458e-01 -2.16958794e-01 -1.98256407e+00 -3.87557657e-02\n",
      "   1.98208472e+00 -4.77454136e-01  4.00000000e-02]\n",
      " [-5.98419164e-01 -6.09485714e-01  1.58339163e-01  2.12142797e-02\n",
      "  -5.86992392e-01 -2.53819146e-01 -1.98388945e+00 -3.07157175e-02\n",
      "   1.98018346e+00 -5.13458853e-01  3.99030390e-02]\n",
      " [-7.24958663e-01 -6.97307896e-01  1.69978409e-01  2.09109783e-02\n",
      "  -5.90929343e-01 -2.98993660e-01 -1.98700332e+00 -2.51212843e-02\n",
      "   1.98917767e+00 -5.19800527e-01  3.36294790e-02]\n",
      " [-8.10925420e-01 -7.75968743e-01  1.85699339e-01  5.09122981e-03\n",
      "  -6.00456675e-01 -3.36674936e-01 -2.00089006e+00 -3.56275181e-02\n",
      "   1.98407662e+00 -5.11645978e-01  3.99770047e-02]\n",
      " [-9.06724287e-01 -8.41416495e-01  2.07716241e-01  1.22595645e-02\n",
      "  -6.23912889e-01 -3.61756462e-01 -1.98625123e+00 -5.04365450e-02\n",
      "   1.98018564e+00 -5.12730100e-01  4.00000000e-02]\n",
      " [-9.63776245e-01 -9.09023554e-01  2.08394713e-01  3.01985668e-03\n",
      "  -6.11092580e-01 -3.79412756e-01 -1.99299090e+00 -3.69592928e-02\n",
      "   1.97603911e+00 -5.17623994e-01  3.94561549e-02]\n",
      " [-9.82164311e-01 -9.56692610e-01  2.28022909e-01  2.01011048e-02\n",
      "  -6.19515544e-01 -3.94122722e-01 -1.99186510e+00 -4.78393243e-02\n",
      "   1.98393257e+00 -5.03556101e-01  3.89095774e-02]\n",
      " [-9.65640613e-01 -9.78737046e-01  2.45446918e-01  2.03368135e-02\n",
      "  -6.28215261e-01 -3.98593480e-01 -1.99206693e+00 -5.01501815e-02\n",
      "   1.98105742e+00 -5.14457963e-01  3.89406087e-02]]\n"
     ]
    }
   ],
   "source": [
    "C.setJointState(qHome)\n",
    "komo2 = ry.KOMO(C, 1, path.shape[0], 2, True)\n",
    "komo2.addControlObjective([], 0, 1e-1)\n",
    "komo2.addControlObjective([], 2, 1e0)\n",
    "komo2.addObjective([], ry.FS.accumulatedCollisions, [], ry.OT.eq, [1e2])\n",
    "komo2.addObjective([1], ry.FS.positionDiff, ['base', 'goal_area'], ry.OT.eq, [1e2])\n",
    "komo2.addObjective([1], ry.FS.jointState, [], ry.OT.eq, [1e1], [], order=1)\n",
    "komo2.initWithPath_qOrg(path)\n",
    "\n",
    "ret = ry.NLP_Solver(komo2.nlp(), verbose=0).solve()\n",
    "q = komo2.getPath()\n",
    "print('last path:', q)\n",
    "\n",
    "# display the path for part 1\n",
    "for i in range(0, q.shape[0]):\n",
    "    C.setJointState(q[i])\n",
    "    C.view(False, f'waypoints{i}')\n",
    "    time.sleep(0.02)\n"
   ]
  },
  {
   "cell_type": "markdown",
   "metadata": {},
   "source": [
    "###########################################PART-2 ENDS HERE##########################################"
   ]
  }
 ],
 "metadata": {
  "kernelspec": {
   "display_name": "cs449",
   "language": "python",
   "name": "python3"
  },
  "language_info": {
   "codemirror_mode": {
    "name": "ipython",
    "version": 3
   },
   "file_extension": ".py",
   "mimetype": "text/x-python",
   "name": "python",
   "nbconvert_exporter": "python",
   "pygments_lexer": "ipython3",
   "version": "3.10.13"
  }
 },
 "nbformat": 4,
 "nbformat_minor": 2
}
