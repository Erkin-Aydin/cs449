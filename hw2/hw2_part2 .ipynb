{
 "cells": [
  {
   "cell_type": "code",
   "execution_count": 1,
   "metadata": {},
   "outputs": [],
   "source": [
    "from robotic import ry\n",
    "import numpy as np\n",
    "import time"
   ]
  },
  {
   "cell_type": "markdown",
   "metadata": {},
   "source": [
    "###########################################PART-2 STARTS HERE##########################################"
   ]
  },
  {
   "cell_type": "code",
   "execution_count": 2,
   "metadata": {},
   "outputs": [],
   "source": [
    "C = ry.Config()\n",
    "C.addFile('cargobot.g')\n",
    "C.addFile('maze.g')\n",
    "C.addFile('cargo.g')\n",
    "\n",
    "\n",
    "qHome = C.getJointState()\n",
    "C.setJointState(qHome)"
   ]
  },
  {
   "cell_type": "markdown",
   "metadata": {},
   "source": [
    "Get Final Pose with KOMO"
   ]
  },
  {
   "cell_type": "code",
   "execution_count": 5,
   "metadata": {},
   "outputs": [
    {
     "name": "stdout",
     "output_type": "stream",
     "text": [
      "{ time: 0.004157, evals: 30, done: 1, feasible: 0, sos: 0.0496626, f: 0, ineq: 0, eq: 55.9121 }\n",
      "size of path: (1, 11)\n"
     ]
    },
    {
     "data": {
      "text/plain": [
       "0"
      ]
     },
     "execution_count": 5,
     "metadata": {},
     "output_type": "execute_result"
    }
   ],
   "source": [
    "komo = ry.KOMO(C, 1, 1, 2, True)\n",
    "komo.addControlObjective([], 0, 1e-1)\n",
    "komo.addControlObjective([], 2, 1e0)\n",
    "komo.addObjective([], ry.FS.accumulatedCollisions, [], ry.OT.eq, [1e2])\n",
    "komo.addObjective([1], ry.FS.positionDiff, ['l_gripper', 'cargo_handle'], ry.OT.eq, [1e2])\n",
    "komo.addObjective([1], ry.FS.jointState, [], ry.OT.eq, [1e2], [], order=1)\n",
    "\n",
    "ret = ry.NLP_Solver(komo.nlp(), verbose=0).solve()\n",
    "print(ret)\n",
    "q = komo.getPath()\n",
    "print('size of path:', q.shape)\n",
    "\n",
    "qT = komo.getPath()[0]\n",
    "C.setJointState(qT)\n",
    "C.view(False, \"IK solution\")\n"
   ]
  },
  {
   "cell_type": "markdown",
   "metadata": {},
   "source": [
    "RRT"
   ]
  },
  {
   "cell_type": "code",
   "execution_count": 8,
   "metadata": {},
   "outputs": [
    {
     "ename": "NameError",
     "evalue": "name 'qT' is not defined",
     "output_type": "error",
     "traceback": [
      "\u001b[0;31m---------------------------------------------------------------------------\u001b[0m",
      "\u001b[0;31mNameError\u001b[0m                                 Traceback (most recent call last)",
      "\u001b[1;32m/home/bornozlusapiens/codes/cs449/hw2/hw2_part2 .ipynb Cell 7\u001b[0m line \u001b[0;36m3\n\u001b[1;32m      <a href='vscode-notebook-cell:/home/bornozlusapiens/codes/cs449/hw2/hw2_part2%20.ipynb#W6sZmlsZQ%3D%3D?line=0'>1</a>\u001b[0m \u001b[39m#define a path finding problem\u001b[39;00m\n\u001b[1;32m      <a href='vscode-notebook-cell:/home/bornozlusapiens/codes/cs449/hw2/hw2_part2%20.ipynb#W6sZmlsZQ%3D%3D?line=1'>2</a>\u001b[0m rrt \u001b[39m=\u001b[39m ry\u001b[39m.\u001b[39mPathFinder()\n\u001b[0;32m----> <a href='vscode-notebook-cell:/home/bornozlusapiens/codes/cs449/hw2/hw2_part2%20.ipynb#W6sZmlsZQ%3D%3D?line=2'>3</a>\u001b[0m rrt\u001b[39m.\u001b[39msetProblem(C, [qHome], [qT])\n\u001b[1;32m      <a href='vscode-notebook-cell:/home/bornozlusapiens/codes/cs449/hw2/hw2_part2%20.ipynb#W6sZmlsZQ%3D%3D?line=4'>5</a>\u001b[0m \u001b[39mfor\u001b[39;00m i \u001b[39min\u001b[39;00m \u001b[39mrange\u001b[39m(\u001b[39m0\u001b[39m, \u001b[39m2\u001b[39m):\n\u001b[1;32m      <a href='vscode-notebook-cell:/home/bornozlusapiens/codes/cs449/hw2/hw2_part2%20.ipynb#W6sZmlsZQ%3D%3D?line=5'>6</a>\u001b[0m     ret \u001b[39m=\u001b[39m rrt\u001b[39m.\u001b[39msolve()\n",
      "\u001b[0;31mNameError\u001b[0m: name 'qT' is not defined"
     ]
    }
   ],
   "source": [
    "#define a path finding problem\n",
    "rrt = ry.PathFinder()\n",
    "rrt.setProblem(C, [qHome], [qT])\n",
    "\n",
    "for i in range(0, 2):\n",
    "    ret = rrt.solve()\n",
    "    print(\"rettttt: \", ret)\n",
    "    path = ret.x\n",
    "    print(\"path size:\", path.shape[0])\n",
    "    # display the path\n",
    "    for t in range(0, path.shape[0] - 1):\n",
    "        C.setJointState(path[t])\n",
    "        C.view()\n",
    "        time.sleep(0.002)"
   ]
  },
  {
   "cell_type": "markdown",
   "metadata": {},
   "source": [
    "Trajectory Optimization via KOMO"
   ]
  },
  {
   "cell_type": "code",
   "execution_count": null,
   "metadata": {},
   "outputs": [],
   "source": [
    "C.setJointState(qHome)\n",
    "komo2 = ry.KOMO(C, 1, path.shape[0], 2, True)\n",
    "komo2.addControlObjective([], 0, 1e-1)\n",
    "komo2.addControlObjective([], 2, 1e0)\n",
    "komo2.addObjective([], ry.FS.accumulatedCollisions, [], ry.OT.eq, [1e2])\n",
    "komo2.addObjective([1], ry.FS.positionDiff, ['base', 'goal_area'], ry.OT.eq, [1e2])\n",
    "komo2.addObjective([1], ry.FS.jointState, [], ry.OT.eq, [1e1], [], order=1)\n",
    "komo2.initWithPath_qOrg(path)\n",
    "\n",
    "ret = ry.NLP_Solver(komo2.nlp(), verbose=0).solve()\n",
    "q = komo2.getPath()\n",
    "print('last path:', q)\n",
    "\n",
    "# display the path for part 1\n",
    "for i in range(0, q.shape[0]):\n",
    "    C.setJointState(q[i])\n",
    "    C.view(False, f'waypoints{i}')\n",
    "    time.sleep(0.02)\n"
   ]
  },
  {
   "cell_type": "markdown",
   "metadata": {},
   "source": [
    "###########################################PART-2 ENDS HERE##########################################"
   ]
  }
 ],
 "metadata": {
  "kernelspec": {
   "display_name": "cs449",
   "language": "python",
   "name": "python3"
  },
  "language_info": {
   "codemirror_mode": {
    "name": "ipython",
    "version": 3
   },
   "file_extension": ".py",
   "mimetype": "text/x-python",
   "name": "python",
   "nbconvert_exporter": "python",
   "pygments_lexer": "ipython3",
   "version": "3.10.12"
  }
 },
 "nbformat": 4,
 "nbformat_minor": 2
}
