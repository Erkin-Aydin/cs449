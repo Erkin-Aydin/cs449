{
 "cells": [
  {
   "cell_type": "code",
   "execution_count": 1,
   "metadata": {},
   "outputs": [],
   "source": [
    "from robotic import ry\n",
    "import numpy as np\n",
    "import time"
   ]
  },
  {
   "cell_type": "markdown",
   "metadata": {},
   "source": [
    "###########################################PART-2 STARTS HERE##########################################"
   ]
  },
  {
   "cell_type": "code",
   "execution_count": 2,
   "metadata": {},
   "outputs": [],
   "source": [
    "C = ry.Config()\n",
    "C.addFile('cargobot.g')\n",
    "C.addFile('maze.g')\n",
    "C.addFile('cargo.g')\n",
    "\n",
    "qHome = C.getJointState()\n",
    "C.setJointState(qHome)"
   ]
  },
  {
   "cell_type": "markdown",
   "metadata": {},
   "source": [
    "Get Final Pose with KOMO"
   ]
  },
  {
   "cell_type": "code",
   "execution_count": 3,
   "metadata": {},
   "outputs": [
    {
     "name": "stdout",
     "output_type": "stream",
     "text": [
      "====nlp==== method:AugmentedLagrangian bounded: yes\n",
      "==nlp== it:0 evals:0 mu:1 nu:1 muLB:0.1\n",
      "==nlp== it:   0  evals:  30  A(x):  0.0161063  f:  0.0101904  g:          0  h:   0.124415  |x-x'|:    1.37598 \tstop:DeltaConverge\n",
      "==nlp== it:   1  evals:  30  A(x):  0.0516018  mu:5\n",
      "==nlp== it:   1  evals:  32  A(x): 0.00965325  f:   0.010145  g:          0  h: 0.00834789  |x-x'|:  0.0154928 \tstop:DeltaConverge\n",
      "==nlp== it:   2  evals:  32  A(x):  0.0104126  mu:25\n",
      "==nlp== it:   2  evals:  35  A(x):  0.0101871  f:  0.0101221  g:          0  h: 0.00304849  |x-x'|: 0.00125905 \tstop:DeltaConverge\n",
      "==nlp== StoppingCriterion Delta<0.01\n"
     ]
    },
    {
     "data": {
      "text/plain": [
       "1"
      ]
     },
     "execution_count": 3,
     "metadata": {},
     "output_type": "execute_result"
    }
   ],
   "source": [
    "S = ry.Skeleton()\n",
    "\n",
    "S.addEntry([1., 1.], ry.SY.touch,  [\"l_gripper\", \"cargo_handle\"])\n",
    "#S.addEntry([1., 2.], ry.SY.stable,  [\"l_panda_finger_joint1\", \"cargo_handle\"])\n",
    "\n",
    "#S.addEntry([1., 7.], ry.SY.stable,  [\"l_gripper\", \"l_panda_finger_joint2\"])\n",
    "S.addEntry([1., 7.], ry.SY.stable,  [\"l_gripper\", \"cargo_handle\"])\n",
    "#S.addEntry([0.8, 1.2], ry.SY.downUp, [\"l_panda_finger_joint1\"])\n",
    "#S.addEntry([1.8, 2.2], ry.SY.downUp, [\"l_panda_finger_joint1\"])\n",
    "\n",
    "S.addEntry([2., 2.], ry.SY.poseEq,  [\"cargo\", \"cp1\"])\n",
    "#S.addEntry([2., -1.], ry.SY.stable,  [\"cp1\", \"cargo\"])\n",
    "\n",
    "S.addEntry([3., 3.], ry.SY.poseEq,  [\"cargo\", \"cp2\"])\n",
    "#S.addEntry([3., -1.], ry.SY.stable,  [\"cp2\", \"cargo\"])\n",
    "\n",
    "S.addEntry([4., 4.], ry.SY.poseEq,  [\"cargo\", \"cp3\"])\n",
    "#S.addEntry([4., -1.], ry.SY.stable,  [\"cp3\", \"cargo\"])\n",
    "\n",
    "S.addEntry([5., 5.], ry.SY.poseEq,  [\"cargo\", \"cp4\"])\n",
    "#S.addEntry([5., -1.], ry.SY.stable,  [\"cp4\", \"cargo\"])\n",
    "\n",
    "S.addEntry([6., 6.], ry.SY.poseEq,  [\"cargo\", \"cp5\"])\n",
    "#S.addEntry([6., -1.], ry.SY.stable,  [\"cp5\", \"cargo\"])\n",
    "\n",
    "S.addEntry([7., 7.], ry.SY.poseEq,  [\"cargo\", \"final\"])\n",
    "#S.addEntry([7., -1.], ry.SY.stable,  [\"final\", \"cargo\"])\n",
    "\n",
    "S.enableAccumulatedCollisions(True)\n",
    "\n",
    "komo = S.getKomo_waypoints(C, 1e-1, 1e-2,0)\n",
    "nlp = komo.nlp()\n",
    "sol = ry.NLP_Solver()\n",
    "sol.setProblem(nlp)\n",
    "sol.setOptions( stopTolerance=1e-2 )\n",
    "ret = sol.solve()\n",
    "waypoints = komo.getPath_qAll()\n",
    "#waypoints = komo.getPath()[0]\n",
    "komo.view_play(True, .2)\n",
    "#C.setJointState(q[q.shape[0]-1])"
   ]
  },
  {
   "cell_type": "markdown",
   "metadata": {},
   "source": [
    "RRT"
   ]
  },
  {
   "cell_type": "code",
   "execution_count": 4,
   "metadata": {},
   "outputs": [
    {
     "name": "stdout",
     "output_type": "stream",
     "text": [
      "rettttt:  { time: 0.00913, evals: 49, done: 1, feasible: 1, sos: -1, f: -1, ineq: -1, eq: -1 }\n",
      "rettttt:  { time: 2.29112, evals: 3194, done: 1, feasible: 1, sos: -1, f: -1, ineq: -1, eq: -1 }\n",
      "rettttt:  { time: 0.056359, evals: 87, done: 1, feasible: 1, sos: -1, f: -1, ineq: -1, eq: -1 }\n",
      "rettttt:  { time: 0.275843, evals: 572, done: 1, feasible: 1, sos: -1, f: -1, ineq: -1, eq: -1 }\n",
      "rettttt:  { time: 1.2998, evals: 2277, done: 1, feasible: 1, sos: -1, f: -1, ineq: -1, eq: -1 }\n",
      "rettttt:  { time: 0.921428, evals: 1351, done: 1, feasible: 1, sos: -1, f: -1, ineq: -1, eq: -1 }\n",
      "rettttt:  { time: 0.884352, evals: 1304, done: 1, feasible: 1, sos: -1, f: -1, ineq: -1, eq: -1 }\n"
     ]
    }
   ],
   "source": [
    "#define a path finding problem\n",
    "m = len(waypoints)\n",
    "rrt_dofs = []\n",
    "rrt_paths = []\n",
    "for i in range(0, int(m)):\n",
    "\n",
    "    [Ctmp, q0, q1] = S.getTwoWaypointProblem(i, komo)\n",
    "    Ctmp.setJointState(q0)\n",
    "    Ctmp.setJointState(q1)\n",
    "    rrt = ry.PathFinder()\n",
    "    rrt.setProblem(Ctmp, q0, q1)\n",
    "    ret = rrt.solve()\n",
    "    path = ret.x\n",
    "    rrt_paths.append(rrt)\n",
    "    rrt_dofs.append(Ctmp.getDofIDs())\n",
    "    print(\"rettttt: \", ret)\n",
    "    #print(\"path size:\", path)\n",
    "    # display the path\n",
    "    \"\"\"\n",
    "    for i in range(0, path.shape[0]):\n",
    "        Ctmp.setJointState(path[i])\n",
    "        Ctmp.view(False)\n",
    "        time.sleep(0.02)\n",
    "        if hasattr(ret, 'x') and isinstance(ret.x, np.ndarray) and ret.x.ndim == 2 and ret.x.shape[0] > 0:\n",
    "            rrt_paths.append(rrt)\n",
    "            rrt_dofs.append(Ctmp.getDofIDs())\n",
    "    \"\"\""
   ]
  },
  {
   "cell_type": "code",
   "execution_count": 5,
   "metadata": {},
   "outputs": [
    {
     "data": {
      "text/plain": [
       "[59, 119, 179, 239, 299, 359, 419]"
      ]
     },
     "execution_count": 5,
     "metadata": {},
     "output_type": "execute_result"
    }
   ],
   "source": [
    "#C.setJointState(qHome)\n",
    "komo2 = S.getKomo_path(C, 60, 1e0, 1e0, 1e-2, 1e0)\n",
    "komo2.initWithWaypoints(waypoints)\n"
   ]
  },
  {
   "cell_type": "code",
   "execution_count": 6,
   "metadata": {},
   "outputs": [
    {
     "ename": "TypeError",
     "evalue": "initPhaseWithDofsPath(): incompatible function arguments. The following argument types are supported:\n    1. (self: robotic.ry.KOMO, t_phase: int, dofIDs: Array<T>, path: arr, autoResamplePath: bool = False) -> None\n\nInvoked with: <robotic.ry.KOMO object at 0x7f309cb6b730>, 0, [1, 6, 10, 14, 18, 22, 26, 30], <robotic.ry.PathFinder object at 0x7f309cb75db0>, True",
     "output_type": "error",
     "traceback": [
      "\u001b[0;31m---------------------------------------------------------------------------\u001b[0m",
      "\u001b[0;31mTypeError\u001b[0m                                 Traceback (most recent call last)",
      "\u001b[1;32m/home/bornozlusapiens/codes/cs449/hw2/hw2_part2 .ipynb Cell 9\u001b[0m line \u001b[0;36m2\n\u001b[1;32m      <a href='vscode-notebook-cell:/home/bornozlusapiens/codes/cs449/hw2/hw2_part2%20.ipynb#X11sZmlsZQ%3D%3D?line=0'>1</a>\u001b[0m \u001b[39mfor\u001b[39;00m t \u001b[39min\u001b[39;00m \u001b[39mrange\u001b[39m(\u001b[39m0\u001b[39m, \u001b[39mint\u001b[39m(m)):\n\u001b[0;32m----> <a href='vscode-notebook-cell:/home/bornozlusapiens/codes/cs449/hw2/hw2_part2%20.ipynb#X11sZmlsZQ%3D%3D?line=1'>2</a>\u001b[0m     komo2\u001b[39m.\u001b[39;49minitPhaseWithDofsPath(t, rrt_dofs[t], rrt_paths[t], \u001b[39mTrue\u001b[39;49;00m)\n\u001b[1;32m      <a href='vscode-notebook-cell:/home/bornozlusapiens/codes/cs449/hw2/hw2_part2%20.ipynb#X11sZmlsZQ%3D%3D?line=3'>4</a>\u001b[0m ret \u001b[39m=\u001b[39m ry\u001b[39m.\u001b[39mNLP_Solver(komo2\u001b[39m.\u001b[39mnlp(), verbose\u001b[39m=\u001b[39m\u001b[39m0\u001b[39m)\u001b[39m.\u001b[39msolve()\n\u001b[1;32m      <a href='vscode-notebook-cell:/home/bornozlusapiens/codes/cs449/hw2/hw2_part2%20.ipynb#X11sZmlsZQ%3D%3D?line=4'>5</a>\u001b[0m q \u001b[39m=\u001b[39m komo2\u001b[39m.\u001b[39mgetPath()\n",
      "\u001b[0;31mTypeError\u001b[0m: initPhaseWithDofsPath(): incompatible function arguments. The following argument types are supported:\n    1. (self: robotic.ry.KOMO, t_phase: int, dofIDs: Array<T>, path: arr, autoResamplePath: bool = False) -> None\n\nInvoked with: <robotic.ry.KOMO object at 0x7f309cb6b730>, 0, [1, 6, 10, 14, 18, 22, 26, 30], <robotic.ry.PathFinder object at 0x7f309cb75db0>, True"
     ]
    }
   ],
   "source": [
    "\n",
    "for t in range(0, int(m)):\n",
    "    komo2.initPhaseWithDofsPath(t, rrt_dofs[t], rrt_paths[t], True)\n",
    "\n",
    "ret = ry.NLP_Solver(komo2.nlp(), verbose=0).solve()\n",
    "q = komo2.getPath()\n",
    "print('last path:', q)\n",
    "\n",
    "# display the path for part 1\n",
    "for i in range(0, q.shape[0]):\n",
    "    C.setJointState(q[i])\n",
    "    C.view(False, f'waypoints{i}')\n",
    "    time.sleep(0.02)"
   ]
  }
 ],
 "metadata": {
  "kernelspec": {
   "display_name": "cs449",
   "language": "python",
   "name": "python3"
  },
  "language_info": {
   "codemirror_mode": {
    "name": "ipython",
    "version": 3
   },
   "file_extension": ".py",
   "mimetype": "text/x-python",
   "name": "python",
   "nbconvert_exporter": "python",
   "pygments_lexer": "ipython3",
   "version": "3.10.13"
  }
 },
 "nbformat": 4,
 "nbformat_minor": 2
}
