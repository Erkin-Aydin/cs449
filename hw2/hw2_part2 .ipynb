{
 "cells": [
  {
   "cell_type": "code",
   "execution_count": 1,
   "metadata": {},
   "outputs": [],
   "source": [
    "from robotic import ry\n",
    "import numpy as np\n",
    "import time"
   ]
  },
  {
   "cell_type": "markdown",
   "metadata": {},
   "source": [
    "###########################################PART-2 STARTS HERE##########################################"
   ]
  },
  {
   "cell_type": "code",
   "execution_count": 2,
   "metadata": {},
   "outputs": [],
   "source": [
    "C = ry.Config()\n",
    "C.addFile('cargobot.g')\n",
    "C.addFile('maze.g')\n",
    "C.addFile('cargo.g')\n",
    "\n",
    "qHome = C.getJointState()\n",
    "C.setJointState(qHome)"
   ]
  },
  {
   "cell_type": "markdown",
   "metadata": {},
   "source": [
    "Get Final Pose with KOMO"
   ]
  },
  {
   "cell_type": "code",
   "execution_count": 3,
   "metadata": {},
   "outputs": [
    {
     "name": "stdout",
     "output_type": "stream",
     "text": [
      "====nlp==== method:AugmentedLagrangian bounded: yes\n",
      "==nlp== it:0 evals:0 mu:1 nu:1 muLB:0.1\n",
      "==nlp== it:   0  evals:  66  A(x):   0.496802  f:   0.353638  g:          0  h:    1.12749  |x-x'|:    4.18488 \tstop:DeltaConverge\n",
      "==nlp== it:   1  evals:  66  A(x):    1.35579  mu:5\n",
      "==nlp== it:   1  evals:  89  A(x):    1.25665  f:   0.353899  g:          0  h:    1.06191  |x-x'|: 0.00863185 \tstop:TinyXSteps (bad:1)\n",
      "==nlp== StoppingCriterion Delta<0.01\n"
     ]
    },
    {
     "data": {
      "text/plain": [
       "1"
      ]
     },
     "execution_count": 3,
     "metadata": {},
     "output_type": "execute_result"
    }
   ],
   "source": [
    "S = ry.Skeleton()\n",
    "\n",
    "S.addEntry([1., 1.], ry.SY.touch,  [\"l_gripper\", \"cargo_handle\"])\n",
    "#S.addEntry([1., 2.], ry.SY.stable,  [\"l_panda_finger_joint1\", \"cargo_handle\"])\n",
    "\n",
    "#S.addEntry([1., 7.], ry.SY.stable,  [\"l_gripper\", \"l_panda_finger_joint2\"])\n",
    "S.addEntry([1., 7.], ry.SY.stable,  [\"l_gripper\", \"cargo_handle\"])\n",
    "#S.addEntry([0.8, 1.2], ry.SY.downUp, [\"l_panda_finger_joint1\"])\n",
    "#S.addEntry([1.8, 2.2], ry.SY.downUp, [\"l_panda_finger_joint1\"])\n",
    "\n",
    "S.addEntry([2., 2.], ry.SY.poseEq,  [\"cargo\", \"cp1\"])\n",
    "#S.addEntry([2., -1.], ry.SY.stable,  [\"cp1\", \"cargo\"])\n",
    "\n",
    "S.addEntry([3., 3.], ry.SY.poseEq,  [\"cargo\", \"cp2\"])\n",
    "#S.addEntry([3., -1.], ry.SY.stable,  [\"cp2\", \"cargo\"])\n",
    "\n",
    "S.addEntry([4., 4.], ry.SY.poseEq,  [\"cargo\", \"cp3\"])\n",
    "#S.addEntry([4., -1.], ry.SY.stable,  [\"cp3\", \"cargo\"])\n",
    "\n",
    "S.addEntry([5., 5.], ry.SY.poseEq,  [\"cargo\", \"cp4\"])\n",
    "#S.addEntry([5., -1.], ry.SY.stable,  [\"cp4\", \"cargo\"])\n",
    "\n",
    "S.addEntry([6., 6.], ry.SY.poseEq,  [\"cargo\", \"cp5\"])\n",
    "#S.addEntry([6., -1.], ry.SY.stable,  [\"cp5\", \"cargo\"])\n",
    "\n",
    "S.addEntry([7., 7.], ry.SY.poseEq,  [\"cargo\", \"final\"])\n",
    "#S.addEntry([7., -1.], ry.SY.stable,  [\"final\", \"cargo\"])\n",
    "\n",
    "S.enableAccumulatedCollisions(True)\n",
    "\n",
    "komo = S.getKomo_waypoints(C, 1e-1, 1e-2,0)\n",
    "nlp = komo.nlp()\n",
    "sol = ry.NLP_Solver()\n",
    "sol.setProblem(nlp)\n",
    "sol.setOptions( stopTolerance=1e-2 )\n",
    "ret = sol.solve()\n",
    "waypoints = komo.getPath_qAll()\n",
    "#waypoints = komo.getPath()[0]\n",
    "komo.view_play(True, .2)\n",
    "#C.setJointState(q[q.shape[0]-1])"
   ]
  },
  {
   "cell_type": "markdown",
   "metadata": {},
   "source": [
    "RRT"
   ]
  },
  {
   "cell_type": "code",
   "execution_count": 4,
   "metadata": {},
   "outputs": [
    {
     "name": "stdout",
     "output_type": "stream",
     "text": [
      "rettttt:  { time: 0.015741, evals: 49, done: 1, feasible: 1, sos: -1, f: -1, ineq: -1, eq: -1 }\n",
      "rettttt:  { time: 2.35803, evals: 3194, done: 1, feasible: 1, sos: -1, f: -1, ineq: -1, eq: -1 }\n",
      "rettttt:  { time: 0.05426, evals: 87, done: 1, feasible: 1, sos: -1, f: -1, ineq: -1, eq: -1 }\n",
      "rettttt:  { time: 0.304987, evals: 572, done: 1, feasible: 1, sos: -1, f: -1, ineq: -1, eq: -1 }\n",
      "rettttt:  { time: 1.38345, evals: 2277, done: 1, feasible: 1, sos: -1, f: -1, ineq: -1, eq: -1 }\n",
      "rettttt:  { time: 0.949299, evals: 1351, done: 1, feasible: 1, sos: -1, f: -1, ineq: -1, eq: -1 }\n",
      "rettttt:  { time: 0.883668, evals: 1304, done: 1, feasible: 1, sos: -1, f: -1, ineq: -1, eq: -1 }\n"
     ]
    }
   ],
   "source": [
    "#define a path finding problem\n",
    "m = len(waypoints)\n",
    "rrt_dofs = []\n",
    "rrt_paths = []\n",
    "for i in range(0, int(m)):\n",
    "    [Ctmp, q0, q1] = S.getTwoWaypointProblem(i, komo)\n",
    "    Ctmp.setJointState(q0)\n",
    "    Ctmp.setJointState(q1)\n",
    "    rrt = ry.PathFinder()\n",
    "    rrt.setProblem(Ctmp, q0, q1)\n",
    "    ret = rrt.solve()\n",
    "    path = ret.x\n",
    "    #rrt_paths.append(rrt)\n",
    "    #rrt_dofs.append(Ctmp.getDofIDs())\n",
    "    print(\"rettttt: \", ret)\n",
    "    #print(\"path size:\", path)\n",
    "    # display the path\n",
    "    if hasattr(ret, 'x') and isinstance(ret.x, np.ndarray) and ret.x.ndim == 2 and ret.x.shape[0] > 0:\n",
    "        rrt_paths.append(ret.x)\n",
    "        rrt_dofs.append(Ctmp.getDofIDs())\n",
    "        for t in range(0, path.shape[0]):\n",
    "            Ctmp.setJointState(path[t])\n",
    "            Ctmp.view(False)\n",
    "            time.sleep(0.02)\n",
    "    "
   ]
  },
  {
   "cell_type": "code",
   "execution_count": 5,
   "metadata": {},
   "outputs": [
    {
     "data": {
      "text/plain": [
       "[59, 119, 179, 239, 299, 359, 419]"
      ]
     },
     "execution_count": 5,
     "metadata": {},
     "output_type": "execute_result"
    }
   ],
   "source": [
    "C.setJointState(qHome)\n",
    "komo2 = S.getKomo_path(C, 60, 1e0, 1e0, 1e-2, 1e0)\n",
    "komo2.initWithWaypoints(waypoints)\n"
   ]
  },
  {
   "cell_type": "code",
   "execution_count": 6,
   "metadata": {},
   "outputs": [
    {
     "name": "stdout",
     "output_type": "stream",
     "text": [
      "last path: [[ 8.41846612e-04 -8.01275316e-04  1.58543399e-03 ...  2.45627628e-03\n",
      "   1.99990559e+00 -5.01316175e-01]\n",
      " [ 2.50101597e-03 -2.39742803e-03  4.68527868e-03 ...  7.26814288e-03\n",
      "   1.99970269e+00 -5.03890354e-01]\n",
      " [ 4.95297886e-03 -4.78205445e-03  9.22851699e-03 ...  1.43349193e-02\n",
      "   1.99937727e+00 -5.07664371e-01]\n",
      " ...\n",
      " [-3.91575982e+00 -2.47312968e+00  1.03037593e+00 ...  9.25097408e-01\n",
      "   1.94015048e+00  5.52963124e-01]\n",
      " [-4.01817688e+00 -2.47684431e+00  1.05472484e+00 ...  9.60869383e-01\n",
      "   1.96207701e+00  5.97028837e-01]\n",
      " [-4.12098325e+00 -2.48071933e+00  1.07908436e+00 ...  9.96655450e-01\n",
      "   1.98399134e+00  6.41164865e-01]]\n"
     ]
    }
   ],
   "source": [
    "\n",
    "for t in range(0, int(m)):\n",
    "    komo2.initPhaseWithDofsPath(t, rrt_dofs[t], rrt_paths[t], True)\n",
    "\n",
    "ret = ry.NLP_Solver(komo2.nlp(), verbose=0).solve()\n",
    "q = komo2.getPath()\n",
    "print('last path:', q)\n",
    "\n",
    "# display the path for part 1\n",
    "for i in range(0, q.shape[0]):\n",
    "    C.setJointState(q[i])\n",
    "    C.view(False, f'waypoints{i}')\n",
    "    time.sleep(0.02)"
   ]
  }
 ],
 "metadata": {
  "kernelspec": {
   "display_name": "cs449",
   "language": "python",
   "name": "python3"
  },
  "language_info": {
   "codemirror_mode": {
    "name": "ipython",
    "version": 3
   },
   "file_extension": ".py",
   "mimetype": "text/x-python",
   "name": "python",
   "nbconvert_exporter": "python",
   "pygments_lexer": "ipython3",
   "version": "3.10.13"
  }
 },
 "nbformat": 4,
 "nbformat_minor": 2
}
