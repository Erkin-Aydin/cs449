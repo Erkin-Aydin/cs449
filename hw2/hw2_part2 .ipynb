{
 "cells": [
  {
   "cell_type": "code",
   "execution_count": 13,
   "metadata": {},
   "outputs": [],
   "source": [
    "from robotic import ry\n",
    "import numpy as np\n",
    "import time"
   ]
  },
  {
   "cell_type": "markdown",
   "metadata": {},
   "source": [
    "###########################################PART-2 STARTS HERE##########################################"
   ]
  },
  {
   "cell_type": "code",
   "execution_count": 14,
   "metadata": {},
   "outputs": [],
   "source": [
    "C = ry.Config()\n",
    "C.addFile('cargobot.g')\n",
    "C.addFile('maze.g')\n",
    "C.addFile('cargo.g')\n",
    "\n",
    "qHome = C.getJointState()\n",
    "C.setJointState(qHome)"
   ]
  },
  {
   "cell_type": "markdown",
   "metadata": {},
   "source": [
    "Get Final Pose with KOMO"
   ]
  },
  {
   "cell_type": "code",
   "execution_count": 18,
   "metadata": {},
   "outputs": [
    {
     "name": "stdout",
     "output_type": "stream",
     "text": [
      "====nlp==== method:AugmentedLagrangian bounded: yes\n",
      "==nlp== it:0 evals:0 mu:1 nu:1 muLB:0.1\n",
      "==nlp== it:   0  evals: 529  A(x):    10.5343  f:    0.24162  g:          0  h:    6.40453  |x-x'|:    3.48694 \tstop:DeltaConverge\n",
      "==nlp== it:   1  evals: 529  A(x):    72.2901  mu:5\n",
      "==nlp== it:   1  evals: 608  A(x):    -1.8246  f:   0.226861  g:          0  h:    1.17437  |x-x'|:   0.153775 \tstop:TinyXSteps (bad:1)\n",
      "==nlp== it:   2  evals: 608  A(x):    9.57568  mu:25\n",
      "==nlp== it:   2  evals: 996  A(x):   0.194442  f:   0.195056  g:          0  h: 0.00882144  |x-x'|:   0.340978 \tstop:TinyXSteps (bad:2)\n",
      "==nlp== it:   3  evals: 996  A(x):   0.197766  mu:125\n",
      "==nlp== it:   3  evals:1001  A(x):   0.197766  f:   0.195056  g:          0  h: 0.00892458  |x-x'|:          0 \tstop:CritEvals (bad:3)\n",
      "==nlp== StoppingCriterion Delta<0.01\n"
     ]
    },
    {
     "data": {
      "text/plain": [
       "1"
      ]
     },
     "execution_count": 18,
     "metadata": {},
     "output_type": "execute_result"
    }
   ],
   "source": [
    "S = ry.Skeleton()\n",
    "\n",
    "S.addEntry([1., 1.], ry.SY.touch,  [\"l_gripper\", \"cargo_handle\"])\n",
    "\n",
    "S.addEntry([1., 4.], ry.SY.stable,  [\"l_gripper\", \"cargo_handle\"])\n",
    "S.addEntry([2., 2.], ry.SY.touch,  [\"cargo\", \"cp1\"])\n",
    "S.addEntry([3., 3.], ry.SY.touch,  [\"cargo\", \"cp2\"])\n",
    "S.addEntry([4., 4.], ry.SY.touch,  [\"cargo\", \"final\"])\n",
    "S.enableAccumulatedCollisions(True)\n",
    "\n",
    "komo = S.getKomo_waypoints(C, 1e-1, 1e-2,0)\n",
    "nlp = komo.nlp()\n",
    "sol = ry.NLP_Solver()\n",
    "sol.setProblem(nlp)\n",
    "sol.setOptions( stopTolerance=1e-2 )\n",
    "ret = sol.solve()\n",
    "waypoints = komo.getPath_qAll()\n",
    "#waypoints = komo.getPath()[0]\n",
    "komo.view_play(True, .02)\n",
    "#C.setJointState(q[q.shape[0]-1])"
   ]
  },
  {
   "cell_type": "markdown",
   "metadata": {},
   "source": [
    "RRT"
   ]
  },
  {
   "cell_type": "code",
   "execution_count": 19,
   "metadata": {},
   "outputs": [
    {
     "ename": "IndexError",
     "evalue": "tuple index out of range",
     "output_type": "error",
     "traceback": [
      "\u001b[0;31m---------------------------------------------------------------------------\u001b[0m",
      "\u001b[0;31mIndexError\u001b[0m                                Traceback (most recent call last)",
      "\u001b[1;32m/home/bornozlusapiens/codes/cs449/hw2/hw2_part2 .ipynb Cell 7\u001b[0m line \u001b[0;36m2\n\u001b[1;32m     <a href='vscode-notebook-cell:/home/bornozlusapiens/codes/cs449/hw2/hw2_part2%20.ipynb#W6sZmlsZQ%3D%3D?line=20'>21</a>\u001b[0m rrt_dofs\u001b[39m.\u001b[39mappend(Ctmp\u001b[39m.\u001b[39mgetDofIDs())\n\u001b[1;32m     <a href='vscode-notebook-cell:/home/bornozlusapiens/codes/cs449/hw2/hw2_part2%20.ipynb#W6sZmlsZQ%3D%3D?line=22'>23</a>\u001b[0m \u001b[39m#display the rrt path\u001b[39;00m\n\u001b[0;32m---> <a href='vscode-notebook-cell:/home/bornozlusapiens/codes/cs449/hw2/hw2_part2%20.ipynb#W6sZmlsZQ%3D%3D?line=23'>24</a>\u001b[0m \u001b[39mfor\u001b[39;00m i \u001b[39min\u001b[39;00m \u001b[39mrange\u001b[39m(\u001b[39m0\u001b[39m,ret\u001b[39m.\u001b[39;49mx\u001b[39m.\u001b[39;49mshape[\u001b[39m0\u001b[39;49m]):\n\u001b[1;32m     <a href='vscode-notebook-cell:/home/bornozlusapiens/codes/cs449/hw2/hw2_part2%20.ipynb#W6sZmlsZQ%3D%3D?line=24'>25</a>\u001b[0m     Ctmp\u001b[39m.\u001b[39msetJointState(ret\u001b[39m.\u001b[39mx[i])\n\u001b[1;32m     <a href='vscode-notebook-cell:/home/bornozlusapiens/codes/cs449/hw2/hw2_part2%20.ipynb#W6sZmlsZQ%3D%3D?line=25'>26</a>\u001b[0m     Ctmp\u001b[39m.\u001b[39mview(\u001b[39mFalse\u001b[39;00m, \u001b[39m'\u001b[39m\u001b[39mrrt path \u001b[39m\u001b[39m'\u001b[39m \u001b[39m+\u001b[39m \u001b[39mstr\u001b[39m(i))\n",
      "\u001b[0;31mIndexError\u001b[0m: tuple index out of range"
     ]
    }
   ],
   "source": [
    "## solve for paths using RRT: for each phase create start-end problems, run RRT\n",
    "m = len(waypoints)\n",
    "rrt_dofs = []\n",
    "rrt_paths = []\n",
    "for t in range(0,int(m)):\n",
    "    # grab config and waypoints\n",
    "    [Ctmp, q0, q1] = S.getTwoWaypointProblem(t, komo)\n",
    "    Ctmp.setJointState(q0);\n",
    "    Ctmp.view(True, 'waypoint configuration phase ' + str(t) + ' START')\n",
    "    Ctmp.setJointState(q1);\n",
    "    Ctmp.view(True, 'waypoint configuration phase ' + str(t) + ' STOP')\n",
    "\n",
    "    Ctmp.view(True, 'Continue')\n",
    "\n",
    "    # call path finder\n",
    "    sol = ry.PathFinder()\n",
    "    sol.setProblem(Ctmp, q0, q1)\n",
    "    ret = sol.solve()\n",
    "    \n",
    "    rrt_paths.append(ret.x)\n",
    "    rrt_dofs.append(Ctmp.getDofIDs())\n",
    "\n",
    "    #display the rrt path\n",
    "    for i in range(0,ret.x.shape[0]):\n",
    "        Ctmp.setJointState(ret.x[i])\n",
    "        Ctmp.view(False, 'rrt path ' + str(i))\n",
    "        time.sleep(.02)\n",
    "\"\"\"\n",
    "#define a path finding problem\n",
    "m = len(waypoints)\n",
    "rrt_dofs = []\n",
    "rrt_paths = []\n",
    "for i in range(0, int(m)):\n",
    "    [Ctmp, q0, q1] = S.getTwoWaypointProblem(i, komo)\n",
    "    Ctmp.setJointState(q0)\n",
    "    Ctmp.setJointState(q1)\n",
    "    \n",
    "    rrt = ry.PathFinder()\n",
    "    rrt.setProblem(Ctmp, q0, q1)\n",
    "    ret = rrt.solve()\n",
    "    path = ret.x\n",
    "        \n",
    "    if hasattr(ret, 'x') and isinstance(ret.x, np.ndarray) and ret.x.ndim == 2 and ret.x.shape[0] > 0:\n",
    "        rrt_paths.append(ret.x)\n",
    "        rrt_dofs.append(Ctmp.getDofIDs())\n",
    "        for t in range(0, path.shape[0]):\n",
    "            Ctmp.setJointState(path[t])\n",
    "            Ctmp.view(False)\n",
    "            time.sleep(0.02)\n",
    "\"\"\""
   ]
  },
  {
   "cell_type": "code",
   "execution_count": 17,
   "metadata": {},
   "outputs": [
    {
     "name": "stdout",
     "output_type": "stream",
     "text": [
      "====nlp==== method:AugmentedLagrangian bounded: yes\n",
      "==nlp== it:0 evals:0 mu:1 nu:1 muLB:0.1\n",
      "==nlp== it:   0  evals: 214  A(x):    1179.15  f:    1108.13  g:          0  h:    45.0952  |x-x'|:    2.57022 \tstop:TinyXSteps (bad:1)\n",
      "==nlp== it:   1  evals: 214  A(x):    1605.27  mu:5\n",
      "==nlp== it:   1  evals: 226  A(x):    1605.27  f:    1108.13  g:          0  h:    45.2561  |x-x'|:          0 \tstop:LineSearchSteps (bad:2)\n",
      "==nlp== StoppingCriterion Delta<0.01\n",
      "{ time: 11.1993, evals: 226, done: 1, feasible: 0, sos: 1108.13, f: 0, ineq: 0, eq: 45.2561 }\n"
     ]
    },
    {
     "data": {
      "text/plain": [
       "1"
      ]
     },
     "execution_count": 17,
     "metadata": {},
     "output_type": "execute_result"
    }
   ],
   "source": [
    "komo = S.getKomo_path(C, 60, 1e0, 1e0, 1e0,1e0)\n",
    "komo.initWithWaypoints(waypoints)\n",
    "komo.view(True, 'init with waypoints only')\n",
    "for t in range(0,int(m)):\n",
    "    komo.initPhaseWithDofsPath(t, rrt_dofs[t], rrt_paths[t], True)\n",
    "    komo.view(True, 'init with RRT phase ' + str(t))\n",
    "\n",
    "nlp = komo.nlp()\n",
    "sol = ry.NLP_Solver()\n",
    "sol.setProblem(nlp)\n",
    "sol.setOptions( stopTolerance=1e-2 )\n",
    "ret = sol.solve()\n",
    "# report on result, view, and play\n",
    "print(ret)\n",
    "#print(nlp.report(2))\n",
    "komo.view(True, 'path solution')\n",
    "komo.view_play(True, .2)"
   ]
  }
 ],
 "metadata": {
  "kernelspec": {
   "display_name": "cs449",
   "language": "python",
   "name": "python3"
  },
  "language_info": {
   "codemirror_mode": {
    "name": "ipython",
    "version": 3
   },
   "file_extension": ".py",
   "mimetype": "text/x-python",
   "name": "python",
   "nbconvert_exporter": "python",
   "pygments_lexer": "ipython3",
   "version": "3.10.13"
  }
 },
 "nbformat": 4,
 "nbformat_minor": 2
}
