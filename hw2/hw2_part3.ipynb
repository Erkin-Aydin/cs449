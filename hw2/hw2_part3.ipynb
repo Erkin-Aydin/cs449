{
 "cells": [
  {
   "cell_type": "code",
   "execution_count": 18,
   "metadata": {},
   "outputs": [
    {
     "name": "stdout",
     "output_type": "stream",
     "text": [
      "ry version 0.0.19 compile time: Sep 23 2023 14:58:54\n",
      "-- ry.cpp:operator():99(0) python,\n",
      "physx/motorKp: 10000,\n",
      "physx/motorKd: 1000,\n",
      "KOMO/verbose: 1,\n",
      "KOMO/animateOptimization: 0,\n",
      "KOMO/mimicStable,\n",
      "KOMO/useFCL,\n",
      "KOMO/unscaleEqIneqReport!,\n",
      "KOMO/sampleRate_stable: 0,\n",
      "opt/verbose: 1,\n",
      "opt/stopTolerance: 0.01,\n",
      "opt/stopFTolerance: -1,\n",
      "opt/stopGTolerance: -1,\n",
      "opt/stopEvals: 1000,\n",
      "opt/stopIters: 1000,\n",
      "opt/stopOuters: 1000,\n",
      "opt/stopLineSteps: 10,\n",
      "opt/stopTinySteps: 10,\n",
      "opt/initStep: 1,\n",
      "opt/minStep: -1,\n",
      "opt/maxStep: 0.2,\n",
      "opt/damping: 1,\n",
      "opt/stepInc: 1.5,\n",
      "opt/stepDec: 0.5,\n",
      "opt/wolfe: 0.01,\n",
      "opt/boundedNewton,\n",
      "opt/muInit: 1,\n",
      "opt/muInc: 5,\n",
      "opt/muMax: 10000,\n",
      "opt/muLBInit: 0.1,\n",
      "opt/muLBDec: 0.2,\n",
      "opt/maxLambda: -1,\n",
      "opt/constrainedMethod: ,\n",
      "seed: 0,\n",
      "physx/motorKp: 10000,\n",
      "physx/motorKd: 1000,\n",
      "physx/motorKp: 10000,\n",
      "physx/motorKd: 1000\n"
     ]
    }
   ],
   "source": [
    "from robotic import ry\n",
    "import numpy as np\n",
    "import time\n",
    "\n",
    "print('ry version', ry.__version__, ry.compiled())\n",
    "ry.params_add({'physx/motorKp': 10000., 'physx/motorKd': 1000.})\n",
    "ry.params_print()"
   ]
  },
  {
   "cell_type": "code",
   "execution_count": 19,
   "metadata": {},
   "outputs": [],
   "source": [
    "C = ry.Config()\n",
    "C.addFile('cargobot_base.g')\n",
    "C.addFile('push_cargo.g')\n",
    "C.addFile('push_maze.g')\n",
    "\n",
    "qHome = C.getJointState()\n",
    "C.setJointState(qHome)"
   ]
  },
  {
   "cell_type": "code",
   "execution_count": 20,
   "metadata": {},
   "outputs": [],
   "source": [
    "C.view()\n",
    "way0 = C.addFrame('way0', 'cargo')\n",
    "way1 = C.addFrame('way1', 'cargo')\n",
    "\n",
    "way0.setShape(ry.ST.marker, size=[.1])\n",
    "way0.setRelativePose('t(-.07 0 0) d(90 0 0 1)')\n",
    "\n",
    "way1.setShape(ry.ST.marker, size=[.1])\n",
    "way1.setRelativePose('t(.2 0 0) d(90 0 0 1)')"
   ]
  },
  {
   "cell_type": "code",
   "execution_count": 21,
   "metadata": {},
   "outputs": [
    {
     "name": "stdout",
     "output_type": "stream",
     "text": [
      "{ time: 0.00085, evals: 10, done: 1, feasible: 0, sos: 3.47141, f: 0, ineq: 0, eq: 3.20247 }\n",
      "====nlp==== method:AugmentedLagrangian bounded: yes\n",
      "==nlp== it:0 evals:0 mu:1 nu:1 muLB:0.1 \tlambda:[]\n",
      "----newton---- initial point f(x):170.579 alpha:1 beta:1\n",
      "--newton-- it:   1  |Delta|:        0.2  alpha:          1  evals:   2  f(y):    129.293  ACCEPT\n",
      "--newton-- it:   2  |Delta|:        0.2  alpha:          1  evals:   3  f(y):    95.0729  ACCEPT\n",
      "--newton-- it:   3  |Delta|:        0.2  alpha:          1  evals:   4  f(y):    67.3627  ACCEPT\n",
      "--newton-- it:   4  |Delta|:        0.2  alpha:          1  evals:   5  f(y):    45.7313  ACCEPT\n",
      "--newton-- it:   5  |Delta|:        0.2  alpha:          1  evals:   6  f(y):    29.8432  ACCEPT\n",
      "--newton-- it:   6  |Delta|:        0.2  alpha:          1  evals:   7  f(y):    19.4334  ACCEPT\n",
      "--newton-- it:   7  |Delta|:        0.2  alpha:          1  evals:   8  f(y):    14.2815  ACCEPT\n",
      "--newton-- it:   8  |Delta|:   0.104457  alpha:          1  evals:   9  f(y):    13.6076  ACCEPT\n",
      "--newton-- it:   9  |Delta|: 0.00214447 \t -- absMax(Delta)<1e-1*o.stopTolerance -- NO UPDATE\n",
      "==nlp== it:   0  evals:   9  A(x):    13.6076  f:    3.25912  g:          0  h:    3.75183  |x-x'|:    1.50446 \tstop:DeltaConverge \tx:[-0.0692838, -0.989798, 1.50819]\n",
      "==nlp== it:   1  evals:   9  A(x):    75.6983  mu:5 \tlambda:[0, 0, 0, 0, 0.0143246, 0.204035, -6.4, 0.435724, 0, 0, -0.449582]\n",
      "--newton-- it:  10  |Delta|:  0.0623075  alpha:          1  evals:  10  f(y):    75.1523  ACCEPT\n",
      "--newton-- it:  11  |Delta|:0.000256409 \t -- absMax(Delta)<1e-1*o.stopTolerance -- NO UPDATE\n",
      "==nlp== it:   1  evals:  10  A(x):    75.1523  f:    3.47141  g:          0  h:    3.20247  |x-x'|:  0.0623075 \tstop:DeltaConverge \tx:[-0.0700025, -1.00003, 1.57049]\n",
      "==nlp== it:   2  evals:  10  A(x):    382.352  mu:25 \tlambda:[0, 0, 0, 0, 0.0140724, 0.201029, -38.4, 0.446446, 0, 0, -0.460306]\n",
      "--newton-- it:  12  |Delta|:0.000354336 \t -- absMax(Delta)<1e-1*o.stopTolerance -- NO UPDATE\n",
      "==nlp== it:   2  evals:  10  A(x):    382.352  f:    3.47141  g:          0  h:    3.20247  |x-x'|:          0 \tstop:DeltaConverge \tx:[-0.0700025, -1.00003, 1.57049]\n",
      "==nlp== StoppingCriterion Delta<0.01\n",
      "----newton---- final f(x):382.352\n"
     ]
    }
   ],
   "source": [
    "komo = ry.KOMO()\n",
    "komo.setConfig(C, True)\n",
    "komo.setTiming(1, 1, 5., 0)\n",
    "komo.addControlObjective([], 0, 1e-0)\n",
    "komo.addObjective([], ry.FS.accumulatedCollisions, [], ry.OT.eq)\n",
    "komo.addObjective([1.], ry.FS.poseDiff, ['base', 'way0'], ry.OT.eq, [1e1]);\n",
    "\n",
    "\n",
    "ret = ry.NLP_Solver() \\\n",
    "    .setProblem(komo.nlp()) \\\n",
    "    .setOptions( stopTolerance=1e-2, verbose=4 ) \\\n",
    "    .solve()\n",
    "print(ret)"
   ]
  },
  {
   "cell_type": "code",
   "execution_count": 23,
   "metadata": {},
   "outputs": [
    {
     "data": {
      "text/plain": [
       "0"
      ]
     },
     "execution_count": 23,
     "metadata": {},
     "output_type": "execute_result"
    }
   ],
   "source": [
    "komo.view(False, \"waypoints solution\")"
   ]
  },
  {
   "cell_type": "code",
   "execution_count": 24,
   "metadata": {},
   "outputs": [],
   "source": [
    "komo.view_close()\n",
    "path = komo.getPath()\n",
    "\n",
    "base = C.getFrame('base')"
   ]
  },
  {
   "cell_type": "code",
   "execution_count": 30,
   "metadata": {},
   "outputs": [
    {
     "data": {
      "text/plain": [
       "0"
      ]
     },
     "execution_count": 30,
     "metadata": {},
     "output_type": "execute_result"
    }
   ],
   "source": [
    "C.setJointState(qHome)\n",
    "C.view()"
   ]
  },
  {
   "cell_type": "code",
   "execution_count": 31,
   "metadata": {},
   "outputs": [],
   "source": [
    "for t in range(0, path.shape[0]):\n",
    "    base.setPosition(path[t])\n",
    "    time.sleep(.1)"
   ]
  }
 ],
 "metadata": {
  "kernelspec": {
   "display_name": "Python 3",
   "language": "python",
   "name": "python3"
  },
  "language_info": {
   "codemirror_mode": {
    "name": "ipython",
    "version": 3
   },
   "file_extension": ".py",
   "mimetype": "text/x-python",
   "name": "python",
   "nbconvert_exporter": "python",
   "pygments_lexer": "ipython3",
   "version": "3.10.12"
  }
 },
 "nbformat": 4,
 "nbformat_minor": 2
}
