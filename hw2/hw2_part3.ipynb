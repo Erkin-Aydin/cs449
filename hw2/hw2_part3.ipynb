{
 "cells": [
  {
   "cell_type": "code",
   "execution_count": 1,
   "metadata": {},
   "outputs": [
    {
     "name": "stdout",
     "output_type": "stream",
     "text": [
      "ry version 0.0.19 compile time: Sep 23 2023 14:58:54\n",
      "-- ry.cpp:operator():99(0) python,\n",
      "physx/motorKp: 10000,\n",
      "physx/motorKd: 1000\n"
     ]
    }
   ],
   "source": [
    "from robotic import ry\n",
    "import numpy as np\n",
    "import time\n",
    "\n",
    "print('ry version', ry.__version__, ry.compiled())\n",
    "ry.params_add({'physx/motorKp': 10000., 'physx/motorKd': 1000.})\n",
    "ry.params_print()"
   ]
  },
  {
   "cell_type": "code",
   "execution_count": 2,
   "metadata": {},
   "outputs": [],
   "source": [
    "C = ry.Config()\n",
    "C.addFile('cargobot_base.g')\n",
    "C.addFile('push_cargo.g')\n",
    "C.addFile('push_maze.g')\n",
    "\n",
    "qHome = C.getJointState()\n",
    "C.setJointState(qHome)"
   ]
  },
  {
   "cell_type": "code",
   "execution_count": 3,
   "metadata": {},
   "outputs": [
    {
     "data": {
      "text/plain": [
       "0"
      ]
     },
     "execution_count": 3,
     "metadata": {},
     "output_type": "execute_result"
    }
   ],
   "source": [
    "C.view()"
   ]
  },
  {
   "cell_type": "code",
   "execution_count": 4,
   "metadata": {},
   "outputs": [
    {
     "name": "stdout",
     "output_type": "stream",
     "text": [
      "{ time: 0.002842, evals: 54, done: 1, feasible: 0, sos: 29.5425, f: 0, ineq: 0, eq: 5.5 }\n",
      "size of path: (1, 3)\n",
      "====nlp==== method:AugmentedLagrangian bounded: yes\n",
      "==nlp== it:0 evals:0 mu:1 nu:1 muLB:0.1 \tlambda:[]\n",
      "----newton---- initial point f(x):292171 alpha:1 beta:1\n",
      "--newton-- it:   1  |Delta|:        0.2  alpha:          1  evals:   2  f(y):     266794  ACCEPT\n",
      "--newton-- it:   2  |Delta|:        0.2  alpha:          1  evals:   3  f(y):     242569  ACCEPT\n",
      "--newton-- it:   3  |Delta|:        0.2  alpha:          1  evals:   4  f(y):     219498  ACCEPT\n",
      "--newton-- it:   4  |Delta|:        0.2  alpha:          1  evals:   5  f(y):     197700  ACCEPT\n",
      "--newton-- it:   5  |Delta|:        0.2  alpha:          1  evals:   6  f(y):     176934  ACCEPT\n",
      "--newton-- it:   6  |Delta|:        0.2  alpha:          1  evals:   7  f(y):     157322  ACCEPT\n",
      "--newton-- it:   7  |Delta|:        0.2  alpha:          1  evals:   8  f(y):     138741  ACCEPT\n",
      "--newton-- it:   8  |Delta|:        0.2  alpha:          1  evals:   9  f(y):     121434  ACCEPT\n",
      "--newton-- it:   9  |Delta|:        0.2  alpha:          1  evals:  10  f(y):     105281  ACCEPT\n",
      "--newton-- it:  10  |Delta|:        0.2  alpha:          1  evals:  11  f(y):      90280  ACCEPT\n",
      "--newton-- it:  11  |Delta|:        0.2  alpha:          1  evals:  12  f(y):    76432.3  ACCEPT\n",
      "--newton-- it:  12  |Delta|:        0.2  alpha:          1  evals:  13  f(y):    63737.6  ACCEPT\n",
      "--newton-- it:  13  |Delta|:        0.2  alpha:          1  evals:  14  f(y):    52195.9  ACCEPT\n",
      "--newton-- it:  14  |Delta|:        0.2  alpha:          1  evals:  15  f(y):      42517  ACCEPT\n",
      "--newton-- it:  15  |Delta|:        0.2  alpha:          1  evals:  16  f(y):    41887.4  ACCEPT\n",
      "--newton-- it:  16  |Delta|:        0.2  alpha:          1  evals:  17  f(y):    41136.9  ACCEPT\n",
      "--newton-- it:  17  |Delta|:        0.2  alpha:          1  evals:  18  f(y):    40099.4  ACCEPT\n",
      "--newton-- it:  18  |Delta|:        0.2  alpha:          1  evals:  19  f(y):    39483.5  ACCEPT\n",
      "--newton-- it:  19  |Delta|:        0.2  alpha:          1  evals:  20  f(y):      37325  ACCEPT\n",
      "--newton-- it:  20  |Delta|:        0.2  alpha:          1  evals:  21  f(y):    27771.5  ACCEPT\n",
      "--newton-- it:  21  |Delta|:        0.2  alpha:          1  evals:  22  f(y):    27370.8  ACCEPT\n",
      "--newton-- it:  22  |Delta|:        0.2  alpha:          1  evals:  23  f(y):    26435.5  ACCEPT\n",
      "--newton-- it:  23  |Delta|:        0.2  alpha:          1  evals:  24  f(y):    25836.1  ACCEPT\n",
      "--newton-- it:  24  |Delta|:        0.2  alpha:          1  evals:  25  f(y):    25599.2  ACCEPT\n",
      "--newton-- it:  25  |Delta|:        0.2  alpha:          1  evals:  26  f(y):    24931.6  ACCEPT\n",
      "--newton-- it:  26  |Delta|:        0.2  alpha:          1  evals:  27  f(y):      24667  ACCEPT\n",
      "--newton-- it:  27  |Delta|:        0.2  alpha:          1  evals:  28  f(y):    23929.3  ACCEPT\n",
      "--newton-- it:  28  |Delta|:        0.2  alpha:          1  evals:  29  f(y):    23580.8  ACCEPT\n",
      "--newton-- it:  29  |Delta|:        0.2  alpha:          1  evals:  30  f(y):    23395.1  ACCEPT\n",
      "--newton-- it:  30  |Delta|:        0.2  alpha:          1  evals:  31  f(y):    23035.8  ACCEPT\n",
      "--newton-- it:  31  |Delta|:        0.2  alpha:          1  evals:  32  f(y):      22856  ACCEPT\n",
      "--newton-- it:  32  |Delta|:        0.2  alpha:          1  evals:  33  f(y):    22498.7  ACCEPT\n",
      "--newton-- it:  33  |Delta|:        0.2  alpha:          1  evals:  34  f(y):    17797.8  ACCEPT\n",
      "--newton-- it:  34  |Delta|:        0.2  alpha:          1  evals:  35  f(y):    17216.9  ACCEPT\n",
      "--newton-- it:  35  |Delta|:        0.2  alpha:          1  evals:  36  f(y):    16133.1  ACCEPT\n",
      "--newton-- it:  36  |Delta|:        0.2  alpha:          1  evals:  37  f(y):    15609.8  ACCEPT\n",
      "--newton-- it:  37  |Delta|:        0.2  alpha:          1  evals:  38  f(y):    14645.3  ACCEPT\n",
      "--newton-- it:  38  |Delta|:        0.2  alpha:          1  evals:  39  f(y):    11418.9  ACCEPT\n",
      "--newton-- it:  39  |Delta|:        0.2  alpha:          1  evals:  40  f(y):     8707.1  ACCEPT\n",
      "--newton-- it:  40  |Delta|:        0.2  alpha:          1  evals:  41  f(y):    6463.72  ACCEPT\n",
      "--newton-- it:  41  |Delta|:        0.2  alpha:          1  evals:  42  f(y):    4645.34  ACCEPT\n",
      "--newton-- it:  42  |Delta|:        0.2  alpha:          1  evals:  43  f(y):    3207.56  ACCEPT\n",
      "--newton-- it:  43  |Delta|:        0.2  alpha:          1  evals:  44  f(y):    2105.91  ACCEPT\n",
      "--newton-- it:  44  |Delta|:        0.2  alpha:          1  evals:  45  f(y):    1295.88  ACCEPT\n",
      "--newton-- it:  45  |Delta|:        0.2  alpha:          1  evals:  46  f(y):    732.877  ACCEPT\n",
      "--newton-- it:  46  |Delta|:        0.2  alpha:          1  evals:  47  f(y):    371.473  ACCEPT\n",
      "--newton-- it:  47  |Delta|:        0.2  alpha:          1  evals:  48  f(y):    168.398  ACCEPT\n",
      "--newton-- it:  48  |Delta|:        0.2  alpha:          1  evals:  49  f(y):    78.0012  ACCEPT\n",
      "--newton-- it:  49  |Delta|:        0.2  alpha:          1  evals:  50  f(y):    55.2221  ACCEPT\n",
      "--newton-- it:  50  |Delta|:  0.0970198  alpha:          1  evals:  51  f(y):    54.7918  ACCEPT\n",
      "--newton-- it:  51  |Delta|:  0.0321258  alpha:          1  evals:  52  f(y):    54.7898  ACCEPT\n",
      "--newton-- it:  52  |Delta|:  0.0106377  alpha:          1  evals:  53  f(y):    54.7895  ACCEPT\n",
      "--newton-- stopping: 'absMax(Delta)<options.stopTolerance'\n",
      "==nlp== it:   0  evals:  53  A(x):    54.7895  f:    29.5366  g:          0  h:    5.57574  |x-x'|:    4.50206 \tstop:DeltaConverge \tx:[-4.49955, -2.9997, 0.00526617]\n",
      "==nlp== it:   1  evals:  53  A(x):    206.307  mu:5 \tlambda:[0, 0, 0, 0, 0, 0, 1, 0.0908908, 0.0605939, 10]\n",
      "--newton-- it:  53  |Delta|: 0.00352241  alpha:          1  evals:  54  f(y):    206.293  ACCEPT\n",
      "--newton-- stopping: 'absMax(Delta)<options.stopTolerance'\n",
      "==nlp== it:   1  evals:  54  A(x):    206.293  f:    29.5425  g:          0  h:        5.5  |x-x'|: 0.00352241 \tstop:DeltaConverge \tx:[-4.5, -3, 0.00174377]\n",
      "==nlp== StoppingCriterion Delta<0.01\n",
      "----newton---- final f(x):206.293\n"
     ]
    },
    {
     "data": {
      "text/plain": [
       "0"
      ]
     },
     "execution_count": 4,
     "metadata": {},
     "output_type": "execute_result"
    }
   ],
   "source": [
    "komo = ry.KOMO(C, 1, 1, 2, True)\n",
    "komo.addControlObjective([], 0, 1e-1)\n",
    "komo.addControlObjective([], 2, 1e0)\n",
    "komo.addObjective([], ry.FS.accumulatedCollisions, [], ry.OT.eq, [1e2])\n",
    "komo.addObjective([1], ry.FS.positionDiff, ['base', 'goal_area'], ry.OT.eq, [1e2])\n",
    "\n",
    "\n",
    "ret = ry.NLP_Solver() \\\n",
    "    .setProblem(komo.nlp()) \\\n",
    "    .setOptions( stopTolerance=1e-2, verbose=4 ) \\\n",
    "    .solve()\n",
    "print(ret)\n",
    "\n",
    "q = komo.getPath()\n",
    "print('size of path:', q.shape)\n",
    "\n",
    "qT = komo.getPath()[0]\n",
    "C.setJointState(qT)\n",
    "C.view(False, \"IK solution\")\n"
   ]
  },
  {
   "cell_type": "code",
   "execution_count": 5,
   "metadata": {},
   "outputs": [
    {
     "name": "stdout",
     "output_type": "stream",
     "text": [
      "1\n",
      "rettttt:  { time: 0.33458, evals: 5001, done: 1, feasible: 0, sos: -1, f: -1, ineq: -1, eq: -1 }\n",
      "2\n",
      "rettttt:  { time: 0.65915, evals: 10002, done: 1, feasible: 0, sos: -1, f: -1, ineq: -1, eq: -1 }\n",
      "3\n",
      "rettttt:  { time: 0.976903, evals: 15003, done: 1, feasible: 0, sos: -1, f: -1, ineq: -1, eq: -1 }\n",
      "4\n",
      "rettttt:  { time: 1.28976, evals: 20004, done: 1, feasible: 0, sos: -1, f: -1, ineq: -1, eq: -1 }\n",
      "5\n",
      "rettttt:  { time: 1.59865, evals: 24740, done: 1, feasible: 1, sos: -1, f: -1, ineq: -1, eq: -1 }\n"
     ]
    }
   ],
   "source": [
    "#define a path finding problem\n",
    "rrt = ry.PathFinder()\n",
    "i = 0\n",
    "while True:\n",
    "    i = i + 1\n",
    "    print(i)\n",
    "    rrt.setProblem(C, [qHome], [qT])\n",
    "    ret = rrt.solve()\n",
    "    path = ret.x\n",
    "    print(\"rettttt: \", ret)\n",
    "    #print(\"path size:\", path)\n",
    "    # display the path\n",
    "    if hasattr(ret, 'x') and isinstance(ret.x, np.ndarray) and ret.x.ndim == 2 and ret.x.shape[0] > 0:\n",
    "        for t in range(0, path.shape[0] - 1):\n",
    "            C.setJointState(path[t])\n",
    "            time.sleep(0.002)\n",
    "        break"
   ]
  },
  {
   "cell_type": "code",
   "execution_count": 6,
   "metadata": {},
   "outputs": [
    {
     "data": {
      "text/plain": [
       "0"
      ]
     },
     "execution_count": 6,
     "metadata": {},
     "output_type": "execute_result"
    }
   ],
   "source": [
    "C.setJointState(path[0])\n",
    "C.view()"
   ]
  },
  {
   "cell_type": "code",
   "execution_count": 7,
   "metadata": {},
   "outputs": [
    {
     "ename": "IndexError",
     "evalue": "index 700 is out of bounds for axis 0 with size 648",
     "output_type": "error",
     "traceback": [
      "\u001b[0;31m---------------------------------------------------------------------------\u001b[0m",
      "\u001b[0;31mIndexError\u001b[0m                                Traceback (most recent call last)",
      "\u001b[1;32m/home/bornozlusapiens/codes/cs449/hw2/hw2_part3.ipynb Cell 7\u001b[0m line \u001b[0;36m7\n\u001b[1;32m      <a href='vscode-notebook-cell:/home/bornozlusapiens/codes/cs449/hw2/hw2_part3.ipynb#W6sZmlsZQ%3D%3D?line=4'>5</a>\u001b[0m \u001b[39mfor\u001b[39;00m i \u001b[39min\u001b[39;00m \u001b[39mrange\u001b[39m(\u001b[39m0\u001b[39m, \u001b[39m600\u001b[39m):\n\u001b[1;32m      <a href='vscode-notebook-cell:/home/bornozlusapiens/codes/cs449/hw2/hw2_part3.ipynb#W6sZmlsZQ%3D%3D?line=5'>6</a>\u001b[0m     i\u001b[39m=\u001b[39m i\u001b[39m*\u001b[39m\u001b[39m100\u001b[39m\n\u001b[0;32m----> <a href='vscode-notebook-cell:/home/bornozlusapiens/codes/cs449/hw2/hw2_part3.ipynb#W6sZmlsZQ%3D%3D?line=6'>7</a>\u001b[0m     bot\u001b[39m.\u001b[39mmoveTo(path[i])\n\u001b[1;32m      <a href='vscode-notebook-cell:/home/bornozlusapiens/codes/cs449/hw2/hw2_part3.ipynb#W6sZmlsZQ%3D%3D?line=7'>8</a>\u001b[0m \u001b[39mwhile\u001b[39;00m bot\u001b[39m.\u001b[39mgetTimeToEnd()\u001b[39m>\u001b[39m\u001b[39m0\u001b[39m:\n\u001b[1;32m      <a href='vscode-notebook-cell:/home/bornozlusapiens/codes/cs449/hw2/hw2_part3.ipynb#W6sZmlsZQ%3D%3D?line=8'>9</a>\u001b[0m     bot\u001b[39m.\u001b[39msync(C, \u001b[39m.1\u001b[39m)\n",
      "\u001b[0;31mIndexError\u001b[0m: index 700 is out of bounds for axis 0 with size 648"
     ]
    }
   ],
   "source": [
    "bot = ry.BotOp(C, False)\n",
    "bot.home(C)\n",
    "\n",
    "    \n",
    "for i in range(0, 600):\n",
    "    i= i*100\n",
    "    bot.moveTo(path[i])\n",
    "while bot.getTimeToEnd()>0:\n",
    "    bot.sync(C, .1)"
   ]
  }
 ],
 "metadata": {
  "kernelspec": {
   "display_name": "Python 3",
   "language": "python",
   "name": "python3"
  },
  "language_info": {
   "codemirror_mode": {
    "name": "ipython",
    "version": 3
   },
   "file_extension": ".py",
   "mimetype": "text/x-python",
   "name": "python",
   "nbconvert_exporter": "python",
   "pygments_lexer": "ipython3",
   "version": "3.10.13"
  }
 },
 "nbformat": 4,
 "nbformat_minor": 2
}
