{
 "cells": [
  {
   "cell_type": "code",
   "execution_count": 2,
   "metadata": {},
   "outputs": [
    {
     "name": "stdout",
     "output_type": "stream",
     "text": [
      "ry version 0.0.19 compile time: Sep 23 2023 14:58:54\n",
      "-- ry.cpp:operator():99(0) python,\n",
      "physx/motorKp: 10000,\n",
      "physx/motorKd: 1000\n"
     ]
    }
   ],
   "source": [
    "from robotic import ry\n",
    "import numpy as np\n",
    "import time\n",
    "\n",
    "print('ry version', ry.__version__, ry.compiled())\n",
    "ry.params_add({'physx/motorKp': 10000., 'physx/motorKd': 1000.})\n",
    "ry.params_print()"
   ]
  },
  {
   "cell_type": "code",
   "execution_count": 3,
   "metadata": {},
   "outputs": [],
   "source": [
    "C = ry.Config()\n",
    "C.addFile('cargobot_base.g')\n",
    "C.addFile('push_cargo.g')\n",
    "C.addFile('push_maze.g')\n",
    "\n",
    "qHome = C.getJointState()\n",
    "C.setJointState(qHome)"
   ]
  },
  {
   "cell_type": "code",
   "execution_count": 3,
   "metadata": {},
   "outputs": [
    {
     "data": {
      "text/plain": [
       "0"
      ]
     },
     "execution_count": 3,
     "metadata": {},
     "output_type": "execute_result"
    }
   ],
   "source": [
    "C.view()"
   ]
  },
  {
   "cell_type": "code",
   "execution_count": 4,
   "metadata": {},
   "outputs": [
    {
     "name": "stdout",
     "output_type": "stream",
     "text": [
      "{ time: 0.001283, evals: 7, done: 1, feasible: 0, sos: 2.05799, f: 0, ineq: 0, eq: 192.04 }\n",
      "size of path: (6, 3)\n",
      "====nlp==== method:AugmentedLagrangian bounded: yes\n",
      "==nlp== it:0 evals:0 mu:1 nu:1 muLB:0.1\n",
      "----newton---- initial point f(x):65523.1 alpha:1 beta:1\n",
      "--newton-- it:   1  |Delta|:        0.2  alpha:          1  evals:   2  f(y):    44281.2  ACCEPT\n",
      "--newton-- it:   2  |Delta|:        0.2  alpha:          1  evals:   3  f(y):    27722.9  ACCEPT\n",
      "--newton-- it:   3  |Delta|:        0.2  alpha:          1  evals:   4  f(y):    15848.1  ACCEPT\n",
      "--newton-- it:   4  |Delta|:        0.2  alpha:          1  evals:   5  f(y):     8656.8  ACCEPT\n",
      "--newton-- it:   5  |Delta|:        0.2  alpha:          1  evals:   6  f(y):       6149  ACCEPT\n",
      "--newton-- it:   6  |Delta|: 0.00709004  alpha:          1  evals:   7  f(y):    6146.06  ACCEPT\n",
      "--newton-- stopping: 'absMax(Delta)<options.stopTolerance'\n",
      "==nlp== it:   0  evals:   7  A(x):    6146.06  f:    2.05799  g:          0  h:     192.04  |x-x'|:    1.00709 \tstop:DeltaConverge\n",
      "==nlp== it:   1  evals:   7  A(x):    43010.1  mu:5\n",
      "--newton-- it:   7  |Delta|:0.000301151 \t -- absMax(Delta)<1e-1*o.stopTolerance -- NO UPDATE\n",
      "==nlp== it:   1  evals:   7  A(x):    43010.1  f:    2.05799  g:          0  h:     192.04  |x-x'|:          0 \tstop:DeltaConverge\n",
      "==nlp== StoppingCriterion Delta<0.01\n",
      "----newton---- final f(x):43010.1\n"
     ]
    },
    {
     "data": {
      "text/plain": [
       "0"
      ]
     },
     "execution_count": 4,
     "metadata": {},
     "output_type": "execute_result"
    }
   ],
   "source": [
    "komo = ry.KOMO(C, 1, 1, 2, True)\n",
    "komo.addControlObjective([], 0, 1e-1)\n",
    "komo.addControlObjective([], 2, 1e0)\n",
    "komo.addObjective([], ry.FS.accumulatedCollisions, [], ry.OT.eq, [1e2])\n",
    "komo.addObjective([1], ry.FS.positionDiff, ['base', 'cargo'], ry.OT.eq, [1e2])\n",
    "komo.addObjective([2], ry.FS.positionDiff, ['base', 'cargo'], ry.OT.eq, [1e2])\n",
    "komo.addObjective([3], ry.FS.positionDiff, ['base', 'cargo'], ry.OT.eq, [1e2])\n",
    "komo.addObjective([4], ry.FS.positionDiff, ['base', 'cargo'], ry.OT.eq, [1e2])\n",
    "komo.addObjective([5], ry.FS.positionDiff, ['base', 'cargo'], ry.OT.eq, [1e2])\n",
    "komo.addObjective([6], ry.FS.positionDiff, ['base', 'cargo'], ry.OT.eq, [1e2])\n",
    "\n",
    "ret = ry.NLP_Solver() \\\n",
    "    .setProblem(komo.nlp()) \\\n",
    "    .setOptions( stopTolerance=1e-2, verbose=4 ) \\\n",
    "    .solve()\n",
    "print(ret)\n",
    "\n",
    "q = komo.getPath()\n",
    "print('size of path:', q.shape)\n",
    "\n",
    "qT = komo.getPath()[0]\n",
    "C.setJointState(qT)\n",
    "C.view(False, \"IK solution\")\n"
   ]
  },
  {
   "cell_type": "code",
   "execution_count": 5,
   "metadata": {},
   "outputs": [
    {
     "name": "stdout",
     "output_type": "stream",
     "text": [
      "1\n",
      "rettttt:  { time: 0.000478, evals: 17, done: 1, feasible: 1, sos: -1, f: -1, ineq: -1, eq: -1 }\n"
     ]
    }
   ],
   "source": [
    "#define a path finding problem\n",
    "rrt = ry.PathFinder()\n",
    "i = 0\n",
    "while True:\n",
    "    i = i + 1\n",
    "    print(i)\n",
    "    rrt.setProblem(C, [qHome], [qT])\n",
    "    ret = rrt.solve()\n",
    "    path = ret.x\n",
    "    print(\"rettttt: \", ret)\n",
    "    #print(\"path size:\", path)\n",
    "    # display the path\n",
    "    if hasattr(ret, 'x') and isinstance(ret.x, np.ndarray) and ret.x.ndim == 2 and ret.x.shape[0] > 0:\n",
    "        for t in range(0, path.shape[0] - 1):\n",
    "            C.setJointState(path[t])\n",
    "            time.sleep(0.002)\n",
    "        break"
   ]
  },
  {
   "cell_type": "code",
   "execution_count": 6,
   "metadata": {},
   "outputs": [
    {
     "data": {
      "text/plain": [
       "13"
      ]
     },
     "execution_count": 6,
     "metadata": {},
     "output_type": "execute_result"
    }
   ],
   "source": [
    "C.setJointState(path[0])\n",
    "C.view()"
   ]
  },
  {
   "cell_type": "code",
   "execution_count": 7,
   "metadata": {},
   "outputs": [
    {
     "ename": "IndexError",
     "evalue": "index 100 is out of bounds for axis 0 with size 22",
     "output_type": "error",
     "traceback": [
      "\u001b[0;31m---------------------------------------------------------------------------\u001b[0m",
      "\u001b[0;31mIndexError\u001b[0m                                Traceback (most recent call last)",
      "\u001b[1;32m/home/bornozlusapiens/codes/cs449/hw2/hw2_part3.ipynb Cell 7\u001b[0m line \u001b[0;36m7\n\u001b[1;32m      <a href='vscode-notebook-cell:/home/bornozlusapiens/codes/cs449/hw2/hw2_part3.ipynb#W6sZmlsZQ%3D%3D?line=4'>5</a>\u001b[0m \u001b[39mfor\u001b[39;00m i \u001b[39min\u001b[39;00m \u001b[39mrange\u001b[39m(\u001b[39m0\u001b[39m, \u001b[39m600\u001b[39m):\n\u001b[1;32m      <a href='vscode-notebook-cell:/home/bornozlusapiens/codes/cs449/hw2/hw2_part3.ipynb#W6sZmlsZQ%3D%3D?line=5'>6</a>\u001b[0m     i\u001b[39m=\u001b[39m i\u001b[39m*\u001b[39m\u001b[39m100\u001b[39m\n\u001b[0;32m----> <a href='vscode-notebook-cell:/home/bornozlusapiens/codes/cs449/hw2/hw2_part3.ipynb#W6sZmlsZQ%3D%3D?line=6'>7</a>\u001b[0m     bot\u001b[39m.\u001b[39mmoveTo(path[i])\n\u001b[1;32m      <a href='vscode-notebook-cell:/home/bornozlusapiens/codes/cs449/hw2/hw2_part3.ipynb#W6sZmlsZQ%3D%3D?line=7'>8</a>\u001b[0m \u001b[39mwhile\u001b[39;00m bot\u001b[39m.\u001b[39mgetTimeToEnd()\u001b[39m>\u001b[39m\u001b[39m0\u001b[39m:\n\u001b[1;32m      <a href='vscode-notebook-cell:/home/bornozlusapiens/codes/cs449/hw2/hw2_part3.ipynb#W6sZmlsZQ%3D%3D?line=8'>9</a>\u001b[0m     bot\u001b[39m.\u001b[39msync(C, \u001b[39m.1\u001b[39m)\n",
      "\u001b[0;31mIndexError\u001b[0m: index 100 is out of bounds for axis 0 with size 22"
     ]
    }
   ],
   "source": [
    "bot = ry.BotOp(C, False)\n",
    "bot.home(C)\n",
    "\n",
    "    \n",
    "for i in range(0, 600):\n",
    "    i= i*100\n",
    "    bot.moveTo(path[i])\n",
    "while bot.getTimeToEnd()>0:\n",
    "    bot.sync(C, .1)"
   ]
  }
 ],
 "metadata": {
  "kernelspec": {
   "display_name": "Python 3",
   "language": "python",
   "name": "python3"
  },
  "language_info": {
   "codemirror_mode": {
    "name": "ipython",
    "version": 3
   },
   "file_extension": ".py",
   "mimetype": "text/x-python",
   "name": "python",
   "nbconvert_exporter": "python",
   "pygments_lexer": "ipython3",
   "version": "3.10.13"
  }
 },
 "nbformat": 4,
 "nbformat_minor": 2
}
