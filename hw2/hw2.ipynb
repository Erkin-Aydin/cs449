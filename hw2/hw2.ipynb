{
 "cells": [
  {
   "cell_type": "code",
   "execution_count": 1,
   "metadata": {},
   "outputs": [],
   "source": [
    "from robotic import ry\n",
    "import numpy as np\n",
    "import time"
   ]
  },
  {
   "cell_type": "markdown",
   "metadata": {},
   "source": [
    "###########################################PART-1 STARTS HERE##########################################"
   ]
  },
  {
   "cell_type": "code",
   "execution_count": 2,
   "metadata": {},
   "outputs": [],
   "source": [
    "C = ry.Config()\n",
    "C.addFile('cargobot_base.g')\n",
    "C.addFile('maze.g')\n",
    "\n",
    "qHome = C.getJointState()\n",
    "C.setJointState(qHome)"
   ]
  },
  {
   "cell_type": "markdown",
   "metadata": {},
   "source": [
    "Get Final Pose with KOMO"
   ]
  },
  {
   "cell_type": "code",
   "execution_count": 9,
   "metadata": {},
   "outputs": [
    {
     "name": "stdout",
     "output_type": "stream",
     "text": [
      "{ time: 0.009532, evals: 57, done: 1, feasible: 0, sos: 3.13635, f: 0, ineq: 0, eq: 844.541 }\n",
      "size of path: (1, 11)\n"
     ]
    },
    {
     "data": {
      "text/plain": [
       "0"
      ]
     },
     "execution_count": 9,
     "metadata": {},
     "output_type": "execute_result"
    }
   ],
   "source": [
    "komo = ry.KOMO(C, 1, 1, 2, True)\n",
    "komo.addControlObjective([], 0, 1e-1)\n",
    "komo.addControlObjective([], 2, 1e0)\n",
    "komo.addObjective([], ry.FS.accumulatedCollisions, [], ry.OT.eq, [1e2])\n",
    "komo.addObjective([1], ry.FS.positionDiff, ['base', 'goal_area'], ry.OT.eq, [1e2])\n",
    "komo.addObjective([1], ry.FS.jointState, [], ry.OT.eq, [1e2], [], order=1)\n",
    "\n",
    "\n",
    "ret = ry.NLP_Solver(komo.nlp(), verbose=0).solve()\n",
    "print(ret)\n",
    "q = komo.getPath()\n",
    "print('size of path:', q.shape)\n",
    "\n",
    "qT = komo.getPath()[0]\n",
    "C.setJointState(qT)\n",
    "C.view(False, \"IK solution\")\n"
   ]
  },
  {
   "cell_type": "markdown",
   "metadata": {},
   "source": [
    "RRT"
   ]
  },
  {
   "cell_type": "code",
   "execution_count": 10,
   "metadata": {},
   "outputs": [
    {
     "name": "stdout",
     "output_type": "stream",
     "text": [
      "STACK9 /home/bornozlusapiens/miniconda3/envs/cs449/bin/python() [0x50819f]\n",
      "STACK8 /home/bornozlusapiens/miniconda3/envs/cs449/bin/python(_PyObject_MakeTpCall\n",
      "STACK7 /home/bornozlusapiens/miniconda3/envs/cs449/bin/python() [0x4fc697]\n",
      "STACK6 /home/bornozlusapiens/.local/lib/python3.10/site-packages/robotic/ry.so(+0x7b93fd) [0x7f398cbb93fd]\n",
      "STACK5 /home/bornozlusapiens/.local/lib/python3.10/site-packages/robotic/ry.so(+0x809aa1) [0x7f398cc09aa1]\n",
      "STACK4 rai::PathFinder::setProblem(rai::Configuration const&, rai::ArrayDouble const&, rai::ArrayDouble const&)\n",
      "STACK3 RRT_PathFinder::RRT_PathFinder(ConfigurationProblem&, rai::ArrayDouble const&, rai::ArrayDouble const&, double, int, bool)\n",
      "STACK2 ConfigurationProblem::query(rai::ArrayDouble const&)\n",
      "STACK1 rai::Configuration::setJointState(rai::ArrayDouble const&)\n",
      "STACK0 rai::LogToken::~LogToken()\n"
     ]
    },
    {
     "name": "stderr",
     "output_type": "stream",
     "text": [
      "== ERROR:kin.cpp:setJointState:634(-2) CHECK_EQ failed: '_q.N'=3 'N'=11 -- wrong joint state dimensionalities\n"
     ]
    },
    {
     "ename": "RuntimeError",
     "evalue": "kin.cpp:setJointState:634(-2) CHECK_EQ failed: '_q.N'=3 'N'=11 -- wrong joint state dimensionalities",
     "output_type": "error",
     "traceback": [
      "\u001b[0;31m---------------------------------------------------------------------------\u001b[0m",
      "\u001b[0;31mRuntimeError\u001b[0m                              Traceback (most recent call last)",
      "\u001b[1;32m/home/bornozlusapiens/codes/cs449/hw2/hw2.ipynb Cell 7\u001b[0m line \u001b[0;36m3\n\u001b[1;32m      <a href='vscode-notebook-cell:/home/bornozlusapiens/codes/cs449/hw2/hw2.ipynb#W6sZmlsZQ%3D%3D?line=0'>1</a>\u001b[0m \u001b[39m#define a path finding problem\u001b[39;00m\n\u001b[1;32m      <a href='vscode-notebook-cell:/home/bornozlusapiens/codes/cs449/hw2/hw2.ipynb#W6sZmlsZQ%3D%3D?line=1'>2</a>\u001b[0m rrt \u001b[39m=\u001b[39m ry\u001b[39m.\u001b[39mPathFinder()\n\u001b[0;32m----> <a href='vscode-notebook-cell:/home/bornozlusapiens/codes/cs449/hw2/hw2.ipynb#W6sZmlsZQ%3D%3D?line=2'>3</a>\u001b[0m rrt\u001b[39m.\u001b[39;49msetProblem(C, [qHome], [qT])\n\u001b[1;32m      <a href='vscode-notebook-cell:/home/bornozlusapiens/codes/cs449/hw2/hw2.ipynb#W6sZmlsZQ%3D%3D?line=4'>5</a>\u001b[0m \u001b[39mfor\u001b[39;00m i \u001b[39min\u001b[39;00m \u001b[39mrange\u001b[39m(\u001b[39m0\u001b[39m, \u001b[39m2\u001b[39m):\n\u001b[1;32m      <a href='vscode-notebook-cell:/home/bornozlusapiens/codes/cs449/hw2/hw2.ipynb#W6sZmlsZQ%3D%3D?line=5'>6</a>\u001b[0m     ret \u001b[39m=\u001b[39m rrt\u001b[39m.\u001b[39msolve()\n",
      "\u001b[0;31mRuntimeError\u001b[0m: kin.cpp:setJointState:634(-2) CHECK_EQ failed: '_q.N'=3 'N'=11 -- wrong joint state dimensionalities"
     ]
    }
   ],
   "source": [
    "#define a path finding problem\n",
    "rrt = ry.PathFinder()\n",
    "rrt.setProblem(C, [qHome], [qT])\n",
    "\n",
    "for i in range(0, 2):\n",
    "    ret = rrt.solve()\n",
    "    print(\"rettttt: \", ret)\n",
    "    path = ret.x\n",
    "    print(\"path size:\", path.shape[0])\n",
    "    # display the path\n",
    "    for t in range(0, path.shape[0] - 1):\n",
    "        C.setJointState(path[t])\n",
    "        C.view()\n",
    "        time.sleep(0.002)"
   ]
  },
  {
   "cell_type": "markdown",
   "metadata": {},
   "source": [
    "Trajectory Optimization via KOMO"
   ]
  },
  {
   "cell_type": "code",
   "execution_count": 11,
   "metadata": {},
   "outputs": [
    {
     "name": "stderr",
     "output_type": "stream",
     "text": [
      "== ERROR:kin.cpp:setJointState:634(-2) CHECK_EQ failed: '_q.N'=3 'N'=11 -- wrong joint state dimensionalities\n"
     ]
    },
    {
     "ename": "RuntimeError",
     "evalue": "kin.cpp:setJointState:634(-2) CHECK_EQ failed: '_q.N'=3 'N'=11 -- wrong joint state dimensionalities",
     "output_type": "error",
     "traceback": [
      "\u001b[0;31m---------------------------------------------------------------------------\u001b[0m",
      "\u001b[0;31mRuntimeError\u001b[0m                              Traceback (most recent call last)",
      "\u001b[1;32m/home/bornozlusapiens/codes/cs449/hw2/hw2.ipynb Cell 9\u001b[0m line \u001b[0;36m1\n\u001b[0;32m----> <a href='vscode-notebook-cell:/home/bornozlusapiens/codes/cs449/hw2/hw2.ipynb#X11sZmlsZQ%3D%3D?line=0'>1</a>\u001b[0m C\u001b[39m.\u001b[39;49msetJointState(qHome)\n\u001b[1;32m      <a href='vscode-notebook-cell:/home/bornozlusapiens/codes/cs449/hw2/hw2.ipynb#X11sZmlsZQ%3D%3D?line=1'>2</a>\u001b[0m komo2 \u001b[39m=\u001b[39m ry\u001b[39m.\u001b[39mKOMO(C, \u001b[39m1\u001b[39m, path\u001b[39m.\u001b[39mshape[\u001b[39m0\u001b[39m], \u001b[39m2\u001b[39m, \u001b[39mTrue\u001b[39;00m)\n\u001b[1;32m      <a href='vscode-notebook-cell:/home/bornozlusapiens/codes/cs449/hw2/hw2.ipynb#X11sZmlsZQ%3D%3D?line=2'>3</a>\u001b[0m komo2\u001b[39m.\u001b[39maddControlObjective([], \u001b[39m0\u001b[39m, \u001b[39m1e-1\u001b[39m)\n",
      "\u001b[0;31mRuntimeError\u001b[0m: kin.cpp:setJointState:634(-2) CHECK_EQ failed: '_q.N'=3 'N'=11 -- wrong joint state dimensionalities"
     ]
    },
    {
     "name": "stdout",
     "output_type": "stream",
     "text": [
      "STACK9 /home/bornozlusapiens/miniconda3/envs/cs449/bin/python(PyEval_EvalCode\n",
      "STACK8 /home/bornozlusapiens/miniconda3/envs/cs449/bin/python() [0x591d92]\n",
      "STACK7 /home/bornozlusapiens/miniconda3/envs/cs449/bin/python(_PyEval_EvalFrameDefault\n",
      "STACK6 /home/bornozlusapiens/miniconda3/envs/cs449/bin/python() [0x50819f]\n",
      "STACK5 /home/bornozlusapiens/miniconda3/envs/cs449/bin/python(_PyObject_MakeTpCall\n",
      "STACK4 /home/bornozlusapiens/miniconda3/envs/cs449/bin/python() [0x4fc697]\n",
      "STACK3 /home/bornozlusapiens/.local/lib/python3.10/site-packages/robotic/ry.so(+0x7b93fd) [0x7f398cbb93fd]\n",
      "STACK2 /home/bornozlusapiens/.local/lib/python3.10/site-packages/robotic/ry.so(+0x7fb59d) [0x7f398cbfb59d]\n",
      "STACK1 rai::Configuration::setJointState(rai::ArrayDouble const&)\n",
      "STACK0 rai::LogToken::~LogToken()\n"
     ]
    }
   ],
   "source": [
    "C.setJointState(qHome)\n",
    "komo2 = ry.KOMO(C, 1, path.shape[0], 2, True)\n",
    "komo2.addControlObjective([], 0, 1e-1)\n",
    "komo2.addControlObjective([], 2, 1e0)\n",
    "komo2.addObjective([], ry.FS.accumulatedCollisions, [], ry.OT.eq, [1e2])\n",
    "komo2.addObjective([1], ry.FS.positionDiff, ['base', 'goal_area'], ry.OT.eq, [1e2])\n",
    "komo2.addObjective([1], ry.FS.jointState, [], ry.OT.eq, [1e1], [], order=1)\n",
    "komo2.initWithPath_qOrg(path)\n",
    "\n",
    "ret = ry.NLP_Solver(komo2.nlp(), verbose=0).solve()\n",
    "q = komo2.getPath()\n",
    "print('last path:', q)\n",
    "\n",
    "# display the path for part 1\n",
    "for i in range(0, q.shape[0]):\n",
    "    C.setJointState(q[i])\n",
    "    C.view(False, f'waypoints{i}')\n",
    "    time.sleep(0.02)\n"
   ]
  },
  {
   "cell_type": "markdown",
   "metadata": {},
   "source": [
    "###########################################PART-1 ENDS HERE##########################################"
   ]
  },
  {
   "cell_type": "markdown",
   "metadata": {},
   "source": [
    "###########################################PART-2 STARTS HERE##########################################"
   ]
  },
  {
   "cell_type": "code",
   "execution_count": 6,
   "metadata": {},
   "outputs": [],
   "source": [
    "del komo\n",
    "del C"
   ]
  },
  {
   "cell_type": "code",
   "execution_count": 12,
   "metadata": {},
   "outputs": [
    {
     "data": {
      "text/plain": [
       "0"
      ]
     },
     "execution_count": 12,
     "metadata": {},
     "output_type": "execute_result"
    }
   ],
   "source": [
    "C = ry.Config()\n",
    "C.addFile('cargobot.g')\n",
    "C.addFile('maze.g')\n",
    "C.addFile('cargo.g')\n",
    "\n",
    "\n",
    "\n",
    "C.view()\n"
   ]
  },
  {
   "cell_type": "markdown",
   "metadata": {},
   "source": [
    "###########################################PART-2 ENDS HERE##########################################"
   ]
  }
 ],
 "metadata": {
  "kernelspec": {
   "display_name": "cs449",
   "language": "python",
   "name": "python3"
  },
  "language_info": {
   "codemirror_mode": {
    "name": "ipython",
    "version": 3
   },
   "file_extension": ".py",
   "mimetype": "text/x-python",
   "name": "python",
   "nbconvert_exporter": "python",
   "pygments_lexer": "ipython3",
   "version": "3.10.13"
  }
 },
 "nbformat": 4,
 "nbformat_minor": 2
}
