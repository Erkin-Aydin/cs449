{
 "cells": [
  {
   "cell_type": "code",
   "execution_count": 1,
   "metadata": {},
   "outputs": [],
   "source": [
    "from robotic import ry\n",
    "import numpy as np\n",
    "import time"
   ]
  },
  {
   "cell_type": "markdown",
   "metadata": {},
   "source": [
    "###########################################PART-1 STARTS HERE##########################################"
   ]
  },
  {
   "cell_type": "code",
   "execution_count": 2,
   "metadata": {},
   "outputs": [],
   "source": [
    "C = ry.Config()\n",
    "C.addFile('cargobot_base.g')\n",
    "C.addFile('maze.g')\n",
    "\n",
    "qHome = C.getJointState()\n",
    "C.setJointState(qHome)"
   ]
  },
  {
   "cell_type": "markdown",
   "metadata": {},
   "source": [
    "Get Final Pose with KOMO"
   ]
  },
  {
   "cell_type": "code",
   "execution_count": 3,
   "metadata": {},
   "outputs": [
    {
     "name": "stdout",
     "output_type": "stream",
     "text": [
      "{ time: 0.000907, evals: 13, done: 1, feasible: 0, sos: 7.38487, f: 0, ineq: 0, eq: 755 }\n",
      "size of path: (1, 3)\n"
     ]
    },
    {
     "data": {
      "text/plain": [
       "0"
      ]
     },
     "execution_count": 3,
     "metadata": {},
     "output_type": "execute_result"
    }
   ],
   "source": [
    "komo = ry.KOMO(C, 1, 1, 2, True)\n",
    "komo.addControlObjective([], 0, 1e-1)\n",
    "komo.addControlObjective([], 2, 1e0)\n",
    "komo.addObjective([], ry.FS.accumulatedCollisions, [], ry.OT.eq, [1e2])\n",
    "komo.addObjective([1], ry.FS.positionDiff, ['base', 'goal_area'], ry.OT.eq, [1e2])\n",
    "komo.addObjective([1], ry.FS.jointState, [], ry.OT.eq, [1e2], [], order=1)\n",
    "\n",
    "\n",
    "ret = ry.NLP_Solver(komo.nlp(), verbose=0).solve()\n",
    "print(ret)\n",
    "q = komo.getPath()\n",
    "print('size of path:', q.shape)\n",
    "\n",
    "qT = komo.getPath()[0]\n",
    "C.setJointState(qT)\n",
    "C.view(False, \"IK solution\")\n"
   ]
  },
  {
   "cell_type": "markdown",
   "metadata": {},
   "source": [
    "RRT"
   ]
  },
  {
   "cell_type": "code",
   "execution_count": 7,
   "metadata": {},
   "outputs": [
    {
     "name": "stdout",
     "output_type": "stream",
     "text": [
      "rettttt:  { time: 0.280243, evals: 4166, done: 1, feasible: 1, sos: -1, f: -1, ineq: -1, eq: -1 }\n",
      "path size: 584\n",
      "rettttt:  { time: 0.281683, evals: 4183, done: 1, feasible: 1, sos: -1, f: -1, ineq: -1, eq: -1 }\n",
      "path size: 584\n"
     ]
    }
   ],
   "source": [
    "#define a path finding problem\n",
    "rrt = ry.PathFinder()\n",
    "rrt.setProblem(C, [qHome], [qT])\n",
    "\n",
    "for i in range(0, 2):\n",
    "    ret = rrt.solve()\n",
    "    print(\"rettttt: \", ret)\n",
    "    path = ret.x\n",
    "    print(\"path size:\", path.shape[0])\n",
    "    # display the path\n",
    "    for t in range(0, path.shape[0] - 1):\n",
    "        C.setJointState(path[t])\n",
    "        C.view()\n",
    "        time.sleep(0.002)"
   ]
  },
  {
   "cell_type": "markdown",
   "metadata": {},
   "source": [
    "Trajectory Optimization via KOMO"
   ]
  },
  {
   "cell_type": "code",
   "execution_count": 10,
   "metadata": {},
   "outputs": [
    {
     "name": "stdout",
     "output_type": "stream",
     "text": [
      "last path: [[ 3.55947085e-05 -1.02135294e-03  7.10072083e-05]\n",
      " [ 1.11429655e-04 -3.04723468e-03  2.12910069e-04]\n",
      " [ 2.32150369e-04 -6.06082107e-03  4.25597025e-04]\n",
      " ...\n",
      " [-4.49895567e+00 -2.99998152e+00  3.17860040e+00]\n",
      " [-4.50001143e+00 -2.99999780e+00  3.17863077e+00]\n",
      " [-4.50001139e+00 -2.99999781e+00  3.17863076e+00]]\n"
     ]
    },
    {
     "data": {
      "text/plain": [
       "0"
      ]
     },
     "execution_count": 10,
     "metadata": {},
     "output_type": "execute_result"
    }
   ],
   "source": [
    "C.setJointState(qHome)\n",
    "komo2 = ry.KOMO(C, 1, path.shape[0], 2, True)\n",
    "komo2.addControlObjective([], 0, 1e-1)\n",
    "komo2.addControlObjective([], 2, 1e0)\n",
    "komo2.addObjective([], ry.FS.accumulatedCollisions, [], ry.OT.eq, [1e2])\n",
    "komo2.addObjective([1], ry.FS.positionDiff, ['base', 'goal_area'], ry.OT.eq, [1e2])\n",
    "komo2.addObjective([1], ry.FS.jointState, [], ry.OT.eq, [1e1], [], order=1)\n",
    "komo2.initWithPath_qOrg(path)\n",
    "\n",
    "ret = ry.NLP_Solver(komo2.nlp(), verbose=0).solve()\n",
    "q = komo2.getPath()\n",
    "print('last path:', q)\n",
    "\n",
    "# display the path\n",
    "for i in range(0, q.shape[0]):\n",
    "    C.setJointState(q[i])\n",
    "    C.view(False, f'waypoints{i}')\n",
    "    time.sleep(0.02)\n",
    "\n",
    "C.view()"
   ]
  },
  {
   "cell_type": "markdown",
   "metadata": {},
   "source": [
    "###########################################PART-1 ENDS HERE##########################################"
   ]
  },
  {
   "cell_type": "markdown",
   "metadata": {},
   "source": [
    "###########################################PART-2 STARTS HERE##########################################"
   ]
  },
  {
   "cell_type": "code",
   "execution_count": null,
   "metadata": {},
   "outputs": [],
   "source": [
    "del komo\n",
    "del C"
   ]
  },
  {
   "cell_type": "markdown",
   "metadata": {},
   "source": [
    "###########################################PART-2 ENDS HERE##########################################"
   ]
  }
 ],
 "metadata": {
  "kernelspec": {
   "display_name": "cs449",
   "language": "python",
   "name": "python3"
  },
  "language_info": {
   "codemirror_mode": {
    "name": "ipython",
    "version": 3
   },
   "file_extension": ".py",
   "mimetype": "text/x-python",
   "name": "python",
   "nbconvert_exporter": "python",
   "pygments_lexer": "ipython3",
   "version": "3.10.13"
  }
 },
 "nbformat": 4,
 "nbformat_minor": 2
}
