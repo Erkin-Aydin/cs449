{
 "cells": [
  {
   "cell_type": "code",
   "execution_count": 1,
   "metadata": {},
   "outputs": [],
   "source": [
    "from robotic import ry\n",
    "import numpy as np\n",
    "import time"
   ]
  },
  {
   "cell_type": "markdown",
   "metadata": {},
   "source": [
    "###########################################PART-1 STARTS HERE##########################################"
   ]
  },
  {
   "cell_type": "code",
   "execution_count": 2,
   "metadata": {},
   "outputs": [],
   "source": [
    "C = ry.Config()\n",
    "C.addFile('cargobot_base.g')\n",
    "C.addFile('maze.g')\n",
    "\n",
    "qHome = C.getJointState()\n",
    "C.setJointState(qHome)"
   ]
  },
  {
   "cell_type": "markdown",
   "metadata": {},
   "source": [
    "Get Final Pose with KOMO"
   ]
  },
  {
   "cell_type": "code",
   "execution_count": 3,
   "metadata": {},
   "outputs": [
    {
     "name": "stdout",
     "output_type": "stream",
     "text": [
      "{ time: 0.000556, evals: 13, done: 1, feasible: 0, sos: 7.38487, f: 0, ineq: 0, eq: 755 }\n",
      "size of path: (1, 3)\n"
     ]
    },
    {
     "data": {
      "text/plain": [
       "0"
      ]
     },
     "execution_count": 3,
     "metadata": {},
     "output_type": "execute_result"
    }
   ],
   "source": [
    "komo = ry.KOMO(C, 1, 1, 2, True)\n",
    "komo.addControlObjective([], 0, 1e-1)\n",
    "komo.addControlObjective([], 2, 1e0)\n",
    "komo.addObjective([], ry.FS.accumulatedCollisions, [], ry.OT.eq, [1e2])\n",
    "komo.addObjective([1], ry.FS.positionDiff, ['base', 'goal_area'], ry.OT.eq, [1e2])\n",
    "komo.addObjective([1], ry.FS.jointState, [], ry.OT.eq, [1e2], [], order=1)\n",
    "\n",
    "\n",
    "ret = ry.NLP_Solver(komo.nlp(), verbose=0).solve()\n",
    "print(ret)\n",
    "q = komo.getPath()\n",
    "print('size of path:', q.shape)\n",
    "\n",
    "qT = komo.getPath()[0]\n",
    "C.setJointState(qT)\n",
    "C.view(False, \"IK solution\")\n"
   ]
  },
  {
   "cell_type": "markdown",
   "metadata": {},
   "source": [
    "RRT"
   ]
  },
  {
   "cell_type": "code",
   "execution_count": 4,
   "metadata": {},
   "outputs": [
    {
     "name": "stdout",
     "output_type": "stream",
     "text": [
      "rettttt:  { time: 0.31339, evals: 4600, done: 1, feasible: 1, sos: -1, f: -1, ineq: -1, eq: -1 }\n",
      "path size: 583\n",
      "rettttt:  { time: 0.315825, evals: 4612, done: 1, feasible: 1, sos: -1, f: -1, ineq: -1, eq: -1 }\n",
      "path size: 584\n"
     ]
    }
   ],
   "source": [
    "#define a path finding problem\n",
    "rrt = ry.PathFinder()\n",
    "rrt.setProblem(C, [qHome], [qT])\n",
    "\n",
    "for i in range(0, 2):\n",
    "    ret = rrt.solve()\n",
    "    print(\"rettttt: \", ret)\n",
    "    path = ret.x\n",
    "    print(\"path size:\", path.shape[0])\n",
    "    # display the path\n",
    "    for t in range(0, path.shape[0] - 1):\n",
    "        C.setJointState(path[t])\n",
    "        C.view()\n",
    "        time.sleep(0.002)"
   ]
  },
  {
   "cell_type": "markdown",
   "metadata": {},
   "source": [
    "Trajectory Optimization via KOMO"
   ]
  },
  {
   "cell_type": "code",
   "execution_count": 5,
   "metadata": {},
   "outputs": [
    {
     "name": "stdout",
     "output_type": "stream",
     "text": [
      "last path: [[ 3.21096295e-05 -1.00725944e-03  7.63672018e-05]\n",
      " [ 1.00989989e-04 -3.00530589e-03  2.28873624e-04]\n",
      " [ 2.11302179e-04 -5.97766694e-03  4.57291284e-04]\n",
      " ...\n",
      " [-4.49936271e+00 -3.00005377e+00  2.95460385e+00]\n",
      " [-4.50044344e+00 -3.00008494e+00  2.95461585e+00]\n",
      " [-4.50044234e+00 -3.00008339e+00  2.95461514e+00]]\n"
     ]
    }
   ],
   "source": [
    "C.setJointState(qHome)\n",
    "komo2 = ry.KOMO(C, 1, path.shape[0], 2, True)\n",
    "komo2.addControlObjective([], 0, 1e-1)\n",
    "komo2.addControlObjective([], 2, 1e0)\n",
    "komo2.addObjective([], ry.FS.accumulatedCollisions, [], ry.OT.eq, [1e2])\n",
    "komo2.addObjective([1], ry.FS.positionDiff, ['base', 'goal_area'], ry.OT.eq, [1e2])\n",
    "komo2.addObjective([1], ry.FS.jointState, [], ry.OT.eq, [1e1], [], order=1)\n",
    "komo2.initWithPath_qOrg(path)\n",
    "\n",
    "ret = ry.NLP_Solver(komo2.nlp(), verbose=0).solve()\n",
    "q = komo2.getPath()\n",
    "print('last path:', q)\n",
    "\n",
    "# display the path for part 1\n",
    "for i in range(0, q.shape[0]):\n",
    "    C.setJointState(q[i])\n",
    "    C.view(False, f'waypoints{i}')\n",
    "    time.sleep(0.02)\n"
   ]
  },
  {
   "cell_type": "markdown",
   "metadata": {},
   "source": [
    "###########################################PART-1 ENDS HERE##########################################"
   ]
  },
  {
   "cell_type": "markdown",
   "metadata": {},
   "source": [
    "###########################################PART-2 STARTS HERE##########################################"
   ]
  },
  {
   "cell_type": "code",
   "execution_count": 6,
   "metadata": {},
   "outputs": [],
   "source": [
    "del komo\n",
    "del C"
   ]
  },
  {
   "cell_type": "code",
   "execution_count": 7,
   "metadata": {},
   "outputs": [
    {
     "name": "stderr",
     "output_type": "stream",
     "text": [
      "== ERROR:kin.cpp:setJointState:634(-2) CHECK_EQ failed: '_q.N'=3 'N'=11 -- wrong joint state dimensionalities\n"
     ]
    },
    {
     "name": "stdout",
     "output_type": "stream",
     "text": [
      "STACK9 /home/bornozlusapiens/miniconda3/envs/cs449/bin/python(PyEval_EvalCode\n",
      "STACK8 /home/bornozlusapiens/miniconda3/envs/cs449/bin/python() [0x591d92]\n",
      "STACK7 /home/bornozlusapiens/miniconda3/envs/cs449/bin/python(_PyEval_EvalFrameDefault\n",
      "STACK6 /home/bornozlusapiens/miniconda3/envs/cs449/bin/python() [0x50819f]\n",
      "STACK5 /home/bornozlusapiens/miniconda3/envs/cs449/bin/python(_PyObject_MakeTpCall\n",
      "STACK4 /home/bornozlusapiens/miniconda3/envs/cs449/bin/python() [0x4fc697]\n",
      "STACK3 /home/bornozlusapiens/.local/lib/python3.10/site-packages/robotic/ry.so(+0x7b93fd) [0x7f398cbb93fd]\n",
      "STACK2 /home/bornozlusapiens/.local/lib/python3.10/site-packages/robotic/ry.so(+0x7fb59d) [0x7f398cbfb59d]\n",
      "STACK1 rai::Configuration::setJointState(rai::ArrayDouble const&)\n",
      "STACK0 rai::LogToken::~LogToken()\n"
     ]
    },
    {
     "ename": "RuntimeError",
     "evalue": "kin.cpp:setJointState:634(-2) CHECK_EQ failed: '_q.N'=3 'N'=11 -- wrong joint state dimensionalities",
     "output_type": "error",
     "traceback": [
      "\u001b[0;31m---------------------------------------------------------------------------\u001b[0m",
      "\u001b[0;31mRuntimeError\u001b[0m                              Traceback (most recent call last)",
      "\u001b[1;32m/home/bornozlusapiens/codes/cs449/hw2/hw2.ipynb Cell 13\u001b[0m line \u001b[0;36m8\n\u001b[1;32m      <a href='vscode-notebook-cell:/home/bornozlusapiens/codes/cs449/hw2/hw2.ipynb#X15sZmlsZQ%3D%3D?line=5'>6</a>\u001b[0m \u001b[39m# display the path for part 1\u001b[39;00m\n\u001b[1;32m      <a href='vscode-notebook-cell:/home/bornozlusapiens/codes/cs449/hw2/hw2.ipynb#X15sZmlsZQ%3D%3D?line=6'>7</a>\u001b[0m \u001b[39mfor\u001b[39;00m i \u001b[39min\u001b[39;00m \u001b[39mrange\u001b[39m(\u001b[39m0\u001b[39m, q\u001b[39m.\u001b[39mshape[\u001b[39m0\u001b[39m]):\n\u001b[0;32m----> <a href='vscode-notebook-cell:/home/bornozlusapiens/codes/cs449/hw2/hw2.ipynb#X15sZmlsZQ%3D%3D?line=7'>8</a>\u001b[0m     C\u001b[39m.\u001b[39;49msetJointState(q[i])\n\u001b[1;32m      <a href='vscode-notebook-cell:/home/bornozlusapiens/codes/cs449/hw2/hw2.ipynb#X15sZmlsZQ%3D%3D?line=8'>9</a>\u001b[0m     C\u001b[39m.\u001b[39mview(\u001b[39mFalse\u001b[39;00m, \u001b[39mf\u001b[39m\u001b[39m'\u001b[39m\u001b[39mwaypoints\u001b[39m\u001b[39m{\u001b[39;00mi\u001b[39m}\u001b[39;00m\u001b[39m'\u001b[39m)\n\u001b[1;32m     <a href='vscode-notebook-cell:/home/bornozlusapiens/codes/cs449/hw2/hw2.ipynb#X15sZmlsZQ%3D%3D?line=9'>10</a>\u001b[0m     time\u001b[39m.\u001b[39msleep(\u001b[39m0.02\u001b[39m)\n",
      "\u001b[0;31mRuntimeError\u001b[0m: kin.cpp:setJointState:634(-2) CHECK_EQ failed: '_q.N'=3 'N'=11 -- wrong joint state dimensionalities"
     ]
    }
   ],
   "source": [
    "C = ry.Config()\n",
    "C.addFile('cargobot.g')\n",
    "C.addFile('maze.g')\n",
    "C.addFile('cargo.g')\n",
    "\n",
    "\n",
    "\n",
    "C.view()\n"
   ]
  },
  {
   "cell_type": "markdown",
   "metadata": {},
   "source": [
    "###########################################PART-2 ENDS HERE##########################################"
   ]
  }
 ],
 "metadata": {
  "kernelspec": {
   "display_name": "cs449",
   "language": "python",
   "name": "python3"
  },
  "language_info": {
   "codemirror_mode": {
    "name": "ipython",
    "version": 3
   },
   "file_extension": ".py",
   "mimetype": "text/x-python",
   "name": "python",
   "nbconvert_exporter": "python",
   "pygments_lexer": "ipython3",
   "version": "3.10.13"
  }
 },
 "nbformat": 4,
 "nbformat_minor": 2
}
