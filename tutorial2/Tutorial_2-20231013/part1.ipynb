{
 "cells": [
  {
   "cell_type": "code",
   "execution_count": 3,
   "metadata": {},
   "outputs": [],
   "source": [
    "from robotic import ry\n",
    "import numpy as np\n",
    "import time"
   ]
  },
  {
   "attachments": {},
   "cell_type": "markdown",
   "metadata": {},
   "source": [
    "## Part a) Adding a constraint to simulation"
   ]
  },
  {
   "cell_type": "code",
   "execution_count": 4,
   "metadata": {},
   "outputs": [],
   "source": [
    "C = ry.Config()\n",
    "C.addFile(ry.raiPath('scenarios/pandaSingle.g'))\n",
    "C.addFrame('way1'). setShape(ry.ST.marker, [.1]) .setPosition([.4, .2, 1.])\n",
    "C.addFrame('way3'). setShape(ry.ST.marker, [.1]) .setPosition([-.4, .2, 1.])\n",
    "\n",
    "C.addFrame('box') \\\n",
    "    .setPosition([-.25,.1,1.]) \\\n",
    "    .setShape(ry.ST.ssBox, size=[.06,.6,.6,.005]) \\\n",
    "    .setColor([1,.5,0]) \\\n",
    "    .setContact(True)\n",
    "\n",
    "C.view()\n",
    "qHome = C.getJointState()"
   ]
  },
  {
   "attachments": {},
   "cell_type": "markdown",
   "metadata": {},
   "source": [
    "First, solve the task without collision constraint"
   ]
  },
  {
   "cell_type": "code",
   "execution_count": 6,
   "metadata": {},
   "outputs": [
    {
     "name": "stdout",
     "output_type": "stream",
     "text": [
      "{ time: 0.022578, evals: 15, done: 1, feasible: 1, sos: 1.88422, f: 0, ineq: 0, eq: 0.00134121 }\n",
      "[[-3.70382074e-02 -4.54617309e-01 -3.78776378e-02 -2.00579252e+00\n",
      "  -9.45349382e-03  2.01354200e+00 -4.99973172e-01]\n",
      " [-7.41172529e-02 -4.09185138e-01 -7.57916421e-02 -2.01158688e+00\n",
      "  -1.89116215e-02  2.02709587e+00 -4.99946312e-01]\n",
      " [-1.11277927e-01 -3.63654163e-01 -1.13778433e-01 -2.01738506e+00\n",
      "  -2.83791287e-02  2.04067340e+00 -4.99919385e-01]\n",
      " [-1.48560931e-01 -3.17975358e-01 -1.51874543e-01 -2.02318925e+00\n",
      "  -3.78609833e-02  2.05428620e+00 -4.99892359e-01]\n",
      " [-1.86006841e-01 -2.72100118e-01 -1.90116674e-01 -2.02900194e+00\n",
      "  -4.73624853e-02  2.06794561e+00 -4.99865203e-01]\n",
      " [-2.23656090e-01 -2.25980346e-01 -2.28541778e-01 -2.03482605e+00\n",
      "  -5.68893727e-02  2.08166270e+00 -4.99837885e-01]\n",
      " [-2.61548962e-01 -1.79568497e-01 -2.67187129e-01 -2.04066491e+00\n",
      "  -6.64479244e-02  2.09544820e+00 -4.99810376e-01]\n",
      " [-2.99725607e-01 -1.32817588e-01 -3.06090420e-01 -2.04652239e+00\n",
      "  -7.60450562e-02  2.10931253e+00 -4.99782648e-01]\n",
      " [-3.38226082e-01 -8.56811529e-02 -3.45289866e-01 -2.05240282e+00\n",
      "  -8.56884092e-02  2.12326582e+00 -4.99754675e-01]\n",
      " [-3.77090409e-01 -3.81131737e-02 -3.84824319e-01 -2.05831104e+00\n",
      "  -9.53864274e-02  2.13731797e+00 -4.99726433e-01]\n",
      " [-3.38027411e-01 -4.37283638e-02 -3.45469055e-01 -2.05837290e+00\n",
      "  -8.57676776e-02  2.13553874e+00 -4.99697900e-01]\n",
      " [-2.99328097e-01 -4.88355017e-02 -3.06448930e-01 -2.05845447e+00\n",
      "  -7.62036217e-02  2.13388525e+00 -4.99669058e-01]\n",
      " [-2.60952285e-01 -5.34047516e-02 -2.67725225e-01 -2.05854306e+00\n",
      "  -6.66858410e-02  2.13237405e+00 -4.99639892e-01]\n",
      " [-2.22859771e-01 -5.74080221e-02 -2.29259852e-01 -2.05862689e+00\n",
      "  -5.72067145e-02  2.13102068e+00 -4.99610391e-01]\n",
      " [-1.85010274e-01 -6.08196736e-02 -1.91015246e-01 -2.05869534e+00\n",
      "  -4.77593385e-02  2.12983918e+00 -4.99580547e-01]\n",
      " [-1.47363402e-01 -6.36171665e-02 -1.52954253e-01 -2.05873916e+00\n",
      "  -3.83374372e-02  2.12884171e+00 -4.99550358e-01]\n",
      " [-1.09878644e-01 -6.57816395e-02 -1.15040045e-01 -2.05875063e+00\n",
      "  -2.89352660e-02  2.12803816e+00 -4.99519827e-01]\n",
      " [-7.25153722e-02 -6.72984072e-02 -7.72360385e-02 -2.05872373e+00\n",
      "  -1.95475099e-02  2.12743579e+00 -4.99488961e-01]\n",
      " [-3.52328700e-02 -6.81573763e-02 -3.95058273e-02 -2.05865427e+00\n",
      "  -1.01691795e-02  2.12703904e+00 -4.99457775e-01]\n",
      " [ 2.00963686e-03 -6.83533774e-02 -1.81312514e-03 -2.05854001e+00\n",
      "  -7.95506379e-04  2.12684916e+00 -4.99426289e-01]\n",
      " [ 3.92529364e-02 -6.78864184e-02  3.58782840e-02 -2.05838076e+00\n",
      "   8.57816200e-03  2.12686416e+00 -4.99394532e-01]\n",
      " [ 7.65377845e-02 -6.67618640e-02  7.36045901e-02 -2.05817844e+00\n",
      "   1.79564649e-02  2.12707855e+00 -4.99362537e-01]\n",
      " [ 1.13904860e-01 -6.49905530e-02  1.11401999e-01 -2.05793718e+00\n",
      "   2.73441288e-02  2.12748326e+00 -4.99330346e-01]\n",
      " [ 1.51394723e-01 -6.25888641e-02  1.49306773e-01 -2.05766340e+00\n",
      "   3.67460651e-02  2.12806555e+00 -4.99298009e-01]\n",
      " [ 1.89047788e-01 -5.95787491e-02  1.87355278e-01 -2.05736585e+00\n",
      "   4.61674624e-02  2.12880889e+00 -4.99265583e-01]\n",
      " [ 2.26904301e-01 -5.59877520e-02  2.25584033e-01 -2.05705575e+00\n",
      "   5.56138743e-02  2.12969289e+00 -4.99233134e-01]\n",
      " [ 2.65004336e-01 -5.18490428e-02  2.64029763e-01 -2.05674690e+00\n",
      "   6.50912994e-02  2.13069318e+00 -4.99200735e-01]\n",
      " [ 3.03387815e-01 -4.72014976e-02  3.02729466e-01 -2.05645585e+00\n",
      "   7.46062529e-02  2.13178122e+00 -4.99168467e-01]\n",
      " [ 3.42094532e-01 -4.20898667e-02  3.41720482e-01 -2.05620210e+00\n",
      "   8.41658268e-02  2.13292410e+00 -4.99136418e-01]\n",
      " [ 3.81164211e-01 -3.65650842e-02  3.81040564e-01 -2.05600846e+00\n",
      "   9.37777362e-02  2.13408411e+00 -4.99104684e-01]\n",
      " [ 3.41907395e-01 -4.17356701e-02  3.41796727e-01 -2.05601055e+00\n",
      "   8.42013499e-02  2.13307621e+00 -4.99073366e-01]\n",
      " [ 3.03014910e-01 -4.64988180e-02  3.02882866e-01 -2.05607453e+00\n",
      "   7.46774399e-02  2.13208007e+00 -4.99042573e-01]\n",
      " [ 2.64448387e-01 -5.08092169e-02  2.64262114e-01 -2.05617936e+00\n",
      "   6.51984190e-02  2.13112806e+00 -4.99012417e-01]\n",
      " [ 2.26169357e-01 -5.46275584e-02  2.25897974e-01 -2.05630720e+00\n",
      "   5.57572968e-02  2.13024788e+00 -4.98983016e-01]\n",
      " [ 1.88139180e-01 -5.79201398e-02  1.87754221e-01 -2.05644308e+00\n",
      "   4.63476217e-02  2.12946296e+00 -4.98954492e-01]\n",
      " [ 1.50319000e-01 -6.06586118e-02  1.49794817e-01 -2.05657465e+00\n",
      "   3.69634104e-02  2.12879278e+00 -4.98926966e-01]\n",
      " [ 1.12669714e-01 -6.28198202e-02  1.11983827e-01 -2.05669197e+00\n",
      "   2.75990678e-02  2.12825306e+00 -4.98900564e-01]\n",
      " [ 7.51519628e-02 -6.43857029e-02  7.42853436e-02 -2.05678738e+00\n",
      "   1.82493014e-02  2.12785590e+00 -4.98875409e-01]\n",
      " [ 3.77261271e-02 -6.53432137e-02  3.66634273e-02 -2.05685534e+00\n",
      "   8.90902994e-03  2.12760989e+00 -4.98851626e-01]\n",
      " [ 3.52347983e-04 -6.56842498e-02 -9.17948388e-04 -2.05689237e+00\n",
      "  -4.26707934e-04  2.12752023e+00 -4.98829333e-01]\n",
      " [-3.70094493e-02 -6.54055695e-02 -3.84949441e-02 -2.05689696e+00\n",
      "  -9.76284733e-03  2.12758881e+00 -4.98808646e-01]\n",
      " [-7.43995220e-02 -6.45086898e-02 -7.61038947e-02 -2.05686951e+00\n",
      "  -1.91043888e-02  2.12781428e+00 -4.98789678e-01]\n",
      " [-1.11858273e-01 -6.29997594e-02 -1.13781346e-01 -2.05681225e+00\n",
      "  -2.84564885e-02  2.12819215e+00 -4.98772531e-01]\n",
      " [-1.49426215e-01 -6.08894075e-02 -1.51564087e-01 -2.05672924e+00\n",
      "  -3.78245451e-02  2.12871488e+00 -4.98757303e-01]\n",
      " [-1.87143932e-01 -5.81925725e-02 -1.89489184e-01 -2.05662630e+00\n",
      "  -4.72142826e-02  2.12937198e+00 -4.98744079e-01]\n",
      " [-2.25052053e-01 -5.49283194e-02 -2.27594015e-01 -2.05651098e+00\n",
      "  -5.66318284e-02  2.13015008e+00 -4.98732937e-01]\n",
      " [-2.63191225e-01 -5.11196578e-02 -2.65916301e-01 -2.05639260e+00\n",
      "  -6.60837840e-02  2.13103302e+00 -4.98723942e-01]\n",
      " [-3.01602101e-01 -4.67933803e-02 -3.04494144e-01 -2.05628227e+00\n",
      "  -7.55772889e-02  2.13200183e+00 -4.98717148e-01]\n",
      " [-3.40325337e-01 -4.19799435e-02 -3.43366068e-01 -2.05619293e+00\n",
      "  -8.51200751e-02  2.13303483e+00 -4.98712596e-01]\n",
      " [-3.79401594e-01 -3.67134222e-02 -3.82571049e-01 -2.05613947e+00\n",
      "  -9.47205091e-02  2.13410747e+00 -4.98710313e-01]]\n"
     ]
    }
   ],
   "source": [
    "C.setJointState(qHome)\n",
    "komo = ry.KOMO(C, 5, 10, 1, True)\n",
    "komo.addControlObjective([], 0, 1e-1)\n",
    "komo.addControlObjective([], 1, 1e0)\n",
    "komo.addObjective([1], ry.FS.positionDiff, ['l_gripper', 'way1'], ry.OT.eq, [1e1])\n",
    "komo.addObjective([3], ry.FS.positionDiff, ['l_gripper', 'way3'], ry.OT.eq, [1e1])\n",
    "komo.addObjective([5], ry.FS.positionDiff, ['l_gripper', 'way1'], ry.OT.eq, [1e1])\n",
    "\n",
    "ret = ry.NLP_Solver(komo.nlp(), verbose=0 ) .solve()\n",
    "print(ret)\n",
    "q = komo.getPath()\n",
    "print(q)\n",
    "\n",
    "for t in range(q.shape[0]):\n",
    "    C.setJointState(q[t])\n",
    "    C.view(False, f'waypoint {t}')\n",
    "    time.sleep(0.1)"
   ]
  },
  {
   "attachments": {},
   "cell_type": "markdown",
   "metadata": {},
   "source": [
    "Then, we add collision constraint with \"accumulatedCollisions\" feature"
   ]
  },
  {
   "cell_type": "code",
   "execution_count": 19,
   "metadata": {},
   "outputs": [],
   "source": [
    "del komo\n",
    "del C"
   ]
  },
  {
   "cell_type": "code",
   "execution_count": 20,
   "metadata": {},
   "outputs": [],
   "source": [
    "C = ry.Config()\n",
    "C.addFile(ry.raiPath('scenarios/pandaSingle.g'))\n",
    "C.addFrame('way1'). setShape(ry.ST.marker, [.1]) .setPosition([.4, .2, 1.])\n",
    "C.addFrame('way3'). setShape(ry.ST.marker, [.1]) .setPosition([-.4, .2, 1.])\n",
    "\n",
    "C.addFrame('box') \\\n",
    "    .setPosition([-.25,.1,1.]) \\\n",
    "    .setShape(ry.ST.ssBox, size=[.06,.6,.6,.005]) \\\n",
    "    .setColor([1,.5,0]) \\\n",
    "    .setContact(True)\n",
    "\n",
    "C.view()\n",
    "qHome = C.getJointState()"
   ]
  },
  {
   "attachments": {},
   "cell_type": "markdown",
   "metadata": {},
   "source": [
    "But we see that there is a jump in the motion while passing the obstacle\n",
    "\n",
    "Here we will see the importance of the scale of the constraint (give values 0, 100 and 1 (which is default one) relatively). Then put 0.1 (1e-1) for perfect case. Do not forget to Del K and C or restart."
   ]
  },
  {
   "cell_type": "code",
   "execution_count": 34,
   "metadata": {},
   "outputs": [
    {
     "name": "stdout",
     "output_type": "stream",
     "text": [
      "{ time: 0.801347, evals: 267, done: 1, feasible: 1, sos: 4.014, f: 0, ineq: 0, eq: 0.0141815 }\n",
      "[[-3.51565731e-02 -4.50905644e-01 -3.85410208e-02 -2.00015671e+00\n",
      "  -1.30812804e-02  2.00507939e+00 -4.97746308e-01]\n",
      " [-7.03360150e-02 -4.01747876e-01 -7.71274853e-02 -2.00029244e+00\n",
      "  -2.61913485e-02  2.01013218e+00 -4.95487446e-01]\n",
      " [-1.05561136e-01 -3.52463192e-01 -1.15804979e-01 -2.00038617e+00\n",
      "  -3.93589496e-02  2.01513170e+00 -4.93218232e-01]\n",
      " [-1.40854632e-01 -3.02987914e-01 -1.54619370e-01 -2.00041675e+00\n",
      "  -5.26127436e-02  2.02005116e+00 -4.90933454e-01]\n",
      " [-1.76239022e-01 -2.53258099e-01 -1.93616954e-01 -2.00036288e+00\n",
      "  -6.59812595e-02  2.02486352e+00 -4.88627855e-01]\n",
      " [-2.11736592e-01 -2.03209458e-01 -2.32844601e-01 -2.00020305e+00\n",
      "  -7.94928477e-02  2.02954153e+00 -4.86296114e-01]\n",
      " [-2.47369332e-01 -1.52777276e-01 -2.72349900e-01 -1.99991551e+00\n",
      "  -9.31756289e-02  2.03405759e+00 -4.83932822e-01]\n",
      " [-2.83158879e-01 -1.01896340e-01 -3.12181311e-01 -1.99947820e+00\n",
      "  -1.07057438e-01  2.03838379e+00 -4.81532451e-01]\n",
      " [-3.19126451e-01 -5.05008697e-02 -3.52388320e-01 -1.99886879e+00\n",
      "  -1.21165767e-01  2.04249183e+00 -4.79089321e-01]\n",
      " [-3.55292785e-01  1.47554120e-03 -3.93021595e-01 -1.99806462e+00\n",
      "  -1.35527699e-01  2.04635309e+00 -4.76597559e-01]\n",
      " [-3.17039538e-01 -1.21861129e-02 -3.59448551e-01 -1.97554105e+00\n",
      "  -1.30475491e-01  2.03718357e+00 -4.74051046e-01]\n",
      " [-2.78946501e-01 -2.52287212e-02 -3.26333534e-01 -1.95272347e+00\n",
      "  -1.25704637e-01  2.02769673e+00 -4.71443357e-01]\n",
      " [-2.40954234e-01 -3.76801298e-02 -2.93657961e-01 -1.92953566e+00\n",
      "  -1.21215630e-01  2.01785070e+00 -4.68767693e-01]\n",
      " [-2.03002531e-01 -4.95666282e-02 -2.61405077e-01 -1.90590191e+00\n",
      "  -1.17008221e-01  2.00760337e+00 -4.66016799e-01]\n",
      " [-1.65030360e-01 -6.09124797e-02 -2.29560135e-01 -1.88174749e+00\n",
      "  -1.13081321e-01  1.99691239e+00 -4.63182866e-01]\n",
      " [-1.26975834e-01 -7.17393821e-02 -1.98110580e-01 -1.85699931e+00\n",
      "  -1.09432918e-01  1.98573529e+00 -4.60257432e-01]\n",
      " [-8.87762122e-02 -8.20658335e-02 -1.67046262e-01 -1.83158665e+00\n",
      "  -1.06060011e-01  1.97402965e+00 -4.57231259e-01]\n",
      " [-5.03679562e-02 -9.19063714e-02 -1.36359650e-01 -1.80544210e+00\n",
      "  -1.02958568e-01  1.96175321e+00 -4.54094204e-01]\n",
      " [-1.16868462e-02 -1.01270657e-01 -1.06046087e-01 -1.77850275e+00\n",
      "  -1.00123507e-01  1.94886417e+00 -4.50835081e-01]\n",
      " [ 2.73318271e-02 -1.10162375e-01 -7.61040542e-02 -1.75071161e+00\n",
      "  -9.75487293e-02  1.93532145e+00 -4.47441509e-01]\n",
      " [ 6.67529762e-02 -1.18577915e-01 -4.65354575e-02 -1.72201930e+00\n",
      "  -9.52271819e-02  1.92108502e+00 -4.43899758e-01]\n",
      " [ 1.06641319e-01 -1.26504813e-01 -1.73459437e-02 -1.69238616e+00\n",
      "  -9.31509943e-02  1.90611631e+00 -4.40194599e-01]\n",
      " [ 1.47060847e-01 -1.33919922e-01  1.14547718e-02 -1.66178467e+00\n",
      "  -9.13116714e-02  1.89037869e+00 -4.36309150e-01]\n",
      " [ 1.88074139e-01 -1.40787288e-01  3.98525597e-02 -1.63020223e+00\n",
      "  -8.97003673e-02  1.87383799e+00 -4.32224750e-01]\n",
      " [ 2.29741495e-01 -1.47055721e-01  6.78285269e-02 -1.59764449e+00\n",
      "  -8.83082429e-02  1.85646309e+00 -4.27920845e-01]\n",
      " [ 2.72236776e-01 -1.52634934e-01  9.54848240e-02 -1.56414301e+00\n",
      "  -8.71027524e-02  1.83823318e+00 -4.23356982e-01]\n",
      " [ 4.00766006e-01 -1.39175231e-01  2.15176132e-01 -1.53003348e+00\n",
      "  -5.28919186e-02  1.83174481e+00 -4.04222286e-01]\n",
      " [ 4.58890887e-01 -8.05567219e-02  2.58871542e-01 -1.56145522e+00\n",
      "  -4.44794097e-02  1.79859875e+00 -3.99078835e-01]\n",
      " [ 4.90836453e-01 -1.88651275e-02  2.73473306e-01 -1.60437294e+00\n",
      "  -4.23445323e-02  1.75801757e+00 -3.98795095e-01]\n",
      " [ 5.21457741e-01  1.64740821e-01  2.86079712e-01 -1.74959005e+00\n",
      "  -4.70775566e-02  1.71654632e+00 -3.98156498e-01]\n",
      " [ 4.91683820e-01 -1.66265796e-02  2.73247233e-01 -1.60157541e+00\n",
      "  -4.40789191e-02  1.75325772e+00 -3.97165117e-01]\n",
      " [ 4.60491832e-01 -7.59270725e-02  2.58224115e-01 -1.55579124e+00\n",
      "  -4.79596200e-02  1.78904418e+00 -3.95822078e-01]\n",
      " [ 4.03611247e-01 -1.32330242e-01  2.14674700e-01 -1.52104487e+00\n",
      "  -5.80307621e-02  1.81745989e+00 -3.99246457e-01]\n",
      " [ 2.76586780e-01 -1.44413556e-01  9.54885363e-02 -1.55055714e+00\n",
      "  -9.39547602e-02  1.81928118e+00 -4.16598500e-01]\n",
      " [ 2.34993054e-01 -1.36396384e-01  6.73964558e-02 -1.58050046e+00\n",
      "  -9.70162028e-02  1.83255801e+00 -4.19668424e-01]\n",
      " [ 1.94339377e-01 -1.27604482e-01  3.90565356e-02 -1.60945217e+00\n",
      "  -1.00314448e-01  1.84482102e+00 -4.22472248e-01]\n",
      " [ 1.54378747e-01 -1.18132587e-01  1.02775310e-02 -1.63734990e+00\n",
      "  -1.03911267e-01  1.85606696e+00 -4.25049684e-01]\n",
      " [ 1.15059462e-01 -1.08015712e-01 -1.89235201e-02 -1.66416549e+00\n",
      "  -1.07827985e-01  1.86630558e+00 -4.27409445e-01]\n",
      " [ 7.63278341e-02 -9.72740209e-02 -4.85346796e-02 -1.68988872e+00\n",
      "  -1.12086181e-01  1.87554827e+00 -4.29559548e-01]\n",
      " [ 3.81290585e-02 -8.59149775e-02 -7.85488257e-02 -1.71452409e+00\n",
      "  -1.16707372e-01  1.88380738e+00 -4.31507265e-01]\n",
      " [ 4.07933106e-04 -7.39352469e-02 -1.08963362e-01 -1.73808794e+00\n",
      "  -1.21712751e-01  1.89109569e+00 -4.33259103e-01]\n",
      " [-3.68905674e-02 -6.13223369e-02 -1.39779936e-01 -1.76060602e+00\n",
      "  -1.27123003e-01  1.89742591e+00 -4.34820808e-01]\n",
      " [-7.38208375e-02 -4.80560020e-02 -1.71004168e-01 -1.78211136e+00\n",
      "  -1.32958159e-01  1.90281028e+00 -4.36197390e-01]\n",
      " [-1.10436291e-01 -3.41094293e-02 -2.02645414e-01 -1.80264244e+00\n",
      "  -1.39237504e-01  1.90726021e+00 -4.37393154e-01]\n",
      " [-1.46789095e-01 -1.94502302e-02 -2.34716543e-01 -1.82224169e+00\n",
      "  -1.45979525e-01  1.91078602e+00 -4.38411744e-01]\n",
      " [-1.82929980e-01 -4.04126404e-03 -2.67233746e-01 -1.84095425e+00\n",
      "  -1.53201879e-01  1.91339666e+00 -4.39256182e-01]\n",
      " [-2.18908104e-01  1.21586781e-02 -3.00216378e-01 -1.85882689e+00\n",
      "  -1.60921392e-01  1.91509957e+00 -4.39928912e-01]\n",
      " [-2.54770958e-01  2.91943029e-02 -3.33686817e-01 -1.87590718e+00\n",
      "  -1.69154070e-01  1.91590055e+00 -4.40431839e-01]\n",
      " [-2.90564314e-01  4.71133295e-02 -3.67670356e-01 -1.89224280e+00\n",
      "  -1.77915114e-01  1.91580365e+00 -4.40766361e-01]\n",
      " [-3.26332184e-01  6.59660611e-02 -4.02195108e-01 -1.90788094e+00\n",
      "  -1.87218949e-01  1.91481114e+00 -4.40933395e-01]]\n"
     ]
    }
   ],
   "source": [
    "C.setJointState(qHome)\n",
    "komo = ry.KOMO(C, 5, 10, 1, True)\n",
    "komo.addControlObjective([], 0, 1e-1)\n",
    "komo.addControlObjective([], 1, 1e0)\n",
    "komo.addObjective([], ry.FS.accumulatedCollisions, [], ry.OT.eq,[1e-1]);\n",
    "komo.addObjective([1], ry.FS.positionDiff, ['l_gripper', 'way1'], ry.OT.eq, [1e1])\n",
    "komo.addObjective([3], ry.FS.positionDiff, ['l_gripper', 'way3'], ry.OT.eq, [1e1])\n",
    "komo.addObjective([5], ry.FS.positionDiff, ['l_gripper', 'way1'], ry.OT.eq, [1e1])\n",
    "\n",
    "ret = ry.NLP_Solver(komo.nlp(), verbose=0 ) .solve()\n",
    "print(ret)\n",
    "q = komo.getPath()\n",
    "print(q)\n",
    "\n",
    "for t in range(q.shape[0]):\n",
    "    C.setJointState(q[t])\n",
    "    C.view(False, f'waypoint {t}')\n",
    "    time.sleep(0.1)"
   ]
  },
  {
   "attachments": {},
   "cell_type": "markdown",
   "metadata": {},
   "source": [
    "komo.addObjective([], ry.FS.accumulatedCollisions, [], ry.OT.eq);\n",
    "\n",
    "    komo.addObjective(...): This is calling a method named addObjective on the komo object, which is an instance of a KOMO optimizer.\n",
    "\n",
    "    []: The first argument [] specifies the time intervals over which this objective applies. In this case, [] means it applies to all time intervals. In other words, this objective is valid for the entire duration of the optimization.\n",
    "\n",
    "    ry.FS.accumulatedCollisions: The second argument ry.FS.accumulatedCollisions is specifying the type of feature to use for this objective. In this case, it's using a feature related to accumulated collisions. This means the objective will aim to minimize the total amount of collisions that occur throughout the motion.\n",
    "\n",
    "    []: The third argument [] specifies the frames associated with this feature. Since ry.FS.accumulatedCollisions doesn't require specific frame associations, this argument is left empty.\n",
    "\n",
    "    ry.OT.eq: The fourth argument ry.OT.eq specifies the type of objective. Here, it's an equality constraint. This means the optimizer will aim to make the value of the accumulated collisions equal to a certain target value (which is default value zero in here).\n",
    "\n",
    "Putting it all together, this line is instructing the optimizer to minimize the total amount of accumulated collisions over the entire duration of the motion, treating it as an equality constraint. This is a way to prioritize collision-free or low-collision solutions."
   ]
  },
  {
   "attachments": {},
   "cell_type": "markdown",
   "metadata": {},
   "source": [
    "##  Part b) Possible State Solution by KOMO"
   ]
  },
  {
   "cell_type": "code",
   "execution_count": 35,
   "metadata": {},
   "outputs": [],
   "source": [
    "del komo\n",
    "del C"
   ]
  },
  {
   "cell_type": "code",
   "execution_count": 42,
   "metadata": {},
   "outputs": [],
   "source": [
    "C = ry.Config()\n",
    "C.addFile(ry.raiPath('scenarios/pandaSingle.g'))\n",
    "C.addFrame('way3'). setShape(ry.ST.marker, [.1]) .setPosition([-.4, .2, 1.])\n",
    "\n",
    "C.addFrame('box') \\\n",
    "    .setPosition([-.25,.1,1.3]) \\\n",
    "    .setShape(ry.ST.ssBox, size=[.06,.7,.5,.005]) \\\n",
    "    .setColor([1,.5,0]) \\\n",
    "    .setContact(True)\n",
    "\n",
    "C.view()\n",
    "qHome = C.getJointState()"
   ]
  },
  {
   "cell_type": "code",
   "execution_count": 38,
   "metadata": {},
   "outputs": [
    {
     "name": "stdout",
     "output_type": "stream",
     "text": [
      "{ time: 0.279718, evals: 398, done: 1, feasible: 1, sos: 59.8335, f: 0, ineq: 0, eq: 0.0322768 }\n",
      "size of path: (10, 7)\n"
     ]
    }
   ],
   "source": [
    "C.setJointState(qHome)\n",
    "komo = ry.KOMO(C, 1, 10, 2, True)\n",
    "komo.addControlObjective([], 0, 1e-1) \n",
    "komo.addControlObjective([], 2, 1e0)\n",
    "komo.addObjective([], ry.FS.accumulatedCollisions, [], ry.OT.eq,[1e1]);\n",
    "komo.addObjective([1], ry.FS.positionDiff, ['l_gripper', 'way3'], ry.OT.eq, [1e1])\n",
    "komo.addObjective([1], ry.FS.jointState, [], ry.OT.eq, [1e1], [], order=1)\n",
    "\n",
    "ret = ry.NLP_Solver(komo.nlp(), verbose=0 ) .solve()\n",
    "print(ret)\n",
    "q = komo.getPath()\n",
    "print('size of path:', q.shape)\n",
    "\n",
    "for t in range(q.shape[0]):\n",
    "    C.setJointState(q[t])\n",
    "    C.view(False, f'waypoint {t}')\n",
    "    time.sleep(.1)"
   ]
  },
  {
   "attachments": {},
   "cell_type": "markdown",
   "metadata": {},
   "source": [
    "## Possible State Solution by RRT"
   ]
  },
  {
   "cell_type": "code",
   "execution_count": 43,
   "metadata": {},
   "outputs": [
    {
     "data": {
      "text/plain": [
       "0"
      ]
     },
     "execution_count": 43,
     "metadata": {},
     "output_type": "execute_result"
    }
   ],
   "source": [
    "# that's the goal configuration\n",
    "qT = komo.getPath()[-1]\n",
    "C.setJointState(qT)\n",
    "C.view(False, \"IK solution\")"
   ]
  },
  {
   "cell_type": "code",
   "execution_count": 44,
   "metadata": {},
   "outputs": [
    {
     "name": "stdout",
     "output_type": "stream",
     "text": [
      "{ time: 0.011094, evals: 60, done: 1, feasible: 1, sos: -1, f: -1, ineq: -1, eq: -1 }\n"
     ]
    }
   ],
   "source": [
    "#define a path finding problem\n",
    "rrt = ry.PathFinder()\n",
    "rrt.setProblem(C, [qHome], [qT])\n",
    "\n",
    "ret = rrt.solve()\n",
    "print(ret)\n",
    "path = ret.x"
   ]
  },
  {
   "cell_type": "code",
   "execution_count": 46,
   "metadata": {},
   "outputs": [],
   "source": [
    "# display the path\n",
    "for t in range(0, path.shape[0]-1):\n",
    "    C.setJointState(path[t])\n",
    "    C.view()\n",
    "    time.sleep(.1)"
   ]
  },
  {
   "attachments": {},
   "cell_type": "markdown",
   "metadata": {},
   "source": [
    "## RRT Solution on BotOp "
   ]
  },
  {
   "cell_type": "code",
   "execution_count": 47,
   "metadata": {},
   "outputs": [],
   "source": [
    "# run the path with botop\n",
    "C.setJointState(qHome)\n",
    "ry.params_add({'botsim/verbose': 1., 'physx/motorKp': 10000., 'physx/motorKd': 1000.})\n",
    "bot = ry.BotOp(C, False)\n",
    "bot.home(C)"
   ]
  },
  {
   "cell_type": "code",
   "execution_count": 48,
   "metadata": {},
   "outputs": [
    {
     "name": "stdout",
     "output_type": "stream",
     "text": [
      "0.170185 1\n"
     ]
    }
   ],
   "source": [
    "bot.moveAutoTimed(path, 1., 1.)\n",
    "while bot.getTimeToEnd()>0:\n",
    "    bot.sync(C, .1)"
   ]
  },
  {
   "cell_type": "code",
   "execution_count": 49,
   "metadata": {},
   "outputs": [
    {
     "name": "stdout",
     "output_type": "stream",
     "text": [
      "-- bot.cpp:~BotOp:106(0) shutting down BotOp...\n",
      "-- simulation.cpp:~BotThreadedSim:56(0) shutting down SimThread\n",
      "-- simulation.cpp:~Simulation:148(0) shutting down Simulation\n"
     ]
    }
   ],
   "source": [
    "del komo\n",
    "del rrt\n",
    "del bot\n",
    "del C"
   ]
  },
  {
   "attachments": {},
   "cell_type": "markdown",
   "metadata": {},
   "source": [
    "Lets give impossible state"
   ]
  },
  {
   "attachments": {},
   "cell_type": "markdown",
   "metadata": {},
   "source": [
    "##  Part c) Impossible State Solution by KOMO"
   ]
  },
  {
   "cell_type": "code",
   "execution_count": 50,
   "metadata": {},
   "outputs": [],
   "source": [
    "C = ry.Config()\n",
    "C.addFile(ry.raiPath('scenarios/pandaSingle.g'))\n",
    "C.addFrame('way3'). setShape(ry.ST.marker, [.1]) .setPosition([-.4, .2, 1.])\n",
    "\n",
    "C.addFrame('box') \\\n",
    "    .setPosition([-.25,.1,1.]) \\\n",
    "    .setShape(ry.ST.ssBox, size=[.06,.7,.7,.005]) \\\n",
    "    .setColor([1,.5,0]) \\\n",
    "    .setContact(True)\n",
    "\n",
    "C.view()\n",
    "qHome = C.getJointState()"
   ]
  },
  {
   "cell_type": "code",
   "execution_count": 51,
   "metadata": {},
   "outputs": [
    {
     "name": "stdout",
     "output_type": "stream",
     "text": [
      "{ time: 0.057812, evals: 58, done: 1, feasible: 1, sos: 7.82926, f: 0, ineq: 0, eq: 0.176068 }\n",
      "size of path: (10, 7)\n"
     ]
    }
   ],
   "source": [
    "C.setJointState(qHome)\n",
    "komo = ry.KOMO(C, 1, 10, 2, True)\n",
    "komo.addControlObjective([], 0, 1e-1) \n",
    "komo.addControlObjective([], 2, 1e0)\n",
    "komo.addObjective([], ry.FS.accumulatedCollisions, [], ry.OT.eq,[1e-1]);\n",
    "komo.addObjective([1], ry.FS.positionDiff, ['l_gripper', 'way3'], ry.OT.eq, [1e1])\n",
    "komo.addObjective([1], ry.FS.jointState, [], ry.OT.eq, [1e1], [], order=1)\n",
    "\n",
    "ret = ry.NLP_Solver(komo.nlp(), verbose=0 ) .solve()\n",
    "print(ret)\n",
    "q = komo.getPath()\n",
    "print('size of path:', q.shape)\n",
    "\n",
    "for t in range(q.shape[0]):\n",
    "    C.setJointState(q[t])\n",
    "    C.view(False, f'waypoint {t}')\n",
    "    time.sleep(.1)"
   ]
  },
  {
   "attachments": {},
   "cell_type": "markdown",
   "metadata": {},
   "source": [
    "## Impossible State Solution by RRT"
   ]
  },
  {
   "cell_type": "code",
   "execution_count": 52,
   "metadata": {},
   "outputs": [
    {
     "data": {
      "text/plain": [
       "0"
      ]
     },
     "execution_count": 52,
     "metadata": {},
     "output_type": "execute_result"
    }
   ],
   "source": [
    "# that's the goal configuration\n",
    "qT = komo.getPath()[-1]\n",
    "C.setJointState(qT)\n",
    "C.view(False, \"IK solution\")"
   ]
  },
  {
   "cell_type": "code",
   "execution_count": 53,
   "metadata": {},
   "outputs": [
    {
     "name": "stdout",
     "output_type": "stream",
     "text": [
      "-- RRT_PathFinder.cpp:RRT_SingleTree:55(0) rooting RRT with infeasible start configuration -- that's likely to fail: query is:\n",
      "query: h_goal: 0 g_coll: 0.191575 isGoal: 1 isFeasible: 0\n",
      "{ time: 1.01741, evals: 5001, done: 1, feasible: 0, sos: -1, f: -1, ineq: -1, eq: -1 }\n"
     ]
    }
   ],
   "source": [
    "#define a path finding problem\n",
    "rrt = ry.PathFinder()\n",
    "rrt.setProblem(C, [qHome], [qT])\n",
    "\n",
    "ret = rrt.solve()\n",
    "print(ret)\n",
    "path = ret.x"
   ]
  },
  {
   "attachments": {},
   "cell_type": "markdown",
   "metadata": {},
   "source": [
    "So we will get an error since there is no feasible solution"
   ]
  },
  {
   "cell_type": "code",
   "execution_count": 54,
   "metadata": {},
   "outputs": [
    {
     "ename": "IndexError",
     "evalue": "tuple index out of range",
     "output_type": "error",
     "traceback": [
      "\u001b[0;31m---------------------------------------------------------------------------\u001b[0m",
      "\u001b[0;31mIndexError\u001b[0m                                Traceback (most recent call last)",
      "\u001b[1;32m/home/bornozlusapiens/codes/cs449/tutorial2/Tutorial_2-20231013/part1.ipynb Cell 32\u001b[0m line \u001b[0;36m2\n\u001b[1;32m      <a href='vscode-notebook-cell:/home/bornozlusapiens/codes/cs449/tutorial2/Tutorial_2-20231013/part1.ipynb#X43sZmlsZQ%3D%3D?line=0'>1</a>\u001b[0m \u001b[39m# display the path\u001b[39;00m\n\u001b[0;32m----> <a href='vscode-notebook-cell:/home/bornozlusapiens/codes/cs449/tutorial2/Tutorial_2-20231013/part1.ipynb#X43sZmlsZQ%3D%3D?line=1'>2</a>\u001b[0m \u001b[39mfor\u001b[39;00m t \u001b[39min\u001b[39;00m \u001b[39mrange\u001b[39m(\u001b[39m0\u001b[39m, path\u001b[39m.\u001b[39;49mshape[\u001b[39m0\u001b[39;49m]\u001b[39m-\u001b[39m\u001b[39m1\u001b[39m):\n\u001b[1;32m      <a href='vscode-notebook-cell:/home/bornozlusapiens/codes/cs449/tutorial2/Tutorial_2-20231013/part1.ipynb#X43sZmlsZQ%3D%3D?line=2'>3</a>\u001b[0m     C\u001b[39m.\u001b[39msetJointState(path[t])\n\u001b[1;32m      <a href='vscode-notebook-cell:/home/bornozlusapiens/codes/cs449/tutorial2/Tutorial_2-20231013/part1.ipynb#X43sZmlsZQ%3D%3D?line=3'>4</a>\u001b[0m     C\u001b[39m.\u001b[39mview()\n",
      "\u001b[0;31mIndexError\u001b[0m: tuple index out of range"
     ]
    }
   ],
   "source": [
    "# display the path\n",
    "for t in range(0, path.shape[0]-1):\n",
    "    C.setJointState(path[t])\n",
    "    C.view()\n",
    "    time.sleep(.1)"
   ]
  }
 ],
 "metadata": {
  "kernelspec": {
   "display_name": ".venv",
   "language": "python",
   "name": "python3"
  },
  "language_info": {
   "codemirror_mode": {
    "name": "ipython",
    "version": 3
   },
   "file_extension": ".py",
   "mimetype": "text/x-python",
   "name": "python",
   "nbconvert_exporter": "python",
   "pygments_lexer": "ipython3",
   "version": "3.10.12"
  },
  "orig_nbformat": 4
 },
 "nbformat": 4,
 "nbformat_minor": 2
}
