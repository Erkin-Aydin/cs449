{
 "cells": [
  {
   "attachments": {},
   "cell_type": "markdown",
   "metadata": {},
   "source": [
    "# Advanced: Switches & Skeletons"
   ]
  },
  {
   "cell_type": "code",
   "execution_count": 4,
   "metadata": {},
   "outputs": [],
   "source": [
    "from robotic import ry\n",
    "import numpy as np\n",
    "import time"
   ]
  },
  {
   "cell_type": "code",
   "execution_count": 7,
   "metadata": {},
   "outputs": [
    {
     "data": {
      "text/plain": [
       "0"
      ]
     },
     "execution_count": 7,
     "metadata": {},
     "output_type": "execute_result"
    }
   ],
   "source": [
    "C = ry.Config()\n",
    "\n",
    "C.addFile(\"model2.g\")\n",
    "C.view()"
   ]
  },
  {
   "cell_type": "code",
   "execution_count": 9,
   "metadata": {},
   "outputs": [],
   "source": [
    "komo = ry.KOMO()\n",
    "\n",
    "komo = ry.KOMO(C, 2.5, 30, 2, False)\n",
    "# komo.setTiming(2.5, 30, 5., 2)"
   ]
  },
  {
   "cell_type": "code",
   "execution_count": 10,
   "metadata": {},
   "outputs": [
    {
     "data": {
      "text/plain": [
       "<robotic.ry.KOMO_Objective at 0x7f873812e7f0>"
      ]
     },
     "execution_count": 10,
     "metadata": {},
     "output_type": "execute_result"
    }
   ],
   "source": [
    "# komo.add_qControlObjective([], 2)\n",
    "komo.addControlObjective([], 2, 1e0)"
   ]
  },
  {
   "cell_type": "code",
   "execution_count": 11,
   "metadata": {},
   "outputs": [],
   "source": [
    "komo.addQuaternionNorms([], 3.)"
   ]
  },
  {
   "cell_type": "code",
   "execution_count": 14,
   "metadata": {},
   "outputs": [],
   "source": [
    "#grasp\n",
    "komo.addModeSwitch([1., 2.], ry.SY.stable, [\"gripper\", \"box\"], True)\n",
    "komo.addObjective([1.], ry.FS.positionDiff, [\"gripper\", \"box\"], ry.OT.eq, [1e2])\n",
    "komo.addObjective([1.], ry.FS.scalarProductXX, [\"gripper\", \"box\"], ry.OT.eq, [1e2], [0.])\n",
    "komo.addObjective([1.], ry.FS.vectorZ, [\"gripper\"], ry.OT.eq, [1e2], [0., 0., 1.])\n",
    "\n",
    "#slow - down - up\n",
    "komo.addObjective([1.], ry.FS.qItself, [], ry.OT.eq, [], [], 1)\n",
    "komo.addObjective([.9,1.1], ry.FS.position, [\"gripper\"], ry.OT.eq, [], [0.,0.,.1], 2)\n",
    "\n",
    "#place\n",
    "komo.addModeSwitch([2., -1.], ry.SY.stable, [\"table\", \"box\"])\n",
    "komo.addObjective([2.], ry.FS.positionDiff, [\"box\", \"table\"], ry.OT.eq, [1e2], [0,0,.08])\n",
    "komo.addObjective([2.], ry.FS.vectorZ, [\"gripper\"], ry.OT.eq, [1e2], [0., 0., 1.])\n",
    "\n",
    "#slow - down - up\n",
    "komo.addObjective([2.], ry.FS.qItself, [], ry.OT.eq, [], [], 1)\n",
    "komo.addObjective([1.9,2.2], ry.FS.position, [\"gripper\"], ry.OT.eq, [], [0.,0.,.1], 2)"
   ]
  },
  {
   "cell_type": "code",
   "execution_count": 15,
   "metadata": {},
   "outputs": [
    {
     "name": "stdout",
     "output_type": "stream",
     "text": [
      "{ time: 0.118565, evals: 48, done: 1, feasible: 0, sos: 106.533, f: 0, ineq: 0, eq: 11.9607 }\n",
      "size of path: (75, 7)\n"
     ]
    }
   ],
   "source": [
    "# #komo.verbose = 4;\n",
    "# komo.optimize();\n",
    "# #/  komo.checkGradients();\n",
    "\n",
    "# komo.view(False, \"result\")\n",
    "ret = ry.NLP_Solver(komo.nlp(), verbose=0 ) .solve()\n",
    "print(ret)\n",
    "q = komo.getPath()\n",
    "print('size of path:', q.shape)\n",
    "\n",
    "for t in range(q.shape[0]):\n",
    "    C.setJointState(q[t])\n",
    "    C.view(False, f'waypoint {t}')\n",
    "    time.sleep(.1)"
   ]
  },
  {
   "cell_type": "code",
   "execution_count": 16,
   "metadata": {},
   "outputs": [
    {
     "data": {
      "text/plain": [
       "0"
      ]
     },
     "execution_count": 16,
     "metadata": {},
     "output_type": "execute_result"
    }
   ],
   "source": [
    "komo.view_play(False, .1)"
   ]
  },
  {
   "attachments": {},
   "cell_type": "markdown",
   "metadata": {},
   "source": [
    "## Same again, but only the keyframes:"
   ]
  },
  {
   "cell_type": "code",
   "execution_count": 205,
   "metadata": {},
   "outputs": [],
   "source": [
    "komo=0"
   ]
  },
  {
   "cell_type": "code",
   "execution_count": 10,
   "metadata": {},
   "outputs": [],
   "source": [
    "komo = ry.KOMO()\n",
    "komo.setConfig(C, False)\n",
    "komo.setTiming(3., 1, 5., 1) #DIFFERENT"
   ]
  },
  {
   "cell_type": "code",
   "execution_count": 11,
   "metadata": {},
   "outputs": [],
   "source": [
    "komo.addControlObjective([], 1, 1e-1) #DIFFERENT\n",
    "komo.addQuaternionNorms([], 3.)"
   ]
  },
  {
   "cell_type": "code",
   "execution_count": 12,
   "metadata": {},
   "outputs": [],
   "source": [
    "#grasp\n",
    "komo.addModeSwitch([1., 2.], ry.SY.stable, [\"gripper\", \"box\"])\n",
    "komo.addObjective([1.], ry.FS.positionDiff, [\"gripper\", \"box\"], ry.OT.eq, [1e2])\n",
    "komo.addObjective([1.], ry.FS.scalarProductXX, [\"gripper\", \"box\"], ry.OT.eq, [1e2], [0.])\n",
    "komo.addObjective([1.], ry.FS.vectorZ, [\"gripper\"], ry.OT.eq, [1e2], [0., 0., 1.])\n",
    "\n",
    "#DIFFERENT: UP-DOWN MISSING\n",
    "    \n",
    "#place\n",
    "komo.addModeSwitch([2., -1.], ry.SY.stable, [\"table\", \"box\"])\n",
    "komo.addObjective([2.], ry.FS.positionDiff, [\"box\", \"table\"], ry.OT.eq, [1e2], [0,0,.08])\n",
    "komo.addObjective([2.], ry.FS.vectorZ, [\"gripper\"], ry.OT.eq, [1e2], [0., 0., 1.])"
   ]
  },
  {
   "cell_type": "code",
   "execution_count": 13,
   "metadata": {},
   "outputs": [
    {
     "name": "stdout",
     "output_type": "stream",
     "text": [
      "{ time: 0.003061, evals: 14, done: 1, feasible: 0, sos: 0.00787156, f: 0, ineq: 0, eq: 8.63145 }\n",
      "size of path: (3, 7)\n"
     ]
    },
    {
     "data": {
      "text/plain": [
       "0"
      ]
     },
     "execution_count": 13,
     "metadata": {},
     "output_type": "execute_result"
    }
   ],
   "source": [
    "ret = ry.NLP_Solver(komo.nlp(), verbose=0 ) .solve()\n",
    "print(ret)\n",
    "q = komo.getPath()\n",
    "print('size of path:', q.shape)\n",
    "\n",
    "komo.view(False, \"result\")\n",
    "# print(\"constraints:\", komo.getConstraintViolations())\n",
    "# print(\"costs:\", komo.getCosts())\n",
    "# komo.getReport()"
   ]
  },
  {
   "cell_type": "code",
   "execution_count": 14,
   "metadata": {},
   "outputs": [
    {
     "data": {
      "text/plain": [
       "1"
      ]
     },
     "execution_count": 14,
     "metadata": {},
     "output_type": "execute_result"
    }
   ],
   "source": [
    "komo.view_play(True, .5)"
   ]
  },
  {
   "attachments": {},
   "cell_type": "markdown",
   "metadata": {},
   "source": [
    "## Skeletons"
   ]
  },
  {
   "cell_type": "code",
   "execution_count": 1,
   "metadata": {},
   "outputs": [
    {
     "data": {
      "text/plain": [
       "0"
      ]
     },
     "execution_count": 1,
     "metadata": {},
     "output_type": "execute_result"
    }
   ],
   "source": [
    "import sys\n",
    "sys.path += ['../../lib', '../../build', '../../../build']\n",
    "import numpy as np\n",
    "from robotic import ry\n",
    "\n",
    "C = ry.Config()\n",
    "C.addFile(\"model.g\")\n",
    "C.view()"
   ]
  },
  {
   "cell_type": "code",
   "execution_count": 2,
   "metadata": {},
   "outputs": [],
   "source": [
    "S = ry.Skeleton()"
   ]
  },
  {
   "cell_type": "code",
   "execution_count": 3,
   "metadata": {},
   "outputs": [],
   "source": [
    "# S.addEntry([1.], ry.SY.topBoxGrasp, [\"gripper\", \"box2\"])\n",
    "S.addEntry([1., 1.], ry.SY.touch,  [\"gripper\", \"box2\"])\n",
    "S.addEntry([1., 2.], ry.SY.stable, [\"gripper\", \"box2\"])\n",
    "S.addEntry([0.8, 1.2], ry.SY.downUp, [\"gripper\"])\n",
    "S.addEntry([1.8, 2.2], ry.SY.downUp, [\"gripper\"])\n",
    "S.addEntry([2., 2.], ry.SY.poseEq, [\"box2\", \"target2\"])\n",
    "S.addEntry([2., -1], ry.SY.stable, [\"table\", \"box2\"])\n",
    "# S.enableAccumulatedCollisions(True)"
   ]
  },
  {
   "cell_type": "code",
   "execution_count": 13,
   "metadata": {},
   "outputs": [],
   "source": [
    "#komo = S.getKomo_waypoints(C, 0.1, 0.01, 0.0)"
   ]
  },
  {
   "attachments": {},
   "cell_type": "markdown",
   "metadata": {},
   "source": [
    "lenScale, homingScale, and collScale are parameters that are likely used for some kind of optimization or cost function. Here's a brief explanation of each:\n",
    "\n",
    "    lenScale (Length Scale): This parameter is likely used to control the relative importance of the length or distance-related terms in the optimization. A higher value would mean that length-related terms have more influence on the optimization, while a lower value would reduce their impact.\n",
    "\n",
    "    homingScale (Homing Scale): This parameter might be related to a \"homing\" behavior, which typically means returning to a specific position or configuration. It could control how strongly the algorithm prioritizes returning to a specific home position.\n",
    "\n",
    "    collScale (Collision Scale): This parameter likely controls how much the optimization considers avoiding collisions. A higher value would mean that avoiding collisions is more important, while a lower value would reduce its importance."
   ]
  },
  {
   "cell_type": "code",
   "execution_count": 16,
   "metadata": {},
   "outputs": [
    {
     "name": "stdout",
     "output_type": "stream",
     "text": [
      "{ time: 0.041698, evals: 25, done: 1, feasible: 1, sos: 1.28658, f: 0, ineq: 0, eq: 0.0277194 }\n",
      "size of path: (66, 13)\n"
     ]
    },
    {
     "data": {
      "text/plain": [
       "0"
      ]
     },
     "execution_count": 16,
     "metadata": {},
     "output_type": "execute_result"
    }
   ],
   "source": [
    "## solve for waypoints: create a komo instance, create nlp instance, then call generic solver\n",
    "\n",
    "komo = S.getKomo_path(C, stepsPerPhase=30, accScale=1e0, lenScale=1e-2, homingScale=1e-1, collScale=1e0);\n",
    "\n",
    "ret = ry.NLP_Solver(komo.nlp(), verbose=0 ) .solve()\n",
    "print(ret)\n",
    "q = komo.getPath()\n",
    "print('size of path:', q.shape)\n",
    "\n",
    "komo.view(False, \"result\")\n"
   ]
  },
  {
   "attachments": {},
   "cell_type": "markdown",
   "metadata": {},
   "source": [
    "### Alternative Method"
   ]
  },
  {
   "cell_type": "code",
   "execution_count": 4,
   "metadata": {},
   "outputs": [
    {
     "name": "stdout",
     "output_type": "stream",
     "text": [
      "{ time: 0.048465, evals: 22, done: 1, feasible: 1, sos: 1.27302, f: 0, ineq: 0, eq: 0.0300044 }====nlp==== method:AugmentedLagrangian bounded: yes\n",
      "==nlp== it:0 evals:0 mu:1 nu:1 muLB:0.1\n",
      "\n",
      "==nlp== it:   0  evals:  12  A(x):    1.12189  f:   0.985722  g:          0  h:    2.54408  |x-x'|:     1.3937 \tstop:DeltaConverge\n",
      "==nlp== it:   1  evals:  12  A(x):    1.93893  mu:5\n",
      "==nlp== it:   1  evals:  18  A(x):     1.2531  f:    1.20582  g:          0  h:    0.49554  |x-x'|:   0.165301 \tstop:DeltaConverge\n",
      "==nlp== it:   2  evals:  18  A(x):    1.36325  mu:25\n",
      "==nlp== it:   2  evals:  21  A(x):    1.27986  f:    1.25835  g:          0  h:   0.127686  |x-x'|:  0.0128698 \tstop:DeltaConverge\n",
      "==nlp== it:   3  evals:  21  A(x):    1.32631  mu:125\n",
      "==nlp== it:   3  evals:  22  A(x):    1.27562  f:    1.27302  g:          0  h:  0.0300044  |x-x'|: 0.00802102 \tstop:DeltaConverge\n",
      "==nlp== StoppingCriterion Delta<0.01\n"
     ]
    }
   ],
   "source": [
    "komo = S.getKomo_path(C, stepsPerPhase=30, accScale=1e0, lenScale=1e-2, homingScale=1e-1, collScale=1e0);\n",
    "nlp = komo.nlp()\n",
    "sol = ry.NLP_Solver()\n",
    "sol.setProblem(nlp)\n",
    "sol.setOptions( stopTolerance=1e-2 )\n",
    "ret = sol.solve()\n",
    "waypoints = komo.getPath_qAll()\n",
    "# report on result, view, and play\n",
    "print(ret)"
   ]
  },
  {
   "cell_type": "code",
   "execution_count": 5,
   "metadata": {},
   "outputs": [
    {
     "data": {
      "text/plain": [
       "1"
      ]
     },
     "execution_count": 5,
     "metadata": {},
     "output_type": "execute_result"
    }
   ],
   "source": [
    "#komo.view(True, 'waypoints solution')\n",
    "komo.view_play(True, .2)"
   ]
  },
  {
   "attachments": {},
   "cell_type": "markdown",
   "metadata": {},
   "source": [
    "## Skeletons_2"
   ]
  },
  {
   "cell_type": "code",
   "execution_count": 2,
   "metadata": {},
   "outputs": [
    {
     "data": {
      "text/plain": [
       "0"
      ]
     },
     "execution_count": 2,
     "metadata": {},
     "output_type": "execute_result"
    }
   ],
   "source": [
    "import sys\n",
    "sys.path.append('../build')\n",
    "import time\n",
    "import numpy as np\n",
    "from robotic import ry\n",
    "#import libry as ry\n",
    "\n",
    "## create a configuration\n",
    "C = ry.Config()\n",
    "C.addFile('../rai-robotModels/pr2/pr2.g')\n",
    "C.addFile('../rai-robotModels/objects/tables.g')\n",
    "C.addFrame('obj0', 'table1', 'type:ssBox size:[.1 .1 .2 .02] color:[1. 0. 0.], contact, logical={ object }, joint:rigid, Q:\"t(0 0 .15)\"' )\n",
    "C.addFrame('obj1', 'table1', 'type:ssBox size:[.1 .1 .2 .02] color:[1. 0. 0.], contact, logical={ object }, joint:rigid, Q:\"t(0 .2 .15)\"' )\n",
    "C.addFrame('obj2', 'table1', 'type:ssBox size:[.1 .1 .2 .02] color:[1. 0. 0.], contact, logical={ object }, joint:rigid, Q:\"t(0 .4 .15)\"' )\n",
    "C.addFrame('obj3', 'table1', 'type:ssBox size:[.1 .1 .2 .02] color:[1. 0. 0.], contact, logical={ object }, joint:rigid, Q:\"t(0 .6.15)\"' )\n",
    "C.addFrame('tray', 'table2', 'type:ssBox size:[.15 .15 .04 .02] color:[0. 1. 0.], logical={ table }, Q:\"t(0 0 .07)\"' );\n",
    "C.addFrame('', 'tray', 'type:ssBox size:[.27 .27 .04 .02] color:[0. 1. 0.]' )\n",
    "C.view(False, 'initial model')\n"
   ]
  },
  {
   "cell_type": "code",
   "execution_count": 3,
   "metadata": {},
   "outputs": [
    {
     "name": "stdout",
     "output_type": "stream",
     "text": [
      "{ time: 0.127526, evals: 305, done: 1, feasible: 1, sos: 0.434056, f: 0, ineq: 0, eq: 0.00561112 }\n",
      "====nlp==== method:AugmentedLagrangian bounded: yes\n",
      "==nlp== it:0 evals:0 mu:1 nu:1 muLB:0.1\n",
      "==nlp== it:   0  evals: 100  A(x):    0.48276  f:   0.480654  g:  0.0242739  h:  0.0946715  |x-x'|:    1.71951 \tstop:DeltaConverge\n",
      "==nlp== it:   1  evals: 100  A(x):   0.495395  mu:5\n",
      "==nlp== it:   1  evals: 303  A(x):   0.433916  f:    0.43416  g:          0  h: 0.00977696  |x-x'|:   0.615392 \tstop:DeltaConverge\n",
      "==nlp== it:   2  evals: 303  A(x):   0.434463  mu:25\n",
      "==nlp== it:   2  evals: 305  A(x):   0.434152  f:   0.434056  g:          0  h: 0.00561112  |x-x'|: 0.00189657 \tstop:DeltaConverge\n",
      "==nlp== StoppingCriterion Delta<0.01\n"
     ]
    },
    {
     "data": {
      "text/plain": [
       "1"
      ]
     },
     "execution_count": 3,
     "metadata": {},
     "output_type": "execute_result"
    }
   ],
   "source": [
    "\n",
    "## create a skeleton\n",
    "S = ry.Skeleton()\n",
    "S.addEntry([1.], ry.SY.touch, ['pr2R', 'obj0'])\n",
    "S.addEntry([1., 3.], ry.SY.stable, ['pr2R', 'obj0'])\n",
    "S.addEntry([2.,2.], ry.SY.touch, ['pr2L', 'obj3'])\n",
    "S.addEntry([2.,4.], ry.SY.stable, ['pr2L', 'obj3'])\n",
    "S.addEntry([3.], ry.SY.above, ['obj0', 'tray'])\n",
    "S.addEntry([3.,4.], ry.SY.stableOn, ['tray', 'obj0'])\n",
    "\n",
    "## solve for waypoints: create a komo instance, create nlp instance, then call generic solver\n",
    "komo = S.getKomo_waypoints(C, 1e-1, 1e-2,0)\n",
    "nlp = komo.nlp()\n",
    "sol = ry.NLP_Solver()\n",
    "sol.setProblem(nlp)\n",
    "sol.setOptions( stopTolerance=1e-2 )\n",
    "ret = sol.solve()\n",
    "waypoints = komo.getPath_qAll()\n",
    "# report on result, view, and play\n",
    "print(ret)\n",
    "#print(nlpW.report(2))\n",
    "komo.view(True, 'waypoints solution')\n",
    "komo.view_play(True, .2)\n",
    "# store result"
   ]
  },
  {
   "cell_type": "code",
   "execution_count": 4,
   "metadata": {},
   "outputs": [],
   "source": [
    "## solve for paths using RRT: for each phase create start-end problems, run RRT\n",
    "m = len(waypoints)\n",
    "rrt_dofs = []\n",
    "rrt_paths = []\n",
    "for t in range(0,int(m)):\n",
    "    # grab config and waypoints\n",
    "    [Ctmp, q0, q1] = S.getTwoWaypointProblem(t, komo)\n",
    "    Ctmp.setJointState(q0);\n",
    "    Ctmp.view(True, 'waypoint configuration phase ' + str(t) + ' START')\n",
    "    Ctmp.setJointState(q1);\n",
    "    Ctmp.view(True, 'waypoint configuration phase ' + str(t) + ' STOP')\n",
    "\n",
    "    Ctmp.view(True, 'Continue')\n",
    "\n",
    "    # call path finder\n",
    "    sol = ry.PathFinder()\n",
    "    sol.setProblem(Ctmp, q0, q1)\n",
    "    ret = sol.solve()\n",
    "    rrt_paths.append(ret.x)\n",
    "    rrt_dofs.append(Ctmp.getDofIDs())\n",
    "\n",
    "    #display the rrt path\n",
    "    for i in range(0,ret.x.shape[0]):\n",
    "        Ctmp.setJointState(ret.x[i])\n",
    "        Ctmp.view(False, 'rrt path ' + str(i))\n",
    "        time.sleep(.02)"
   ]
  },
  {
   "cell_type": "code",
   "execution_count": 12,
   "metadata": {},
   "outputs": [
    {
     "name": "stdout",
     "output_type": "stream",
     "text": [
      "====nlp==== method:AugmentedLagrangian bounded: yes\n",
      "==nlp== it:0 evals:0 mu:1 nu:1 muLB:0.1\n",
      "{ time: 7.30955, evals: 1000, done: 1, feasible: 0, sos: 9887.07, f: 0, ineq: 0.4, eq: 35.8865 }\n",
      "==nlp== it:   0  evals: 135  A(x):    10298.2  f:    8906.61  g:        0.4  h:    136.599  |x-x'|:    4.22926 \tstop:LineSearchSteps (bad:1)\n",
      "==nlp== it:   1  evals: 135  A(x):    18650.1  mu:5\n",
      "==nlp== it:   1  evals: 184  A(x):    16482.8  f:    9273.71  g:        0.4  h:    105.286  |x-x'|:    0.10313 \tstop:TinyXSteps (bad:2)\n",
      "==nlp== it:   2  evals: 184  A(x):    46187.9  mu:25\n",
      "==nlp== it:   2  evals:1000  A(x):      22971  f:    9887.07  g:        0.4  h:    35.8865  |x-x'|:   0.280541 \tstop:CritEvals (bad:3)\n",
      "==nlp== StoppingCriterion MAX EVALS\n"
     ]
    },
    {
     "data": {
      "text/plain": [
       "1"
      ]
     },
     "execution_count": 12,
     "metadata": {},
     "output_type": "execute_result"
    }
   ],
   "source": [
    "## solve for full path: create a komo instance, initialize with waypoints & rrt paths, solve\n",
    "#komo = S.getKomo_path(C, 20, .2, -1, 1e-2)\n",
    "#(self: robotic.ry.Skeleton, Configuration, stepsPerPhase: int, accScale: float, lenScale: float, homingScale: float, collScale: float)\n",
    "komo = S.getKomo_path(C, 60, 1e0, 1e0, 1e0,1e0)\n",
    "komo.initWithWaypoints(waypoints)\n",
    "komo.view(True, 'init with waypoints only')\n",
    "for t in range(0,int(m)):\n",
    "    komo.initPhaseWithDofsPath(t, rrt_dofs[t], rrt_paths[t], True)\n",
    "    komo.view(True, 'init with RRT phase ' + str(t))\n",
    "\n",
    "nlp = komo.nlp()\n",
    "sol = ry.NLP_Solver()\n",
    "sol.setProblem(nlp)\n",
    "sol.setOptions( stopTolerance=1e-2 )\n",
    "ret = sol.solve()\n",
    "# report on result, view, and play\n",
    "print(ret)\n",
    "#print(nlp.report(2))\n",
    "komo.view(True, 'path solution')\n",
    "komo.view_play(True, .2)"
   ]
  }
 ],
 "metadata": {
  "kernelspec": {
   "display_name": ".venv",
   "language": "python",
   "name": "python3"
  },
  "language_info": {
   "codemirror_mode": {
    "name": "ipython",
    "version": 3
   },
   "file_extension": ".py",
   "mimetype": "text/x-python",
   "name": "python",
   "nbconvert_exporter": "python",
   "pygments_lexer": "ipython3",
   "version": "3.10.12"
  }
 },
 "nbformat": 4,
 "nbformat_minor": 4
}
