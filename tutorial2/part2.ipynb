{
 "cells": [
  {
   "attachments": {},
   "cell_type": "markdown",
   "metadata": {},
   "source": [
    "# Advanced: Switches & Skeletons"
   ]
  },
  {
   "cell_type": "code",
   "execution_count": null,
   "metadata": {},
   "outputs": [],
   "source": [
    "from robotic import ry\n",
    "import numpy as np\n",
    "import time"
   ]
  },
  {
   "cell_type": "code",
   "execution_count": null,
   "metadata": {},
   "outputs": [],
   "source": [
    "C = ry.Config()\n",
    "\n",
    "C.addFile(\"model2.g\")\n",
    "C.view()"
   ]
  },
  {
   "cell_type": "code",
   "execution_count": null,
   "metadata": {},
   "outputs": [],
   "source": [
    "komo = ry.KOMO()\n",
    "\n",
    "komo = ry.KOMO(C, 2.5, 30, 2, False)\n",
    "# komo.setTiming(2.5, 30, 5., 2)"
   ]
  },
  {
   "cell_type": "code",
   "execution_count": null,
   "metadata": {},
   "outputs": [],
   "source": [
    "# komo.add_qControlObjective([], 2)\n",
    "komo.addControlObjective([], 2, 1e0)"
   ]
  },
  {
   "cell_type": "code",
   "execution_count": null,
   "metadata": {},
   "outputs": [],
   "source": [
    "komo.addQuaternionNorms([], 3.)"
   ]
  },
  {
   "cell_type": "code",
   "execution_count": null,
   "metadata": {},
   "outputs": [],
   "source": [
    "#grasp\n",
    "komo.addModeSwitch([1., 2.], ry.SY.stable, [\"gripper\", \"box\"], True)\n",
    "komo.addObjective([1.], ry.FS.positionDiff, [\"gripper\", \"box\"], ry.OT.eq, [1e2])\n",
    "komo.addObjective([1.], ry.FS.scalarProductXX, [\"gripper\", \"box\"], ry.OT.eq, [1e2], [0.])\n",
    "komo.addObjective([1.], ry.FS.vectorZ, [\"gripper\"], ry.OT.eq, [1e2], [0., 0., 1.])\n",
    "\n",
    "#slow - down - up\n",
    "komo.addObjective([1.], ry.FS.qItself, [], ry.OT.eq, [], [], 1)\n",
    "komo.addObjective([.9,1.1], ry.FS.position, [\"gripper\"], ry.OT.eq, [], [0.,0.,.1], 2)\n",
    "\n",
    "#place\n",
    "komo.addModeSwitch([2., -1.], ry.SY.stable, [\"table\", \"box\"])\n",
    "komo.addObjective([2.], ry.FS.positionDiff, [\"box\", \"table\"], ry.OT.eq, [1e2], [0,0,.08])\n",
    "komo.addObjective([2.], ry.FS.vectorZ, [\"gripper\"], ry.OT.eq, [1e2], [0., 0., 1.])\n",
    "\n",
    "#slow - down - up\n",
    "komo.addObjective([2.], ry.FS.qItself, [], ry.OT.eq, [], [], 1)\n",
    "komo.addObjective([1.9,2.2], ry.FS.position, [\"gripper\"], ry.OT.eq, [], [0.,0.,.1], 2)"
   ]
  },
  {
   "cell_type": "code",
   "execution_count": null,
   "metadata": {},
   "outputs": [],
   "source": [
    "# #komo.verbose = 4;\n",
    "# komo.optimize();\n",
    "# #/  komo.checkGradients();\n",
    "\n",
    "# komo.view(False, \"result\")\n",
    "ret = ry.NLP_Solver(komo.nlp(), verbose=0 ) .solve()\n",
    "print(ret)\n",
    "q = komo.getPath()\n",
    "print('size of path:', q.shape)\n",
    "\n",
    "for t in range(q.shape[0]):\n",
    "    C.setJointState(q[t])\n",
    "    C.view(False, f'waypoint {t}')\n",
    "    time.sleep(.1)"
   ]
  },
  {
   "cell_type": "code",
   "execution_count": null,
   "metadata": {},
   "outputs": [],
   "source": [
    "komo.view_play(False, .1)"
   ]
  },
  {
   "attachments": {},
   "cell_type": "markdown",
   "metadata": {},
   "source": [
    "## Same again, but only the keyframes:"
   ]
  },
  {
   "cell_type": "code",
   "execution_count": null,
   "metadata": {},
   "outputs": [],
   "source": [
    "komo=0"
   ]
  },
  {
   "cell_type": "code",
   "execution_count": null,
   "metadata": {},
   "outputs": [],
   "source": [
    "komo = ry.KOMO()\n",
    "komo.setConfig(C, False)\n",
    "komo.setTiming(3., 1, 5., 1) #DIFFERENT"
   ]
  },
  {
   "cell_type": "code",
   "execution_count": null,
   "metadata": {},
   "outputs": [],
   "source": [
    "komo.addControlObjective([], 1, 1e-1) #DIFFERENT\n",
    "komo.addQuaternionNorms([], 3.)"
   ]
  },
  {
   "cell_type": "code",
   "execution_count": null,
   "metadata": {},
   "outputs": [],
   "source": [
    "#grasp\n",
    "komo.addModeSwitch([1., 2.], ry.SY.stable, [\"gripper\", \"box\"])\n",
    "komo.addObjective([1.], ry.FS.positionDiff, [\"gripper\", \"box\"], ry.OT.eq, [1e2])\n",
    "komo.addObjective([1.], ry.FS.scalarProductXX, [\"gripper\", \"box\"], ry.OT.eq, [1e2], [0.])\n",
    "komo.addObjective([1.], ry.FS.vectorZ, [\"gripper\"], ry.OT.eq, [1e2], [0., 0., 1.])\n",
    "\n",
    "#DIFFERENT: UP-DOWN MISSING\n",
    "    \n",
    "#place\n",
    "komo.addModeSwitch([2., -1.], ry.SY.stable, [\"table\", \"box\"])\n",
    "komo.addObjective([2.], ry.FS.positionDiff, [\"box\", \"table\"], ry.OT.eq, [1e2], [0,0,.08])\n",
    "komo.addObjective([2.], ry.FS.vectorZ, [\"gripper\"], ry.OT.eq, [1e2], [0., 0., 1.])"
   ]
  },
  {
   "cell_type": "code",
   "execution_count": null,
   "metadata": {},
   "outputs": [],
   "source": [
    "ret = ry.NLP_Solver(komo.nlp(), verbose=0 ) .solve()\n",
    "print(ret)\n",
    "q = komo.getPath()\n",
    "print('size of path:', q.shape)\n",
    "\n",
    "komo.view(False, \"result\")\n",
    "# print(\"constraints:\", komo.getConstraintViolations())\n",
    "# print(\"costs:\", komo.getCosts())\n",
    "# komo.getReport()"
   ]
  },
  {
   "cell_type": "code",
   "execution_count": null,
   "metadata": {},
   "outputs": [],
   "source": [
    "komo.view_play(True, .5)"
   ]
  },
  {
   "attachments": {},
   "cell_type": "markdown",
   "metadata": {},
   "source": [
    "## Skeletons"
   ]
  },
  {
   "cell_type": "code",
   "execution_count": 4,
   "metadata": {},
   "outputs": [
    {
     "data": {
      "text/plain": [
       "0"
      ]
     },
     "execution_count": 4,
     "metadata": {},
     "output_type": "execute_result"
    }
   ],
   "source": [
    "import sys\n",
    "sys.path += ['../../lib', '../../build', '../../../build']\n",
    "import numpy as np\n",
    "from robotic import ry\n",
    "\n",
    "C = ry.Config()\n",
    "C.addFile(\"model.g\")\n",
    "C.view()"
   ]
  },
  {
   "cell_type": "code",
   "execution_count": 5,
   "metadata": {},
   "outputs": [],
   "source": [
    "S = ry.Skeleton()"
   ]
  },
  {
   "cell_type": "code",
   "execution_count": 6,
   "metadata": {},
   "outputs": [],
   "source": [
    "# S.addEntry([1.], ry.SY.topBoxGrasp, [\"gripper\", \"box2\"])\n",
    "S.addEntry([1., 1.], ry.SY.touch,  [\"gripper\", \"box2\"])\n",
    "S.addEntry([1., 2.], ry.SY.stable, [\"gripper\", \"box2\"])\n",
    "#S.addEntry([0.8, 1.2], ry.SY.downUp, [\"gripper\"])\n",
    "#S.addEntry([1.8, 2.2], ry.SY.downUp, [\"gripper\"])\n",
    "S.addEntry([2., 2.], ry.SY.poseEq, [\"box2\", \"target2\"])\n",
    "S.addEntry([2., -1], ry.SY.stable, [\"table\", \"box2\"])\n",
    "# S.enableAccumulatedCollisions(True)"
   ]
  },
  {
   "cell_type": "code",
   "execution_count": 7,
   "metadata": {},
   "outputs": [],
   "source": [
    "komo = S.getKomo_waypoints(C, 0.1, 0.01, 0.0)"
   ]
  },
  {
   "attachments": {},
   "cell_type": "markdown",
   "metadata": {},
   "source": [
    "lenScale, homingScale, and collScale are parameters that are likely used for some kind of optimization or cost function. Here's a brief explanation of each:\n",
    "\n",
    "    lenScale (Length Scale): This parameter is likely used to control the relative importance of the length or distance-related terms in the optimization. A higher value would mean that length-related terms have more influence on the optimization, while a lower value would reduce their impact.\n",
    "\n",
    "    homingScale (Homing Scale): This parameter might be related to a \"homing\" behavior, which typically means returning to a specific position or configuration. It could control how strongly the algorithm prioritizes returning to a specific home position.\n",
    "\n",
    "    collScale (Collision Scale): This parameter likely controls how much the optimization considers avoiding collisions. A higher value would mean that avoiding collisions is more important, while a lower value would reduce its importance."
   ]
  },
  {
   "cell_type": "code",
   "execution_count": 8,
   "metadata": {},
   "outputs": [
    {
     "name": "stdout",
     "output_type": "stream",
     "text": [
      "{ time: 0.002521, evals: 9, done: 1, feasible: 1, sos: 0.0153606, f: 0, ineq: 0, eq: 0.0754998 }\n",
      "size of path: (3, 13)\n"
     ]
    },
    {
     "data": {
      "text/plain": [
       "0"
      ]
     },
     "execution_count": 8,
     "metadata": {},
     "output_type": "execute_result"
    }
   ],
   "source": [
    "## solve for waypoints: create a komo instance, create nlp instance, then call generic solver\n",
    "\n",
    "#komo = S.getKomo_path(C, stepsPerPhase=30, accScale=1e0, lenScale=1e-2, homingScale=1e-1, collScale=1e0);\n",
    "\n",
    "ret = ry.NLP_Solver(komo.nlp(), verbose=0 ) .solve()\n",
    "print(ret)\n",
    "q = komo.getPath()\n",
    "print('size of path:', q.shape)\n",
    "\n",
    "komo.view(False, \"result\")\n"
   ]
  },
  {
   "attachments": {},
   "cell_type": "markdown",
   "metadata": {},
   "source": [
    "### Alternative Method"
   ]
  },
  {
   "cell_type": "code",
   "execution_count": null,
   "metadata": {},
   "outputs": [],
   "source": [
    "komo = S.getKomo_path(C, stepsPerPhase=30, accScale=1e0, lenScale=1e-2, homingScale=1e-1, collScale=1e0);\n",
    "nlp = komo.nlp()\n",
    "sol = ry.NLP_Solver()\n",
    "sol.setProblem(nlp)\n",
    "sol.setOptions( stopTolerance=1e-2 )\n",
    "ret = sol.solve()\n",
    "waypoints = komo.getPath_qAll()\n",
    "# report on result, view, and play\n",
    "print(ret)"
   ]
  },
  {
   "cell_type": "code",
   "execution_count": 9,
   "metadata": {},
   "outputs": [
    {
     "data": {
      "text/plain": [
       "1"
      ]
     },
     "execution_count": 9,
     "metadata": {},
     "output_type": "execute_result"
    }
   ],
   "source": [
    "#komo.view(True, 'waypoints solution')\n",
    "komo.view_play(True, .2)"
   ]
  },
  {
   "attachments": {},
   "cell_type": "markdown",
   "metadata": {},
   "source": [
    "## Skeletons_2"
   ]
  },
  {
   "cell_type": "code",
   "execution_count": null,
   "metadata": {},
   "outputs": [],
   "source": [
    "import sys\n",
    "sys.path.append('../build')\n",
    "import time\n",
    "import numpy as np\n",
    "from robotic import ry\n",
    "#import libry as ry\n",
    "\n",
    "## create a configuration\n",
    "C = ry.Config()\n",
    "C.addFile('../rai-robotModels/pr2/pr2.g')\n",
    "C.addFile('../rai-robotModels/objects/tables.g')\n",
    "C.addFrame('obj0', 'table1', 'type:ssBox size:[.1 .1 .2 .02] color:[1. 0. 0.], contact, logical={ object }, joint:rigid, Q:\"t(0 0 .15)\"' )\n",
    "C.addFrame('obj1', 'table1', 'type:ssBox size:[.1 .1 .2 .02] color:[1. 0. 0.], contact, logical={ object }, joint:rigid, Q:\"t(0 .2 .15)\"' )\n",
    "C.addFrame('obj2', 'table1', 'type:ssBox size:[.1 .1 .2 .02] color:[1. 0. 0.], contact, logical={ object }, joint:rigid, Q:\"t(0 .4 .15)\"' )\n",
    "C.addFrame('obj3', 'table1', 'type:ssBox size:[.1 .1 .2 .02] color:[1. 0. 0.], contact, logical={ object }, joint:rigid, Q:\"t(0 .6.15)\"' )\n",
    "C.addFrame('tray', 'table2', 'type:ssBox size:[.15 .15 .04 .02] color:[0. 1. 0.], logical={ table }, Q:\"t(0 0 .07)\"' );\n",
    "C.addFrame('', 'tray', 'type:ssBox size:[.27 .27 .04 .02] color:[0. 1. 0.]' )\n",
    "C.view(False, 'initial model')\n"
   ]
  },
  {
   "cell_type": "code",
   "execution_count": null,
   "metadata": {},
   "outputs": [],
   "source": [
    "\n",
    "## create a skeleton\n",
    "S = ry.Skeleton()\n",
    "S.addEntry([1.], ry.SY.touch, ['pr2R', 'obj0'])\n",
    "S.addEntry([1., 3.], ry.SY.stable, ['pr2R', 'obj0'])\n",
    "S.addEntry([2.,2.], ry.SY.touch, ['pr2L', 'obj3'])\n",
    "S.addEntry([2.,4.], ry.SY.stable, ['pr2L', 'obj3'])\n",
    "S.addEntry([3.], ry.SY.above, ['obj0', 'tray'])\n",
    "S.addEntry([3.,4.], ry.SY.stableOn, ['tray', 'obj0'])\n",
    "\n",
    "## solve for waypoints: create a komo instance, create nlp instance, then call generic solver\n",
    "komo = S.getKomo_waypoints(C, 1e-1, 1e-2,0)\n",
    "nlp = komo.nlp()\n",
    "sol = ry.NLP_Solver()\n",
    "sol.setProblem(nlp)\n",
    "sol.setOptions( stopTolerance=1e-2 )\n",
    "ret = sol.solve()\n",
    "waypoints = komo.getPath_qAll()\n",
    "# report on result, view, and play\n",
    "print(ret)\n",
    "#print(nlpW.report(2))\n",
    "komo.view(True, 'waypoints solution')\n",
    "komo.view_play(True, .2)\n",
    "# store result"
   ]
  },
  {
   "cell_type": "code",
   "execution_count": null,
   "metadata": {},
   "outputs": [],
   "source": [
    "## solve for paths using RRT: for each phase create start-end problems, run RRT\n",
    "m = len(waypoints)\n",
    "rrt_dofs = []\n",
    "rrt_paths = []\n",
    "for t in range(0,int(m)):\n",
    "    # grab config and waypoints\n",
    "    [Ctmp, q0, q1] = S.getTwoWaypointProblem(t, komo)\n",
    "    Ctmp.setJointState(q0);\n",
    "    Ctmp.view(True, 'waypoint configuration phase ' + str(t) + ' START')\n",
    "    Ctmp.setJointState(q1);\n",
    "    Ctmp.view(True, 'waypoint configuration phase ' + str(t) + ' STOP')\n",
    "\n",
    "    Ctmp.view(True, 'Continue')\n",
    "\n",
    "    # call path finder\n",
    "    sol = ry.PathFinder()\n",
    "    sol.setProblem(Ctmp, q0, q1)\n",
    "    ret = sol.solve()\n",
    "    rrt_paths.append(ret.x)\n",
    "    rrt_dofs.append(Ctmp.getDofIDs())\n",
    "\n",
    "    #display the rrt path\n",
    "    for i in range(0,ret.x.shape[0]):\n",
    "        Ctmp.setJointState(ret.x[i])\n",
    "        Ctmp.view(False, 'rrt path ' + str(i))\n",
    "        time.sleep(.02)"
   ]
  },
  {
   "cell_type": "code",
   "execution_count": null,
   "metadata": {},
   "outputs": [],
   "source": [
    "## solve for full path: create a komo instance, initialize with waypoints & rrt paths, solve\n",
    "#komo = S.getKomo_path(C, 20, .2, -1, 1e-2)\n",
    "#(self: robotic.ry.Skeleton, Configuration, stepsPerPhase: int, accScale: float, lenScale: float, homingScale: float, collScale: float)\n",
    "komo = S.getKomo_path(C, 60, 1e0, 1e0, 1e0,1e0)\n",
    "komo.initWithWaypoints(waypoints)\n",
    "komo.view(True, 'init with waypoints only')\n",
    "for t in range(0,int(m)):\n",
    "    komo.initPhaseWithDofsPath(t, rrt_dofs[t], rrt_paths[t], True)\n",
    "    komo.view(True, 'init with RRT phase ' + str(t))\n",
    "\n",
    "nlp = komo.nlp()\n",
    "sol = ry.NLP_Solver()\n",
    "sol.setProblem(nlp)\n",
    "sol.setOptions( stopTolerance=1e-2 )\n",
    "ret = sol.solve()\n",
    "# report on result, view, and play\n",
    "print(ret)\n",
    "#print(nlp.report(2))\n",
    "komo.view(True, 'path solution')\n",
    "komo.view_play(True, .2)"
   ]
  }
 ],
 "metadata": {
  "kernelspec": {
   "display_name": ".venv",
   "language": "python",
   "name": "python3"
  },
  "language_info": {
   "codemirror_mode": {
    "name": "ipython",
    "version": 3
   },
   "file_extension": ".py",
   "mimetype": "text/x-python",
   "name": "python",
   "nbconvert_exporter": "python",
   "pygments_lexer": "ipython3",
   "version": "3.10.12"
  }
 },
 "nbformat": 4,
 "nbformat_minor": 4
}
