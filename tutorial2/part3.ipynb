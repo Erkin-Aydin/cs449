{
 "cells": [
  {
   "cell_type": "code",
   "execution_count": 1,
   "metadata": {},
   "outputs": [],
   "source": [
    "from robotic import ry\n",
    "import numpy as np\n",
    "import time"
   ]
  },
  {
   "cell_type": "code",
   "execution_count": 7,
   "metadata": {},
   "outputs": [
    {
     "name": "stdout",
     "output_type": "stream",
     "text": [
      "-- ry.cpp:operator():99(0) python,\n",
      "botsim/verbose: 2,\n",
      "physx/motorKp: 10000,\n",
      "physx/motorKd: 1000,\n",
      "botsim/engine: physx,\n",
      "physx/multibody: 1,\n",
      "bot/useGripper,\n",
      "bot/useRobotiq,\n",
      "bot/useArm: both,\n",
      "botsim/hyperSpeed: 1,\n",
      "physx/verbose: 1,\n",
      "physx/yGravity!,\n",
      "physx/softBody!,\n",
      "physx/multiBody,\n",
      "physx/jointedBodies!,\n",
      "physx/angularDamping: 0.1,\n",
      "physx/defaultFriction: 1,\n",
      "physx/defaultRestitution: 0.1,\n",
      "bot/useOptitrack!,\n",
      "bot/useAudio!,\n",
      "botsim/verbose: 2,\n",
      "physx/motorKp: 10000,\n",
      "physx/motorKd: 1000,\n",
      "botsim/engine: physx,\n",
      "physx/multibody: 1\n"
     ]
    }
   ],
   "source": [
    "ry.params_add({'botsim/verbose': 2., 'physx/motorKp': 10000., 'physx/motorKd': 1000.})\n",
    "#ry.params_add({'botsim/verbose': 2., 'physx/motorKp': 0., 'physx/motorKd': 0.})\n",
    "ry.params_add({'botsim/engine': 'physx'}) #makes a big difference!\n",
    "ry.params_add({'physx/multibody': True}) #makes a big difference!\n",
    "ry.params_print()"
   ]
  },
  {
   "cell_type": "code",
   "execution_count": 8,
   "metadata": {},
   "outputs": [
    {
     "data": {
      "text/plain": [
       "0"
      ]
     },
     "execution_count": 8,
     "metadata": {},
     "output_type": "execute_result"
    }
   ],
   "source": [
    "C = ry.Config()\n",
    "C.addFile(ry.raiPath('../rai-robotModels/scenarios/pandaSingle.g'))\n",
    "C.view(False, 'this is your workspace data structure C -- NOT THE SIMULTATION')"
   ]
  },
  {
   "cell_type": "code",
   "execution_count": 9,
   "metadata": {},
   "outputs": [
    {
     "name": "stdout",
     "output_type": "stream",
     "text": [
      "-- kin_physx.cpp:PhysXInterface:768(0) starting PhysX engine ...\n",
      "-- kin_physx.cpp:addGround:238(0) ... done starting PhysX engine\n",
      "-- kin_physx.cpp:addGround:239(0) creating Configuration within PhysX ...\n",
      "-- kin_physx.cpp:addLink:254(0) adding link 'world' as static with 1 shapes\n",
      " table\n",
      "-- kin_physx.cpp:addMultiBody:466(0) adding multibody with base 'l_panda_base' with the following links ...\n",
      "-- kin_physx.cpp:addMultiBody:486(0) adding multibody link 'l_panda_base' as kinematic with 1 shapes\n",
      " l_panda_link0_0\n",
      "-- kin_physx.cpp:addMultiBody:486(0) adding multibody link 'l_panda_joint1' as dynamic with 1 shapes\n",
      " l_panda_link1_0\n",
      "-- kin_physx.cpp:addMultiBody:486(0) adding multibody link 'l_panda_joint2' as dynamic with 2 shapes\n",
      " l_panda_link2_0 bellybutton\n",
      "-- kin_physx.cpp:addMultiBody:486(0) adding multibody link 'l_panda_joint3' as dynamic with 1 shapes\n",
      " l_panda_link3_0\n",
      "-- kin_physx.cpp:addMultiBody:486(0) adding multibody link 'l_panda_joint4' as dynamic with 1 shapes\n",
      " l_panda_link4_0\n",
      "-- kin_physx.cpp:addMultiBody:486(0) adding multibody link 'l_panda_joint5' as dynamic with 1 shapes\n",
      " l_panda_link5_0\n",
      "-- kin_physx.cpp:addMultiBody:486(0) adding multibody link 'l_panda_joint6' as dynamic with 1 shapes\n",
      " l_panda_link6_0\n",
      "-- kin_physx.cpp:addMultiBody:486(0) adding multibody link 'l_panda_joint7' as dynamic with 2 shapes\n",
      " l_panda_link7_0 l_panda_hand_0\n",
      "-- kin_physx.cpp:addMultiBody:486(0) adding multibody link 'l_panda_finger_joint1' as dynamic with 1 shapes\n",
      " l_panda_leftfinger_0\n",
      "-- kin_physx.cpp:addMultiBody:486(0) adding multibody link 'l_panda_finger_joint2' as dynamic with 1 shapes\n",
      " l_panda_rightfinger_0\n",
      "-- kin_physx.cpp:addMultiBody:592(0) ... done with multibody with base 'l_panda_base'\n",
      "-- kin_physx.cpp:PhysXInterface:805(0) ... done creating Configuration within PhysX\n"
     ]
    }
   ],
   "source": [
    "bot = ry.BotOp(C, False)"
   ]
  },
  {
   "cell_type": "code",
   "execution_count": 5,
   "metadata": {},
   "outputs": [
    {
     "name": "stdout",
     "output_type": "stream",
     "text": [
      "-- bot.cpp:~BotOp:106(0) shutting down BotOp...\n",
      "-- simulation.cpp:~BotThreadedSim:56(0) shutting down SimThread\n",
      "-- simulation.cpp:~Simulation:148(0) shutting down Simulation\n"
     ]
    }
   ],
   "source": [
    "del bot\n",
    "del C"
   ]
  },
  {
   "cell_type": "code",
   "execution_count": 10,
   "metadata": {},
   "outputs": [
    {
     "name": "stdout",
     "output_type": "stream",
     "text": [
      "[ 0.  -0.5  0.  -2.   0.   2.  -0.5] [ 0.  -0.3  0.  -2.   0.   2.  -0.5]\n"
     ]
    }
   ],
   "source": [
    "qHome = bot.get_qHome()\n",
    "q0 = qHome.copy()\n",
    "q1 = q0.copy()\n",
    "q1[1] = q1[1] + .2\n",
    "print(q0, q1)"
   ]
  },
  {
   "cell_type": "code",
   "execution_count": 11,
   "metadata": {},
   "outputs": [],
   "source": [
    "bot.moveTo(q1)\n",
    "\n",
    "while bot.getTimeToEnd()>0:\n",
    "    bot.sync(C, .1)"
   ]
  },
  {
   "cell_type": "code",
   "execution_count": 13,
   "metadata": {},
   "outputs": [
    {
     "name": "stdout",
     "output_type": "stream",
     "text": [
      "timeToEnd: -3.2838431738054066\n",
      "timeToEnd: 0.10000000000000142\n",
      "timeToEnd: 1.1957189420649819\n"
     ]
    }
   ],
   "source": [
    "print('timeToEnd:', bot.getTimeToEnd())\n",
    "bot.moveTo(q0)\n",
    "print('timeToEnd:', bot.getTimeToEnd())\n",
    "bot.moveTo(q1)\n",
    "print('timeToEnd:', bot.getTimeToEnd())\n",
    "bot.moveTo(q0)\n",
    "\n",
    "while bot.getTimeToEnd()>0:\n",
    "    bot.sync(C, .1)"
   ]
  },
  {
   "cell_type": "code",
   "execution_count": 14,
   "metadata": {},
   "outputs": [],
   "source": [
    "#this reference frame only appears in your workspace C - not the simulation!\n",
    "target = C.addFrame('target', 'table')\n",
    "target.setShape(ry.ST.marker, [.1])\n",
    "target.setRelativePosition([0., .3, .3])\n",
    "pos = target.getPosition()\n",
    "cen = pos.copy()\n",
    "C.view()\n",
    "\n",
    "def IK(C, pos):\n",
    "    q0 = C.getJointState()\n",
    "    komo = ry.KOMO(C, 1, 1, 0, False) #one phase one time slice problem, with 'delta_t=1', order=0\n",
    "    komo.addObjective([], ry.FS.jointState, [], ry.OT.sos, [1e-1], q0) #cost: close to 'current state'\n",
    "    komo.addObjective([], ry.FS.jointState, [], ry.OT.sos, [1e-1], qHome) #cost: close to qHome\n",
    "    komo.addObjective([], ry.FS.positionDiff, ['l_gripper', 'target'], ry.OT.eq, [1e1]) #constraint: gripper position\n",
    "\n",
    "    ret = ry.NLP_Solver(komo.nlp(), verbose=0) .solve()\n",
    "\n",
    "    return [komo.getPath()[0], ret]"
   ]
  },
  {
   "cell_type": "code",
   "execution_count": 15,
   "metadata": {},
   "outputs": [
    {
     "name": "stdout",
     "output_type": "stream",
     "text": [
      "{ time: 0.000429, evals: 6, done: 1, feasible: 1, sos: 0.00810847, f: 0, ineq: 0, eq: 0.00250135 }\n",
      "{ time: 0.00014, evals: 3, done: 1, feasible: 1, sos: 0.00369618, f: 0, ineq: 0, eq: 0.00336109 }\n",
      "{ time: 0.000252, evals: 3, done: 1, feasible: 1, sos: 0.00313194, f: 0, ineq: 0, eq: 0.00754437 }\n",
      "{ time: 0.000231, evals: 4, done: 1, feasible: 1, sos: 0.00371404, f: 0, ineq: 0, eq: 0.000284822 }\n",
      "{ time: 0.000153, evals: 4, done: 1, feasible: 1, sos: 0.00361431, f: 0, ineq: 0, eq: 0.000633297 }\n",
      "{ time: 0.000144, evals: 3, done: 1, feasible: 1, sos: 0.00315951, f: 0, ineq: 0, eq: 0.0011291 }\n",
      "{ time: 0.000176, evals: 3, done: 1, feasible: 1, sos: 0.00260838, f: 0, ineq: 0, eq: 0.0028952 }\n",
      "{ time: 0.000136, evals: 3, done: 1, feasible: 1, sos: 0.00290644, f: 0, ineq: 0, eq: 0.00532655 }\n",
      "{ time: 0.000154, evals: 3, done: 1, feasible: 1, sos: 0.00322538, f: 0, ineq: 0, eq: 0.00178481 }\n",
      "{ time: 0.00014, evals: 3, done: 1, feasible: 1, sos: 0.00306884, f: 0, ineq: 0, eq: 0.00195782 }\n",
      "{ time: 0.00013, evals: 2, done: 1, feasible: 1, sos: 0.00332034, f: 0, ineq: 0, eq: 0.0108032 }\n",
      "{ time: 0.000137, evals: 3, done: 1, feasible: 1, sos: 0.00300244, f: 0, ineq: 0, eq: 0.00443587 }\n",
      "{ time: 0.000181, evals: 3, done: 1, feasible: 1, sos: 0.00294769, f: 0, ineq: 0, eq: 0.0010519 }\n",
      "{ time: 0.000142, evals: 3, done: 1, feasible: 1, sos: 0.00300615, f: 0, ineq: 0, eq: 0.00196637 }\n",
      "{ time: 0.000229, evals: 3, done: 1, feasible: 1, sos: 0.00304781, f: 0, ineq: 0, eq: 0.00287012 }\n",
      "{ time: 0.000302, evals: 3, done: 1, feasible: 1, sos: 0.00317249, f: 0, ineq: 0, eq: 0.00180343 }\n",
      "{ time: 0.000338, evals: 3, done: 1, feasible: 1, sos: 0.0028552, f: 0, ineq: 0, eq: 0.00241335 }\n",
      "{ time: 0.000171, evals: 4, done: 1, feasible: 1, sos: 0.00278205, f: 0, ineq: 0, eq: 0.000378939 }\n",
      "{ time: 0.000161, evals: 3, done: 1, feasible: 1, sos: 0.00268876, f: 0, ineq: 0, eq: 0.00319238 }\n",
      "{ time: 0.000164, evals: 4, done: 1, feasible: 1, sos: 0.00309734, f: 0, ineq: 0, eq: 0.000440692 }\n"
     ]
    }
   ],
   "source": [
    "for t in range(20):\n",
    "    time.sleep(.1)\n",
    "    pos = cen + .98 * (pos-cen) + 0.02 * np.random.randn(3)\n",
    "    target.setPosition(pos)\n",
    "\n",
    "    q_target, ret = IK(C, pos)\n",
    "    print(ret)\n",
    "    C.setJointState(q_target)\n",
    "    C.view()"
   ]
  },
  {
   "cell_type": "code",
   "execution_count": 16,
   "metadata": {},
   "outputs": [],
   "source": [
    "for t in range(100):\n",
    "    bot.sync(C, .1) #keep the workspace C sync'ed to real/sim, and idle .1 sec\n",
    "    pos = cen + .98 * (pos-cen) + 0.02 * np.random.randn(3)\n",
    "    target.setPosition(pos)\n",
    "\n",
    "    q_target, ret = IK(C, pos)\n",
    "    bot.moveTo(q_target, timeCost=5., overwrite=True)"
   ]
  },
  {
   "cell_type": "code",
   "execution_count": 17,
   "metadata": {},
   "outputs": [],
   "source": [
    "bot.sync(C, .1) #keep the workspace C sync'ed to real/sim, and idle .1 sec\n",
    "pos = cen + .9 * (pos-cen) + 0.1 * np.random.randn(3)\n",
    "target.setPosition(pos)\n",
    "\n",
    "q_target, ret = IK(C, pos)\n",
    "#bot.moveTo(q_target, timeCost=0.1, overwrite=True)\n",
    "bot.moveTo(q_target, timeCost=100, overwrite=True)"
   ]
  },
  {
   "cell_type": "code",
   "execution_count": 18,
   "metadata": {},
   "outputs": [],
   "source": [
    "for t in range(5):\n",
    "    bot.moveTo(q1)\n",
    "    bot.wait(C) #same as 'loop sync til keypressed or endOfTime', but also raises user window\n",
    "    if bot.getKeyPressed()==ord('q'):\n",
    "        break;\n",
    "\n",
    "    bot.moveTo(q0)\n",
    "    bot.wait(C)\n",
    "    if bot.getKeyPressed()==ord('q'):\n",
    "        break;\n",
    "\n",
    "bot.home(C)"
   ]
  },
  {
   "cell_type": "code",
   "execution_count": 19,
   "metadata": {},
   "outputs": [
    {
     "name": "stdout",
     "output_type": "stream",
     "text": [
      "-- simulation.cpp:moveGripper:333(1) initiating opening gripper l_panda_joint7 (without releasing obj) width:0.02 speed:0.2\n",
      "-- simulation.cpp:modConfiguration:812(1) terminating opening gripper l_panda_joint7 at width 0.01998\n",
      "-- simulation.cpp:moveGripper:333(1) initiating opening gripper l_panda_joint7 (without releasing obj) width:0.075 speed:0.2\n",
      "-- simulation.cpp:modConfiguration:812(1) terminating opening gripper l_panda_joint7 at width 0.04\n"
     ]
    }
   ],
   "source": [
    "bot.gripperMove(ry._left, width=.02)\n",
    "\n",
    "while not bot.gripperDone(ry._left):\n",
    "    bot.sync(C, .1)\n",
    "\n",
    "bot.gripperMove(ry._left, width=.075)\n",
    "\n",
    "while not bot.gripperDone(ry._left):\n",
    "    bot.sync(C, .1)"
   ]
  },
  {
   "cell_type": "code",
   "execution_count": 75,
   "metadata": {},
   "outputs": [
    {
     "name": "stdout",
     "output_type": "stream",
     "text": [
      "-- bot.cpp:~BotOp:106(0) shutting down BotOp...\n",
      "-- simulation.cpp:~BotThreadedSim:56(0) shutting down SimThread\n",
      "-- simulation.cpp:~Simulation:148(0) shutting down Simulation\n"
     ]
    }
   ],
   "source": [
    "del bot\n",
    "del C"
   ]
  },
  {
   "cell_type": "code",
   "execution_count": 74,
   "metadata": {},
   "outputs": [
    {
     "name": "stdout",
     "output_type": "stream",
     "text": [
      "-- ry.cpp:operator():99(0) python,\n",
      "botsim/verbose: 2,\n",
      "physx/motorKp: 10000,\n",
      "physx/motorKd: 1000,\n",
      "botsim/engine: physx,\n",
      "physx/multibody: 1,\n",
      "bot/useGripper,\n",
      "bot/useRobotiq,\n",
      "bot/useArm: both,\n",
      "botsim/hyperSpeed: 1,\n",
      "physx/verbose: 1,\n",
      "physx/yGravity!,\n",
      "physx/softBody!,\n",
      "physx/multiBody,\n",
      "physx/jointedBodies!,\n",
      "physx/angularDamping: 0.1,\n",
      "physx/defaultFriction: 1,\n",
      "physx/defaultRestitution: 0.1,\n",
      "bot/useOptitrack!,\n",
      "bot/useAudio!,\n",
      "bot/raiseWindow!,\n",
      "KOMO/verbose: 1,\n",
      "KOMO/animateOptimization: 0,\n",
      "KOMO/mimicStable,\n",
      "KOMO/useFCL,\n",
      "KOMO/unscaleEqIneqReport!,\n",
      "KOMO/sampleRate_stable: 0,\n",
      "opt/verbose: 1,\n",
      "opt/stopTolerance: 0.01,\n",
      "opt/stopFTolerance: -1,\n",
      "opt/stopGTolerance: -1,\n",
      "opt/stopEvals: 1000,\n",
      "opt/stopIters: 1000,\n",
      "opt/stopOuters: 1000,\n",
      "opt/stopLineSteps: 10,\n",
      "opt/stopTinySteps: 10,\n",
      "opt/initStep: 1,\n",
      "opt/minStep: -1,\n",
      "opt/maxStep: 0.2,\n",
      "opt/damping: 1,\n",
      "opt/stepInc: 1.5,\n",
      "opt/stepDec: 0.5,\n",
      "opt/wolfe: 0.01,\n",
      "opt/boundedNewton,\n",
      "opt/muInit: 1,\n",
      "opt/muInc: 5,\n",
      "opt/muMax: 10000,\n",
      "opt/muLBInit: 0.1,\n",
      "opt/muLBDec: 0.2,\n",
      "opt/maxLambda: -1,\n",
      "opt/constrainedMethod: ,\n",
      "seed: 0\n"
     ]
    }
   ],
   "source": [
    "ry.params_print()"
   ]
  }
 ],
 "metadata": {
  "kernelspec": {
   "display_name": ".venv",
   "language": "python",
   "name": "python3"
  },
  "language_info": {
   "codemirror_mode": {
    "name": "ipython",
    "version": 3
   },
   "file_extension": ".py",
   "mimetype": "text/x-python",
   "name": "python",
   "nbconvert_exporter": "python",
   "pygments_lexer": "ipython3",
   "version": "3.10.13"
  },
  "orig_nbformat": 4
 },
 "nbformat": 4,
 "nbformat_minor": 2
}
