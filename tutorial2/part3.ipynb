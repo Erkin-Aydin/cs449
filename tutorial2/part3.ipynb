{
 "cells": [
  {
   "cell_type": "code",
   "execution_count": 1,
   "metadata": {},
   "outputs": [],
   "source": [
    "from robotic import ry\n",
    "import numpy as np\n",
    "import time"
   ]
  },
  {
   "cell_type": "code",
   "execution_count": 2,
   "metadata": {},
   "outputs": [
    {
     "name": "stdout",
     "output_type": "stream",
     "text": [
      "-- ry.cpp:operator():99(0) python,\n",
      "botsim/verbose: 2,\n",
      "physx/motorKp: 10000,\n",
      "physx/motorKd: 1000,\n",
      "botsim/engine: physx,\n",
      "physx/multibody: 1\n"
     ]
    }
   ],
   "source": [
    "ry.params_add({'botsim/verbose': 2., 'physx/motorKp': 10000., 'physx/motorKd': 1000.})\n",
    "#ry.params_add({'botsim/verbose': 2., 'physx/motorKp': 0., 'physx/motorKd': 0.})\n",
    "ry.params_add({'botsim/engine': 'physx'}) #makes a big difference!\n",
    "ry.params_add({'physx/multibody': True}) #makes a big difference!\n",
    "ry.params_print()"
   ]
  },
  {
   "cell_type": "code",
   "execution_count": 3,
   "metadata": {},
   "outputs": [
    {
     "data": {
      "text/plain": [
       "0"
      ]
     },
     "execution_count": 3,
     "metadata": {},
     "output_type": "execute_result"
    }
   ],
   "source": [
    "C = ry.Config()\n",
    "C.addFile(ry.raiPath('../rai-robotModels/scenarios/pandaSingle.g'))\n",
    "C.view(False, 'this is your workspace data structure C -- NOT THE SIMULTATION')"
   ]
  },
  {
   "cell_type": "code",
   "execution_count": 4,
   "metadata": {},
   "outputs": [
    {
     "name": "stdout",
     "output_type": "stream",
     "text": [
      "-- kin_physx.cpp:PhysXInterface:768(0) starting PhysX engine ...\n",
      "-- kin_physx.cpp:addGround:238(0) ... done starting PhysX engine\n",
      "-- kin_physx.cpp:addGround:239(0) creating Configuration within PhysX ...\n",
      "-- kin_physx.cpp:addLink:254(0) adding link 'world' as static with 1 shapes\n",
      " table\n",
      "-- kin_physx.cpp:addMultiBody:466(0) adding multibody with base 'l_panda_base' with the following links ...\n",
      "-- kin_physx.cpp:addMultiBody:486(0) adding multibody link 'l_panda_base' as kinematic with 1 shapes\n",
      " l_panda_link0_0\n",
      "-- kin_physx.cpp:addMultiBody:486(0) adding multibody link 'l_panda_joint1' as dynamic with 1 shapes\n",
      " l_panda_link1_0\n",
      "-- kin_physx.cpp:addMultiBody:486(0) adding multibody link 'l_panda_joint2' as dynamic with 2 shapes\n",
      " l_panda_link2_0 bellybutton\n",
      "-- kin_physx.cpp:addMultiBody:486(0) adding multibody link 'l_panda_joint3' as dynamic with 1 shapes\n",
      " l_panda_link3_0\n",
      "-- kin_physx.cpp:addMultiBody:486(0) adding multibody link 'l_panda_joint4' as dynamic with 1 shapes\n",
      " l_panda_link4_0\n",
      "-- kin_physx.cpp:addMultiBody:486(0) adding multibody link 'l_panda_joint5' as dynamic with 1 shapes\n",
      " l_panda_link5_0\n",
      "-- kin_physx.cpp:addMultiBody:486(0) adding multibody link 'l_panda_joint6' as dynamic with 1 shapes\n",
      " l_panda_link6_0\n",
      "-- kin_physx.cpp:addMultiBody:486(0) adding multibody link 'l_panda_joint7' as dynamic with 2 shapes\n",
      " l_panda_link7_0 l_panda_hand_0\n",
      "-- kin_physx.cpp:addMultiBody:486(0) adding multibody link 'l_panda_finger_joint1' as dynamic with 1 shapes\n",
      " l_panda_leftfinger_0\n",
      "-- kin_physx.cpp:addMultiBody:486(0) adding multibody link 'l_panda_finger_joint2' as dynamic with 1 shapes\n",
      " l_panda_rightfinger_0\n",
      "-- kin_physx.cpp:addMultiBody:592(0) ... done with multibody with base 'l_panda_base'\n",
      "-- kin_physx.cpp:PhysXInterface:805(0) ... done creating Configuration within PhysX\n"
     ]
    }
   ],
   "source": [
    "bot = ry.BotOp(C, False)"
   ]
  },
  {
   "cell_type": "code",
   "execution_count": 7,
   "metadata": {},
   "outputs": [
    {
     "name": "stdout",
     "output_type": "stream",
     "text": [
      "-- bot.cpp:~BotOp:106(0) shutting down BotOp...\n",
      "-- simulation.cpp:~BotThreadedSim:56(0) shutting down SimThread\n",
      "-- simulation.cpp:~Simulation:148(0) shutting down Simulation\n"
     ]
    }
   ],
   "source": [
    "del bot\n",
    "del C"
   ]
  },
  {
   "cell_type": "code",
   "execution_count": 5,
   "metadata": {},
   "outputs": [
    {
     "name": "stdout",
     "output_type": "stream",
     "text": [
      "[ 0.  -0.5  0.  -2.   0.   2.  -0.5] [ 0.  -0.3  0.  -2.   0.   2.  -0.5]\n"
     ]
    }
   ],
   "source": [
    "qHome = bot.get_qHome()\n",
    "q0 = qHome.copy()\n",
    "q1 = q0.copy()\n",
    "q1[1] = q1[1] + .2\n",
    "print(q0, q1)"
   ]
  },
  {
   "cell_type": "code",
   "execution_count": 6,
   "metadata": {},
   "outputs": [],
   "source": [
    "bot.moveTo(q1)\n",
    "\n",
    "while bot.getTimeToEnd()>0:\n",
    "    bot.sync(C, .1)"
   ]
  },
  {
   "cell_type": "code",
   "execution_count": 7,
   "metadata": {},
   "outputs": [
    {
     "name": "stdout",
     "output_type": "stream",
     "text": [
      "timeToEnd: -218.48299670517036\n",
      "timeToEnd: 1.095718942064991\n",
      "timeToEnd: 2.191437884129982\n"
     ]
    }
   ],
   "source": [
    "print('timeToEnd:', bot.getTimeToEnd())\n",
    "bot.moveTo(q0)\n",
    "print('timeToEnd:', bot.getTimeToEnd())\n",
    "bot.moveTo(q1)\n",
    "print('timeToEnd:', bot.getTimeToEnd())\n",
    "bot.moveTo(q0)\n",
    "\n",
    "while bot.getTimeToEnd()>0:\n",
    "    bot.sync(C, .1)"
   ]
  },
  {
   "cell_type": "code",
   "execution_count": 8,
   "metadata": {},
   "outputs": [],
   "source": [
    "#this reference frame only appears in your workspace C - not the simulation!\n",
    "target = C.addFrame('target', 'table')\n",
    "target.setShape(ry.ST.marker, [.1])\n",
    "target.setRelativePosition([0., .3, .3])\n",
    "pos = target.getPosition()\n",
    "cen = pos.copy()\n",
    "C.view()\n",
    "\n",
    "def IK(C, pos):\n",
    "    q0 = C.getJointState()\n",
    "    komo = ry.KOMO(C, 1, 1, 0, False) #one phase one time slice problem, with 'delta_t=1', order=0\n",
    "    komo.addObjective([], ry.FS.jointState, [], ry.OT.sos, [1e-1], q0) #cost: close to 'current state'\n",
    "    komo.addObjective([], ry.FS.jointState, [], ry.OT.sos, [1e-1], qHome) #cost: close to qHome\n",
    "    komo.addObjective([], ry.FS.positionDiff, ['l_gripper', 'target'], ry.OT.eq, [1e1]) #constraint: gripper position\n",
    "\n",
    "    ret = ry.NLP_Solver(komo.nlp(), verbose=0) .solve()\n",
    "\n",
    "    return [komo.getPath()[0], ret]"
   ]
  },
  {
   "cell_type": "code",
   "execution_count": 9,
   "metadata": {},
   "outputs": [
    {
     "name": "stdout",
     "output_type": "stream",
     "text": [
      "{ time: 0.001605, evals: 6, done: 1, feasible: 1, sos: 0.00574408, f: 0, ineq: 0, eq: 0.000719999 }\n",
      "{ time: 0.000719, evals: 4, done: 1, feasible: 1, sos: 0.00362931, f: 0, ineq: 0, eq: 0.000288095 }\n",
      "{ time: 0.000348, evals: 2, done: 1, feasible: 1, sos: 0.00346734, f: 0, ineq: 0, eq: 0.00492158 }\n",
      "{ time: 0.00016, evals: 3, done: 1, feasible: 1, sos: 0.00261449, f: 0, ineq: 0, eq: 0.00589666 }\n",
      "{ time: 0.000731, evals: 4, done: 1, feasible: 1, sos: 0.00232959, f: 0, ineq: 0, eq: 0.000239577 }\n",
      "{ time: 0.000606, evals: 3, done: 1, feasible: 1, sos: 0.00214299, f: 0, ineq: 0, eq: 0.00104024 }\n",
      "{ time: 0.000425, evals: 4, done: 1, feasible: 1, sos: 0.00287394, f: 0, ineq: 0, eq: 0.000349643 }\n",
      "{ time: 0.000731, evals: 4, done: 1, feasible: 1, sos: 0.00355377, f: 0, ineq: 0, eq: 0.000318178 }\n",
      "{ time: 0.000484, evals: 3, done: 1, feasible: 1, sos: 0.00284609, f: 0, ineq: 0, eq: 0.00220867 }\n",
      "{ time: 0.000252, evals: 3, done: 1, feasible: 1, sos: 0.00237413, f: 0, ineq: 0, eq: 0.00276411 }\n",
      "{ time: 0.000443, evals: 3, done: 1, feasible: 1, sos: 0.00182722, f: 0, ineq: 0, eq: 0.00281194 }\n",
      "{ time: 0.000657, evals: 3, done: 1, feasible: 1, sos: 0.00136641, f: 0, ineq: 0, eq: 0.00463492 }\n",
      "{ time: 0.000392, evals: 4, done: 1, feasible: 1, sos: 0.00138975, f: 0, ineq: 0, eq: 0.000487534 }\n",
      "{ time: 0.000685, evals: 3, done: 1, feasible: 1, sos: 0.00149656, f: 0, ineq: 0, eq: 0.00257787 }\n",
      "{ time: 0.000742, evals: 3, done: 1, feasible: 1, sos: 0.0016729, f: 0, ineq: 0, eq: 0.00271759 }\n",
      "{ time: 0.000745, evals: 3, done: 1, feasible: 1, sos: 0.00158905, f: 0, ineq: 0, eq: 0.000993032 }\n",
      "{ time: 0.000451, evals: 3, done: 1, feasible: 1, sos: 0.0013935, f: 0, ineq: 0, eq: 0.000780666 }\n",
      "{ time: 0.000431, evals: 3, done: 1, feasible: 1, sos: 0.00173606, f: 0, ineq: 0, eq: 0.00334553 }\n",
      "{ time: 0.000215, evals: 3, done: 1, feasible: 1, sos: 0.00163579, f: 0, ineq: 0, eq: 0.0021205 }\n",
      "{ time: 0.000392, evals: 4, done: 1, feasible: 1, sos: 0.00245705, f: 0, ineq: 0, eq: 0.0002916 }\n"
     ]
    }
   ],
   "source": [
    "for t in range(20):\n",
    "    time.sleep(.1)\n",
    "    pos = cen + .98 * (pos-cen) + 0.02 * np.random.randn(3)\n",
    "    target.setPosition(pos)\n",
    "\n",
    "    q_target, ret = IK(C, pos)\n",
    "    print(ret)\n",
    "    C.setJointState(q_target)\n",
    "    C.view()"
   ]
  },
  {
   "cell_type": "code",
   "execution_count": 68,
   "metadata": {},
   "outputs": [],
   "source": [
    "for t in range(100):\n",
    "    bot.sync(C, .1) #keep the workspace C sync'ed to real/sim, and idle .1 sec\n",
    "    pos = cen + .98 * (pos-cen) + 0.02 * np.random.randn(3)\n",
    "    target.setPosition(pos)\n",
    "\n",
    "    q_target, ret = IK(C, pos)\n",
    "    bot.moveTo(q_target, timeCost=5., overwrite=True)"
   ]
  },
  {
   "cell_type": "code",
   "execution_count": 67,
   "metadata": {},
   "outputs": [],
   "source": [
    "bot.sync(C, .1) #keep the workspace C sync'ed to real/sim, and idle .1 sec\n",
    "pos = cen + .9 * (pos-cen) + 0.1 * np.random.randn(3)\n",
    "target.setPosition(pos)\n",
    "\n",
    "q_target, ret = IK(C, pos)\n",
    "#bot.moveTo(q_target, timeCost=0.1, overwrite=True)\n",
    "bot.moveTo(q_target, timeCost=100, overwrite=True)"
   ]
  },
  {
   "cell_type": "code",
   "execution_count": 70,
   "metadata": {},
   "outputs": [],
   "source": [
    "for t in range(5):\n",
    "    bot.moveTo(q1)\n",
    "    bot.wait(C) #same as 'loop sync til keypressed or endOfTime', but also raises user window\n",
    "    if bot.getKeyPressed()==ord('q'):\n",
    "        break;\n",
    "\n",
    "    bot.moveTo(q0)\n",
    "    bot.wait(C)\n",
    "    if bot.getKeyPressed()==ord('q'):\n",
    "        break;\n",
    "\n",
    "bot.home(C)"
   ]
  },
  {
   "cell_type": "code",
   "execution_count": 73,
   "metadata": {},
   "outputs": [
    {
     "name": "stdout",
     "output_type": "stream",
     "text": [
      "-- simulation.cpp:moveGripper:333(1) initiating opening gripper l_panda_joint7 (without releasing obj) width:0.02 speed:0.2\n",
      "-- simulation.cpp:modConfiguration:812(1) terminating opening gripper l_panda_joint7 at width 0.01998\n",
      "-- simulation.cpp:moveGripper:333(1) initiating opening gripper l_panda_joint7 (without releasing obj) width:0.075 speed:0.2\n",
      "-- simulation.cpp:modConfiguration:812(1) terminating opening gripper l_panda_joint7 at width 0.04\n"
     ]
    }
   ],
   "source": [
    "bot.gripperMove(ry._left, width=.02)\n",
    "\n",
    "while not bot.gripperDone(ry._left):\n",
    "    bot.sync(C, .1)\n",
    "\n",
    "bot.gripperMove(ry._left, width=.075)\n",
    "\n",
    "while not bot.gripperDone(ry._left):\n",
    "    bot.sync(C, .1)"
   ]
  },
  {
   "cell_type": "code",
   "execution_count": 75,
   "metadata": {},
   "outputs": [
    {
     "name": "stdout",
     "output_type": "stream",
     "text": [
      "-- bot.cpp:~BotOp:106(0) shutting down BotOp...\n",
      "-- simulation.cpp:~BotThreadedSim:56(0) shutting down SimThread\n",
      "-- simulation.cpp:~Simulation:148(0) shutting down Simulation\n"
     ]
    }
   ],
   "source": [
    "del bot\n",
    "del C"
   ]
  },
  {
   "cell_type": "code",
   "execution_count": 74,
   "metadata": {},
   "outputs": [
    {
     "name": "stdout",
     "output_type": "stream",
     "text": [
      "-- ry.cpp:operator():99(0) python,\n",
      "botsim/verbose: 2,\n",
      "physx/motorKp: 10000,\n",
      "physx/motorKd: 1000,\n",
      "botsim/engine: physx,\n",
      "physx/multibody: 1,\n",
      "bot/useGripper,\n",
      "bot/useRobotiq,\n",
      "bot/useArm: both,\n",
      "botsim/hyperSpeed: 1,\n",
      "physx/verbose: 1,\n",
      "physx/yGravity!,\n",
      "physx/softBody!,\n",
      "physx/multiBody,\n",
      "physx/jointedBodies!,\n",
      "physx/angularDamping: 0.1,\n",
      "physx/defaultFriction: 1,\n",
      "physx/defaultRestitution: 0.1,\n",
      "bot/useOptitrack!,\n",
      "bot/useAudio!,\n",
      "bot/raiseWindow!,\n",
      "KOMO/verbose: 1,\n",
      "KOMO/animateOptimization: 0,\n",
      "KOMO/mimicStable,\n",
      "KOMO/useFCL,\n",
      "KOMO/unscaleEqIneqReport!,\n",
      "KOMO/sampleRate_stable: 0,\n",
      "opt/verbose: 1,\n",
      "opt/stopTolerance: 0.01,\n",
      "opt/stopFTolerance: -1,\n",
      "opt/stopGTolerance: -1,\n",
      "opt/stopEvals: 1000,\n",
      "opt/stopIters: 1000,\n",
      "opt/stopOuters: 1000,\n",
      "opt/stopLineSteps: 10,\n",
      "opt/stopTinySteps: 10,\n",
      "opt/initStep: 1,\n",
      "opt/minStep: -1,\n",
      "opt/maxStep: 0.2,\n",
      "opt/damping: 1,\n",
      "opt/stepInc: 1.5,\n",
      "opt/stepDec: 0.5,\n",
      "opt/wolfe: 0.01,\n",
      "opt/boundedNewton,\n",
      "opt/muInit: 1,\n",
      "opt/muInc: 5,\n",
      "opt/muMax: 10000,\n",
      "opt/muLBInit: 0.1,\n",
      "opt/muLBDec: 0.2,\n",
      "opt/maxLambda: -1,\n",
      "opt/constrainedMethod: ,\n",
      "seed: 0\n"
     ]
    }
   ],
   "source": [
    "ry.params_print()"
   ]
  }
 ],
 "metadata": {
  "kernelspec": {
   "display_name": ".venv",
   "language": "python",
   "name": "python3"
  },
  "language_info": {
   "codemirror_mode": {
    "name": "ipython",
    "version": 3
   },
   "file_extension": ".py",
   "mimetype": "text/x-python",
   "name": "python",
   "nbconvert_exporter": "python",
   "pygments_lexer": "ipython3",
   "version": "3.10.13"
  },
  "orig_nbformat": 4
 },
 "nbformat": 4,
 "nbformat_minor": 2
}
