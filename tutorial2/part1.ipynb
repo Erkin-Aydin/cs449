{
 "cells": [
  {
   "cell_type": "code",
   "execution_count": 2,
   "metadata": {},
   "outputs": [],
   "source": [
    "from robotic import ry\n",
    "import numpy as np\n",
    "import time"
   ]
  },
  {
   "attachments": {},
   "cell_type": "markdown",
   "metadata": {},
   "source": [
    "## Part a) Adding a constraint to simulation"
   ]
  },
  {
   "cell_type": "code",
   "execution_count": 191,
   "metadata": {},
   "outputs": [],
   "source": [
    "C = ry.Config()\n",
    "C.addFile(ry.raiPath('scenarios/pandaSingle.g'))\n",
    "C.addFrame('way1'). setShape(ry.ST.marker, [.1]) .setPosition([.4, .2, 1.])\n",
    "C.addFrame('way3'). setShape(ry.ST.marker, [.1]) .setPosition([-.4, .2, 1.])\n",
    "\n",
    "C.addFrame('box') \\\n",
    "    .setPosition([-.25,.1,1.]) \\\n",
    "    .setShape(ry.ST.ssBox, size=[.06,.6,.6,.005]) \\\n",
    "    .setColor([1,.5,0]) \\\n",
    "    .setContact(True)\n",
    "\n",
    "C.view()\n",
    "qHome = C.getJointState()"
   ]
  },
  {
   "attachments": {},
   "cell_type": "markdown",
   "metadata": {},
   "source": [
    "First, solve the task without collision constraint"
   ]
  },
  {
   "cell_type": "code",
   "execution_count": 192,
   "metadata": {},
   "outputs": [
    {
     "name": "stdout",
     "output_type": "stream",
     "text": [
      "{ time: 0.011382, evals: 15, done: 1, feasible: 1, sos: 1.88428, f: 0, ineq: 0, eq: 0.00137863 }\n",
      "[[-3.70241485e-02 -4.54630799e-01 -3.79055723e-02 -2.00581393e+00\n",
      "  -9.40222567e-03  2.01357904e+00 -5.00007547e-01]\n",
      " [-7.40890682e-02 -4.09212132e-01 -7.58475761e-02 -2.01162969e+00\n",
      "  -1.88090439e-02  2.02716981e+00 -5.00014823e-01]\n",
      " [-1.11235483e-01 -3.63694694e-01 -1.13862496e-01 -2.01744919e+00\n",
      "  -2.82251617e-02  2.04078395e+00 -5.00021561e-01]\n",
      " [-1.48504025e-01 -3.18029492e-01 -1.51986923e-01 -2.02327463e+00\n",
      "  -3.76555145e-02  2.05443291e+00 -5.00027500e-01]\n",
      " [-1.85935203e-01 -2.72167968e-01 -1.90257620e-01 -2.02910847e+00\n",
      "  -4.71053777e-02  2.06812786e+00 -5.00032393e-01]\n",
      " [-2.23569382e-01 -2.26062096e-01 -2.28711590e-01 -2.03495364e+00\n",
      "  -5.65804760e-02  2.08187968e+00 -5.00036008e-01]\n",
      " [-2.61446772e-01 -1.79664437e-01 -2.67386152e-01 -2.04081351e+00\n",
      "  -6.60870876e-02  2.09569887e+00 -5.00038130e-01]\n",
      " [-2.99607454e-01 -1.32928147e-01 -3.06319041e-01 -2.04669197e+00\n",
      "  -7.56321424e-02  2.10959561e+00 -5.00038569e-01]\n",
      " [-3.38091410e-01 -8.58069544e-02 -3.45548500e-01 -2.05259344e+00\n",
      "  -8.52233116e-02  2.12357974e+00 -5.00037155e-01]\n",
      " [-3.76938584e-01 -3.82550948e-02 -3.85113402e-01 -2.05852287e+00\n",
      "  -9.48690861e-02  2.13766082e+00 -5.00033747e-01]\n",
      " [-3.37852458e-01 -4.38925430e-02 -3.45780606e-01 -2.05861288e+00\n",
      "  -8.52064811e-02  2.13589717e+00 -5.00028231e-01]\n",
      " [-2.99129387e-01 -4.90222940e-02 -3.06783592e-01 -2.05872233e+00\n",
      "  -7.55987104e-02  2.13425748e+00 -5.00020523e-01]\n",
      " [-2.60729263e-01 -5.36137479e-02 -2.68083824e-01 -2.05883798e+00\n",
      "  -6.60375084e-02  2.13275880e+00 -5.00010569e-01]\n",
      " [-2.22611954e-01 -5.76381339e-02 -2.29643380e-01 -2.05894757e+00\n",
      "  -5.65154207e-02  2.13141707e+00 -4.99998344e-01]\n",
      " [-1.84737241e-01 -6.10692168e-02 -1.91424839e-01 -2.05904006e+00\n",
      "  -4.70257227e-02  2.13024670e+00 -4.99983854e-01]\n",
      " [-1.47064785e-01 -6.38839472e-02 -1.53391170e-01 -2.05910579e+00\n",
      "  -3.75623277e-02  2.12926012e+00 -4.99967135e-01]\n",
      " [-1.09554119e-01 -6.60630415e-02 -1.15505642e-01 -2.05913675e+00\n",
      "  -2.81196869e-02  2.12846746e+00 -4.99948249e-01]\n",
      " [-7.21646484e-02 -6.75914833e-02 -7.77317426e-02 -2.05912664e+00\n",
      "  -1.86926851e-02  2.12787616e+00 -4.99927285e-01]\n",
      " [-3.48556784e-02 -6.84589425e-02 -4.00331086e-02 -2.05907111e+00\n",
      "  -9.27653342e-03  2.12749074e+00 -4.99904359e-01]\n",
      " [ 2.41355385e-03 -6.86601121e-02 -2.37346767e-03 -2.05896778e+00\n",
      "   1.33339359e-04  2.12731252e+00 -4.99879606e-01]\n",
      " [ 3.96838351e-02 -6.81949644e-02  3.52834120e-02 -2.05881642e+00\n",
      "   9.54139470e-03  2.12733945e+00 -4.99853183e-01]\n",
      " [ 7.69959291e-02 -6.70689355e-02  7.29737657e-02 -2.05861898e+00\n",
      "   1.89520909e-02  2.12756595e+00 -4.99825262e-01]\n",
      " [ 1.14390530e-01 -6.52930457e-02  1.10733874e-01 -2.05837971e+00\n",
      "   2.83699868e-02  2.12798281e+00 -4.99796031e-01]\n",
      " [ 1.51908219e-01 -6.28839703e-02  1.48600104e-01 -2.05810518e+00\n",
      "   3.77998427e-02  2.12857703e+00 -4.99765689e-01]\n",
      " [ 1.89589436e-01 -5.98640761e-02  1.86608951e-01 -2.05780444e+00\n",
      "   4.72467153e-02  2.12933177e+00 -4.99734443e-01]\n",
      " [ 2.27474450e-01 -5.62614472e-02  2.24797092e-01 -2.05748906e+00\n",
      "   5.67160481e-02  2.13022627e+00 -4.99702504e-01]\n",
      " [ 2.65603362e-01 -5.21099240e-02  2.63201431e-01 -2.05717329e+00\n",
      "   6.62137535e-02  2.13123568e+00 -4.99670088e-01]\n",
      " [ 3.04016110e-01 -4.74491926e-02  3.01859168e-01 -2.05687420e+00\n",
      "   7.57462860e-02  2.13233089e+00 -4.99637408e-01]\n",
      " [ 3.42752502e-01 -4.23249645e-02  3.40807861e-01 -2.05661196e+00\n",
      "   8.53207026e-02  2.13347834e+00 -4.99604679e-01]\n",
      " [ 3.81852259e-01 -3.67893014e-02  3.80085498e-01 -2.05641013e+00\n",
      "   9.49447097e-02  2.13463954e+00 -4.99572105e-01]\n",
      " [ 3.42627635e-01 -4.19837496e-02  3.40800230e-01 -2.05642671e+00\n",
      "   8.53968903e-02  2.13364197e+00 -4.99539888e-01]\n",
      " [ 3.03767573e-01 -4.67723787e-02  3.01845238e-01 -2.05650564e+00\n",
      "   7.58989052e-02  2.13265303e+00 -4.99508220e-01]\n",
      " [ 2.65233532e-01 -5.11086556e-02  2.63183836e-01 -2.05662525e+00\n",
      "   6.64432772e-02  2.13170609e+00 -4.99477281e-01]\n",
      " [ 2.26986851e-01 -5.49522230e-02  2.24779716e-01 -2.05676721e+00\n",
      "   5.70231498e-02  2.13082973e+00 -4.99447244e-01]\n",
      " [ 1.88988689e-01 -5.82684903e-02  1.86596848e-01 -2.05691616e+00\n",
      "   4.76322274e-02  2.13004818e+00 -4.99418265e-01]\n",
      " [ 1.51199979e-01 -6.10283726e-02  1.48599386e-01 -2.05705943e+00\n",
      "   3.82647033e-02  2.12938158e+00 -4.99390492e-01]\n",
      " [ 1.13581397e-01 -6.32081265e-02  1.10751591e-01 -2.05718684e+00\n",
      "   2.89151763e-02  2.12884623e+00 -4.99364058e-01]\n",
      " [ 7.60933534e-02 -6.47892432e-02  7.30177484e-02 -2.05729057e+00\n",
      "   1.95785625e-02  2.12845471e+00 -4.99339083e-01]\n",
      " [ 3.86960001e-02 -6.57583692e-02  3.53621110e-02 -2.05736498e+00\n",
      "   1.02500004e-02  2.12821598e+00 -4.99315674e-01]\n",
      " [ 1.34924520e-03 -6.61072313e-02 -2.25116198e-03 -2.05740659e+00\n",
      "   9.24755364e-04  2.12813552e+00 -4.99293928e-01]\n",
      " [-3.59872160e-02 -6.58325516e-02 -3.98580515e-02 -2.05741391e+00\n",
      "  -8.40187759e-03  2.12821540e+00 -4.99273927e-01]\n",
      " [-7.33538658e-02 -6.49359421e-02 -7.74947217e-02 -2.05738745e+00\n",
      "  -1.77346699e-02  2.12845435e+00 -4.99255745e-01]\n",
      " [-1.10791324e-01 -6.34237750e-02 -1.15197558e-01 -2.05732961e+00\n",
      "  -2.70785537e-02  2.12884787e+00 -4.99239445e-01]\n",
      " [-1.48340307e-01 -6.13070280e-02 -1.53003200e-01 -2.05724464e+00\n",
      "  -3.64387129e-02  2.12938832e+00 -4.99225078e-01]\n",
      " [-1.86041591e-01 -5.86011093e-02 -1.90948583e-01 -2.05713864e+00\n",
      "  -4.58206698e-02  2.13006497e+00 -4.99212688e-01]\n",
      " [-2.23935976e-01 -5.53256718e-02 -2.29070962e-01 -2.05701948e+00\n",
      "  -5.52303670e-02  2.13086416e+00 -4.99202313e-01]\n",
      " [-2.62064263e-01 -5.15044282e-02 -2.67407959e-01 -2.05689686e+00\n",
      "  -6.46742415e-02  2.13176930e+00 -4.99193980e-01]\n",
      " [-3.00467236e-01 -4.71649875e-02 -3.05997591e-01 -2.05678230e+00\n",
      "  -7.41592920e-02  2.13276093e+00 -4.99187711e-01]\n",
      " [-3.39185656e-01 -4.23387365e-02 -3.44878314e-01 -2.05668921e+00\n",
      "  -8.36931349e-02  2.13381674e+00 -4.99183524e-01]\n",
      " [-3.78260263e-01 -3.70607963e-02 -3.84089060e-01 -2.05663301e+00\n",
      "  -9.32840495e-02  2.13491146e+00 -4.99181427e-01]]\n"
     ]
    }
   ],
   "source": [
    "C.setJointState(qHome)\n",
    "komo = ry.KOMO(C, 5, 10, 1, True)\n",
    "komo.addControlObjective([], 0, 1e-1)\n",
    "komo.addControlObjective([], 1, 1e0)\n",
    "komo.addObjective([1], ry.FS.positionDiff, ['l_gripper', 'way1'], ry.OT.eq, [1e1])\n",
    "komo.addObjective([3], ry.FS.positionDiff, ['l_gripper', 'way3'], ry.OT.eq, [1e1])\n",
    "komo.addObjective([5], ry.FS.positionDiff, ['l_gripper', 'way1'], ry.OT.eq, [1e1])\n",
    "\n",
    "ret = ry.NLP_Solver(komo.nlp(), verbose=0 ) .solve()\n",
    "print(ret)\n",
    "q = komo.getPath()\n",
    "print(q)\n",
    "\n",
    "for t in range(q.shape[0]):\n",
    "    C.setJointState(q[t])\n",
    "    C.view(False, f'waypoint {t}')\n",
    "    time.sleep(0.1)"
   ]
  },
  {
   "attachments": {},
   "cell_type": "markdown",
   "metadata": {},
   "source": [
    "Then, we add collision constraint with \"accumulatedCollisions\" feature"
   ]
  },
  {
   "cell_type": "code",
   "execution_count": 193,
   "metadata": {},
   "outputs": [],
   "source": [
    "del komo\n",
    "del C"
   ]
  },
  {
   "cell_type": "code",
   "execution_count": 194,
   "metadata": {},
   "outputs": [],
   "source": [
    "C = ry.Config()\n",
    "C.addFile(ry.raiPath('scenarios/pandaSingle.g'))\n",
    "C.addFrame('way1'). setShape(ry.ST.marker, [.1]) .setPosition([.4, .2, 1.])\n",
    "C.addFrame('way3'). setShape(ry.ST.marker, [.1]) .setPosition([-.4, .2, 1.])\n",
    "\n",
    "C.addFrame('box') \\\n",
    "    .setPosition([-.25,.1,1.]) \\\n",
    "    .setShape(ry.ST.ssBox, size=[.06,.6,.6,.005]) \\\n",
    "    .setColor([1,.5,0]) \\\n",
    "    .setContact(True)\n",
    "\n",
    "C.view()\n",
    "qHome = C.getJointState()"
   ]
  },
  {
   "attachments": {},
   "cell_type": "markdown",
   "metadata": {},
   "source": [
    "But we see that there is a jump in the motion while passing the obstacle\n",
    "\n",
    "Here we will see the importance of the scale of the constraint (give values 0, 100 and 1 (which is default one) relatively). Then put 0.1 (1e-1) for perfect case. Do not forget to Del K and C or restart."
   ]
  },
  {
   "cell_type": "code",
   "execution_count": 195,
   "metadata": {},
   "outputs": [
    {
     "name": "stdout",
     "output_type": "stream",
     "text": [
      "{ time: 1.0082, evals: 728, done: 1, feasible: 0, sos: 3.4479, f: 0, ineq: 0, eq: 2.40483 }\n",
      "[[-0.039359   -0.45492098 -0.04642391 -2.00770361  0.03575031  2.01368697\n",
      "  -0.50155203]\n",
      " [-0.07875925 -0.40979932 -0.0928969  -2.01542051  0.07155876  2.02739257\n",
      "  -0.5031021 ]\n",
      " [-0.11824204 -0.36459234 -0.1394681  -2.02316398  0.10748346  2.04113542\n",
      "  -0.50464824]\n",
      " [-0.15784872 -0.31925725 -0.18618672 -2.03094732  0.1435825   2.05493419\n",
      "  -0.50618849]\n",
      " [-0.19762073 -0.27375111 -0.23310207 -2.0387838   0.17991389  2.06880757\n",
      "  -0.50772083]\n",
      " [-0.23759964 -0.22803081 -0.28026367 -2.04668673  0.21653555  2.08277429\n",
      "  -0.50924327]\n",
      " [-0.27782717 -0.18205297 -0.3277212  -2.05466937  0.25350528  2.09685314\n",
      "  -0.51075376]\n",
      " [-0.31834522 -0.13577391 -0.37552462 -2.06274499  0.29088075  2.11106296\n",
      "  -0.51225022]\n",
      " [-0.35919592 -0.08914962 -0.42372415 -2.07092685  0.3287194   2.12542265\n",
      "  -0.51373054]\n",
      " [-0.40042163 -0.04213569 -0.47237034 -2.07922819  0.36707846  2.13995117\n",
      "  -0.51519258]\n",
      " [-0.37276376 -0.05125547 -0.45122363 -2.10165621  0.41952001  2.11407675\n",
      "  -0.51663414]\n",
      " [-0.34549506 -0.0599522  -0.43055285 -2.12424802  0.47260527  2.08836293\n",
      "  -0.51805299]\n",
      " [-0.31858736 -0.06823683 -0.41033674 -2.14703464  0.5264002   2.06278251\n",
      "  -0.51944685]\n",
      " [-0.29201272 -0.07611979 -0.3905544  -2.17004694  0.58097036  2.03730836\n",
      "  -0.52081338]\n",
      " [-0.26574347 -0.08361097 -0.37118529 -2.19331554  0.63638076  2.01191339\n",
      "  -0.52215023]\n",
      " [-0.23975214 -0.09071973 -0.35220919 -2.21687082  0.69269591  1.98657057\n",
      "  -0.52345497]\n",
      " [-0.2140115  -0.09745483 -0.33360618 -2.24074279  0.74997964  1.96125289\n",
      "  -0.52472514]\n",
      " [-0.18849447 -0.10382448 -0.31535664 -2.26496109  0.80829514  1.93593339\n",
      "  -0.52595824]\n",
      " [-0.16317417 -0.10983629 -0.29744122 -2.28955485  0.86770479  1.91058506\n",
      "  -0.52715175]\n",
      " [-0.13802385 -0.11549724 -0.27984082 -2.3145527   0.92827016  1.88518088\n",
      "  -0.52830311]\n",
      " [-0.11301689 -0.12081369 -0.26253656 -2.33998268  0.9900519   1.85969377\n",
      "  -0.52940974]\n",
      " [-0.08812678 -0.12579131 -0.24550978 -2.36587217  1.05310967  1.83409652\n",
      "  -0.53046903]\n",
      " [-0.06332713 -0.1304351  -0.22874201 -2.39224783  1.11750206  1.80836175\n",
      "  -0.53147841]\n",
      " [-0.03859161 -0.13474933 -0.21221496 -2.41913558  1.18328655  1.78246189\n",
      "  -0.53243527]\n",
      " [-0.01389396 -0.13873749 -0.19591046 -2.44656047  1.25051937  1.75636908\n",
      "  -0.53333703]\n",
      " [ 0.010792   -0.1424023  -0.17981052 -2.47454668  1.31925547  1.73005509\n",
      "  -0.53418115]\n",
      " [ 0.03549242 -0.14574561 -0.16389724 -2.50311743  1.38954844  1.70349128\n",
      "  -0.53496512]\n",
      " [ 0.0602334  -0.14876839 -0.14815283 -2.53229489  1.46145035  1.67664848\n",
      "  -0.53568647]\n",
      " [ 0.08504101 -0.15147063 -0.13255962 -2.5621001   1.53501169  1.64949688\n",
      "  -0.53634281]\n",
      " [ 0.14285649 -0.15324944 -0.08349553 -2.59409045  1.60851861  1.6192826\n",
      "  -0.53713784]\n",
      " [ 0.08863038 -0.15067341 -0.13432589 -2.56851574  1.57485616  1.64325464\n",
      "  -0.53786515]\n",
      " [ 0.06192518 -0.14723336 -0.1572605  -2.54484127  1.54096266  1.66474465\n",
      "  -0.53888568]\n",
      " [ 0.03528876 -0.14347216 -0.18035385 -2.52182598  1.50886022  1.68590554\n",
      "  -0.53983974]\n",
      " [ 0.00869186 -0.13938959 -0.20363176 -2.4994643   1.47856466  1.70675744\n",
      "  -0.54072891]\n",
      " [-0.01789484 -0.13498447 -0.22712022 -2.4777496   1.45009042  1.72731981\n",
      "  -0.54155483]\n",
      " [-0.04450074 -0.13025475 -0.25084541 -2.4566743   1.42345073  1.74761161\n",
      "  -0.54231913]\n",
      " [-0.0711553  -0.12519754 -0.27483368 -2.43622992  1.39865779  1.76765131\n",
      "  -0.54302346]\n",
      " [-0.09788805 -0.1198092  -0.29911163 -2.41640722  1.37572293  1.787457\n",
      "  -0.54366947]\n",
      " [-0.12472862 -0.11408536 -0.32370605 -2.39719626  1.3546567   1.80704646\n",
      "  -0.54425875]\n",
      " [-0.15170669 -0.10802093 -0.34864401 -2.37858646  1.33546907  1.82643722\n",
      "  -0.54479283]\n",
      " [-0.17885204 -0.1016102  -0.37395283 -2.36056666  1.3181695   1.84564659\n",
      "  -0.54527321]\n",
      " [-0.20619455 -0.09484682 -0.39966017 -2.34312524  1.30276708  1.86469171\n",
      "  -0.54570126]\n",
      " [-0.23376421 -0.08772383 -0.42579397 -2.32625011  1.28927064  1.88358963\n",
      "  -0.54607828]\n",
      " [-0.26159114 -0.0802337  -0.45238254 -2.30992886  1.27768887  1.90235728\n",
      "  -0.54640546]\n",
      " [-0.28970558 -0.07236835 -0.47945456 -2.29414873  1.2680304   1.92101155\n",
      "  -0.54668386]\n",
      " [-0.31813794 -0.06411914 -0.5070391  -2.27889674  1.26030391  1.93956928\n",
      "  -0.54691439]\n",
      " [-0.3469188  -0.0554769  -0.53516567 -2.2641597   1.25451817  1.9580473\n",
      "  -0.54709786]\n",
      " [-0.3760789  -0.04643197 -0.56386421 -2.24992427  1.25068217  1.97646243\n",
      "  -0.54723489]\n",
      " [-0.40564922 -0.03697415 -0.59316513 -2.23617699  1.24880512  1.99483149\n",
      "  -0.54732598]\n",
      " [-0.43566094 -0.02709274 -0.62309934 -2.22290435  1.2488965   2.0131713\n",
      "  -0.54737144]]\n"
     ]
    }
   ],
   "source": [
    "C.setJointState(qHome)\n",
    "komo = ry.KOMO(C, 5, 10, 1, True)\n",
    "komo.addControlObjective([], 0, 1e-1)\n",
    "komo.addControlObjective([], 1, 1e0)\n",
    "komo.addObjective([], ry.FS.accumulatedCollisions, [], ry.OT.eq,[1e1]);\n",
    "komo.addObjective([1], ry.FS.positionDiff, ['l_gripper', 'way1'], ry.OT.eq, [1e1])\n",
    "komo.addObjective([3], ry.FS.positionDiff, ['l_gripper', 'way3'], ry.OT.eq, [1e1])\n",
    "komo.addObjective([5], ry.FS.positionDiff, ['l_gripper', 'way1'], ry.OT.eq, [1e1])\n",
    "\n",
    "ret = ry.NLP_Solver(komo.nlp(), verbose=0 ) .solve()\n",
    "print(ret)\n",
    "q = komo.getPath()\n",
    "print(q)\n",
    "\n",
    "for t in range(q.shape[0]):\n",
    "    C.setJointState(q[t])\n",
    "    C.view(False, f'waypoint {t}')\n",
    "    time.sleep(0.1)"
   ]
  },
  {
   "attachments": {},
   "cell_type": "markdown",
   "metadata": {},
   "source": [
    "komo.addObjective([], ry.FS.accumulatedCollisions, [], ry.OT.eq);\n",
    "\n",
    "    komo.addObjective(...): This is calling a method named addObjective on the komo object, which is an instance of a KOMO optimizer.\n",
    "\n",
    "    []: The first argument [] specifies the time intervals over which this objective applies. In this case, [] means it applies to all time intervals. In other words, this objective is valid for the entire duration of the optimization.\n",
    "\n",
    "    ry.FS.accumulatedCollisions: The second argument ry.FS.accumulatedCollisions is specifying the type of feature to use for this objective. In this case, it's using a feature related to accumulated collisions. This means the objective will aim to minimize the total amount of collisions that occur throughout the motion.\n",
    "\n",
    "    []: The third argument [] specifies the frames associated with this feature. Since ry.FS.accumulatedCollisions doesn't require specific frame associations, this argument is left empty.\n",
    "\n",
    "    ry.OT.eq: The fourth argument ry.OT.eq specifies the type of objective. Here, it's an equality constraint. This means the optimizer will aim to make the value of the accumulated collisions equal to a certain target value (which is default value zero in here).\n",
    "\n",
    "Putting it all together, this line is instructing the optimizer to minimize the total amount of accumulated collisions over the entire duration of the motion, treating it as an equality constraint. This is a way to prioritize collision-free or low-collision solutions."
   ]
  },
  {
   "attachments": {},
   "cell_type": "markdown",
   "metadata": {},
   "source": [
    "##  Part b) Possible State Solution by KOMO"
   ]
  },
  {
   "cell_type": "code",
   "execution_count": 150,
   "metadata": {},
   "outputs": [],
   "source": [
    "del komo\n",
    "del C"
   ]
  },
  {
   "cell_type": "code",
   "execution_count": 3,
   "metadata": {},
   "outputs": [],
   "source": [
    "C = ry.Config()\n",
    "C.addFile(ry.raiPath('scenarios/pandaSingle.g'))\n",
    "C.addFrame('way3'). setShape(ry.ST.marker, [.1]) .setPosition([-.4, .2, 1.])\n",
    "\n",
    "C.addFrame('box') \\\n",
    "    .setPosition([-.25,.1,1.3]) \\\n",
    "    .setShape(ry.ST.ssBox, size=[.06,.7,.5,.005]) \\\n",
    "    .setColor([1,.5,0]) \\\n",
    "    .setContact(True)\n",
    "\n",
    "C.view()\n",
    "qHome = C.getJointState()"
   ]
  },
  {
   "cell_type": "code",
   "execution_count": 4,
   "metadata": {},
   "outputs": [
    {
     "name": "stdout",
     "output_type": "stream",
     "text": [
      "{ time: 0.332288, evals: 538, done: 1, feasible: 1, sos: 59.8798, f: 0, ineq: 0, eq: 0.0316176 }\n",
      "size of path: (10, 7)\n"
     ]
    }
   ],
   "source": [
    "C.setJointState(qHome)\n",
    "komo = ry.KOMO(C, 1, 10, 2, True)\n",
    "komo.addControlObjective([], 0, 1e-1) \n",
    "komo.addControlObjective([], 2, 1e0)\n",
    "komo.addObjective([], ry.FS.accumulatedCollisions, [], ry.OT.eq,[1e1]);\n",
    "komo.addObjective([1], ry.FS.positionDiff, ['l_gripper', 'way3'], ry.OT.eq, [1e1])\n",
    "komo.addObjective([1], ry.FS.jointState, [], ry.OT.eq, [1e1], [], order=1)\n",
    "\n",
    "ret = ry.NLP_Solver(komo.nlp(), verbose=0 ) .solve()\n",
    "print(ret)\n",
    "q = komo.getPath()\n",
    "print('size of path:', q.shape)\n",
    "\n",
    "for t in range(q.shape[0]):\n",
    "    C.setJointState(q[t])\n",
    "    C.view(False, f'waypoint {t}')\n",
    "    time.sleep(.1)"
   ]
  },
  {
   "attachments": {},
   "cell_type": "markdown",
   "metadata": {},
   "source": [
    "## Possible State Solution by RRT"
   ]
  },
  {
   "cell_type": "code",
   "execution_count": 5,
   "metadata": {},
   "outputs": [
    {
     "data": {
      "text/plain": [
       "0"
      ]
     },
     "execution_count": 5,
     "metadata": {},
     "output_type": "execute_result"
    }
   ],
   "source": [
    "# that's the goal configuration\n",
    "qT = komo.getPath()[-1]\n",
    "C.setJointState(qT)\n",
    "C.view(False, \"IK solution\")"
   ]
  },
  {
   "cell_type": "code",
   "execution_count": 6,
   "metadata": {},
   "outputs": [
    {
     "name": "stdout",
     "output_type": "stream",
     "text": [
      "{ time: 0.011427, evals: 60, done: 1, feasible: 1, sos: -1, f: -1, ineq: -1, eq: -1 }\n"
     ]
    }
   ],
   "source": [
    "#define a path finding problem\n",
    "rrt = ry.PathFinder()\n",
    "rrt.setProblem(C, [qHome], [qT])\n",
    "\n",
    "ret = rrt.solve()\n",
    "print(ret)\n",
    "path = ret.x"
   ]
  },
  {
   "cell_type": "code",
   "execution_count": 7,
   "metadata": {},
   "outputs": [],
   "source": [
    "# display the path\n",
    "for t in range(0, path.shape[0]-1):\n",
    "    C.setJointState(path[t])\n",
    "    C.view()\n",
    "    time.sleep(.1)"
   ]
  },
  {
   "attachments": {},
   "cell_type": "markdown",
   "metadata": {},
   "source": [
    "## RRT Solution on BotOp "
   ]
  },
  {
   "cell_type": "code",
   "execution_count": 8,
   "metadata": {},
   "outputs": [],
   "source": [
    "# run the path with botop\n",
    "C.setJointState(qHome)\n",
    "ry.params_add({'botsim/verbose': 1., 'physx/motorKp': 10000., 'physx/motorKd': 1000.})\n",
    "bot = ry.BotOp(C, False)\n",
    "bot.home(C)"
   ]
  },
  {
   "cell_type": "code",
   "execution_count": 9,
   "metadata": {},
   "outputs": [
    {
     "name": "stdout",
     "output_type": "stream",
     "text": [
      "0.184748 1\n"
     ]
    }
   ],
   "source": [
    "bot.moveAutoTimed(path, 1., 1.)\n",
    "while bot.getTimeToEnd()>0:\n",
    "    bot.sync(C, .1)"
   ]
  },
  {
   "cell_type": "code",
   "execution_count": 10,
   "metadata": {},
   "outputs": [
    {
     "name": "stdout",
     "output_type": "stream",
     "text": [
      "-- bot.cpp:~BotOp:106(0) shutting down BotOp...\n",
      "-- simulation.cpp:~BotThreadedSim:56(0) shutting down SimThread\n",
      "-- simulation.cpp:~Simulation:148(0) shutting down Simulation\n"
     ]
    }
   ],
   "source": [
    "del komo\n",
    "del rrt\n",
    "del bot\n",
    "del C"
   ]
  },
  {
   "attachments": {},
   "cell_type": "markdown",
   "metadata": {},
   "source": [
    "Lets give impossible state"
   ]
  },
  {
   "attachments": {},
   "cell_type": "markdown",
   "metadata": {},
   "source": [
    "##  Part c) Impossible State Solution by KOMO"
   ]
  },
  {
   "cell_type": "code",
   "execution_count": 11,
   "metadata": {},
   "outputs": [],
   "source": [
    "C = ry.Config()\n",
    "C.addFile(ry.raiPath('scenarios/pandaSingle.g'))\n",
    "C.addFrame('way3'). setShape(ry.ST.marker, [.1]) .setPosition([-.4, .2, 1.])\n",
    "\n",
    "C.addFrame('box') \\\n",
    "    .setPosition([-.25,.1,1.]) \\\n",
    "    .setShape(ry.ST.ssBox, size=[.06,.7,.7,.005]) \\\n",
    "    .setColor([1,.5,0]) \\\n",
    "    .setContact(True)\n",
    "\n",
    "C.view()\n",
    "qHome = C.getJointState()"
   ]
  },
  {
   "cell_type": "code",
   "execution_count": 12,
   "metadata": {},
   "outputs": [
    {
     "name": "stdout",
     "output_type": "stream",
     "text": [
      "{ time: 0.058206, evals: 57, done: 1, feasible: 1, sos: 7.82928, f: 0, ineq: 0, eq: 0.176068 }\n",
      "size of path: (10, 7)\n"
     ]
    }
   ],
   "source": [
    "C.setJointState(qHome)\n",
    "komo = ry.KOMO(C, 1, 10, 2, True)\n",
    "komo.addControlObjective([], 0, 1e-1) \n",
    "komo.addControlObjective([], 2, 1e0)\n",
    "komo.addObjective([], ry.FS.accumulatedCollisions, [], ry.OT.eq,[1e-1]);\n",
    "komo.addObjective([1], ry.FS.positionDiff, ['l_gripper', 'way3'], ry.OT.eq, [1e1])\n",
    "komo.addObjective([1], ry.FS.jointState, [], ry.OT.eq, [1e1], [], order=1)\n",
    "\n",
    "ret = ry.NLP_Solver(komo.nlp(), verbose=0 ) .solve()\n",
    "print(ret)\n",
    "q = komo.getPath()\n",
    "print('size of path:', q.shape)\n",
    "\n",
    "for t in range(q.shape[0]):\n",
    "    C.setJointState(q[t])\n",
    "    C.view(False, f'waypoint {t}')\n",
    "    time.sleep(.1)"
   ]
  },
  {
   "attachments": {},
   "cell_type": "markdown",
   "metadata": {},
   "source": [
    "## Impossible State Solution by RRT"
   ]
  },
  {
   "cell_type": "code",
   "execution_count": 13,
   "metadata": {},
   "outputs": [
    {
     "data": {
      "text/plain": [
       "0"
      ]
     },
     "execution_count": 13,
     "metadata": {},
     "output_type": "execute_result"
    }
   ],
   "source": [
    "# that's the goal configuration\n",
    "qT = komo.getPath()[-1]\n",
    "C.setJointState(qT)\n",
    "C.view(False, \"IK solution\")"
   ]
  },
  {
   "cell_type": "code",
   "execution_count": 14,
   "metadata": {},
   "outputs": [
    {
     "name": "stdout",
     "output_type": "stream",
     "text": [
      "-- RRT_PathFinder.cpp:RRT_SingleTree:55(0) rooting RRT with infeasible start configuration -- that's likely to fail: query is:\n",
      "query: h_goal: 0 g_coll: 0.191575 isGoal: 1 isFeasible: 0\n",
      "{ time: 0.99164, evals: 5001, done: 1, feasible: 0, sos: -1, f: -1, ineq: -1, eq: -1 }\n"
     ]
    }
   ],
   "source": [
    "#define a path finding problem\n",
    "rrt = ry.PathFinder()\n",
    "rrt.setProblem(C, [qHome], [qT])\n",
    "\n",
    "ret = rrt.solve()\n",
    "print(ret)\n",
    "path = ret.x"
   ]
  },
  {
   "attachments": {},
   "cell_type": "markdown",
   "metadata": {},
   "source": [
    "So we will get an error since there is no feasible solution"
   ]
  },
  {
   "cell_type": "code",
   "execution_count": 16,
   "metadata": {},
   "outputs": [
    {
     "ename": "IndexError",
     "evalue": "tuple index out of range",
     "output_type": "error",
     "traceback": [
      "\u001b[0;31m---------------------------------------------------------------------------\u001b[0m",
      "\u001b[0;31mIndexError\u001b[0m                                Traceback (most recent call last)",
      "\u001b[1;32m/home/bornozlusapiens/codes/cs449/tutorial2/part1.ipynb Cell 32\u001b[0m line \u001b[0;36m2\n\u001b[1;32m      <a href='vscode-notebook-cell:/home/bornozlusapiens/codes/cs449/tutorial2/part1.ipynb#X43sZmlsZQ%3D%3D?line=0'>1</a>\u001b[0m \u001b[39m# display the path\u001b[39;00m\n\u001b[0;32m----> <a href='vscode-notebook-cell:/home/bornozlusapiens/codes/cs449/tutorial2/part1.ipynb#X43sZmlsZQ%3D%3D?line=1'>2</a>\u001b[0m \u001b[39mfor\u001b[39;00m t \u001b[39min\u001b[39;00m \u001b[39mrange\u001b[39m(\u001b[39m0\u001b[39m, path\u001b[39m.\u001b[39;49mshape[\u001b[39m0\u001b[39;49m]\u001b[39m-\u001b[39m\u001b[39m1\u001b[39m):\n\u001b[1;32m      <a href='vscode-notebook-cell:/home/bornozlusapiens/codes/cs449/tutorial2/part1.ipynb#X43sZmlsZQ%3D%3D?line=2'>3</a>\u001b[0m     C\u001b[39m.\u001b[39msetJointState(path[t])\n\u001b[1;32m      <a href='vscode-notebook-cell:/home/bornozlusapiens/codes/cs449/tutorial2/part1.ipynb#X43sZmlsZQ%3D%3D?line=3'>4</a>\u001b[0m     C\u001b[39m.\u001b[39mview()\n",
      "\u001b[0;31mIndexError\u001b[0m: tuple index out of range"
     ]
    }
   ],
   "source": [
    "# display the path\n",
    "for t in range(0, path.shape[0]-1):\n",
    "    C.setJointState(path[t])\n",
    "    C.view()\n",
    "    time.sleep(.1)"
   ]
  }
 ],
 "metadata": {
  "kernelspec": {
   "display_name": ".venv",
   "language": "python",
   "name": "python3"
  },
  "language_info": {
   "codemirror_mode": {
    "name": "ipython",
    "version": 3
   },
   "file_extension": ".py",
   "mimetype": "text/x-python",
   "name": "python",
   "nbconvert_exporter": "python",
   "pygments_lexer": "ipython3",
   "version": "3.10.13"
  },
  "orig_nbformat": 4
 },
 "nbformat": 4,
 "nbformat_minor": 2
}
